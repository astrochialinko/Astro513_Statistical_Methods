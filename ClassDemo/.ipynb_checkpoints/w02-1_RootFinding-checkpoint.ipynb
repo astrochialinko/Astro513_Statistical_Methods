{
 "cells": [
  {
   "cell_type": "markdown",
   "metadata": {},
   "source": [
    "### Nonlinear Solves & Root Finding"
   ]
  },
  {
   "cell_type": "code",
   "execution_count": 4,
   "metadata": {},
   "outputs": [],
   "source": [
    "%matplotlib widget\n",
    "import numpy as np\n",
    "import matplotlib.pyplot as plt"
   ]
  },
  {
   "cell_type": "markdown",
   "metadata": {},
   "source": [
    "One often runs into the need to solve an equation or a system of equations of the form\n",
    "$$ f(x) = 0 $$\n",
    "The set of solutions $\\left\\{x_i\\right\\}$ (for there may be more than one) are called the *roots* of $f(x)$ by analogy to the important case where $f$ is a polynomial. We will first consider a scalar function $f(x)$, where several satisfactory algorithms exist for most reasonably well-behaved functions. Later, we will have more to say about the far more difficult problem of multi-dimensional root-finding.\n",
    "\n",
    "Except for the special case of polynomials, there is no general method for finding all roots of a function; one always needs some advance knowledge of $f$'s behavior, some approximate idea of where the solution you wish to find lies and its distance from other solutions. Often, the best way to proceed is to plot $f$ and find the approximate location of a solution by inspection.\n",
    "\n"
   ]
  },
  {
   "cell_type": "markdown",
   "metadata": {},
   "source": [
    "#### Bisection\n",
    "\n",
    "Since they start from some initial guess at a solution and proceed to refine this guess, all methods for finding solutions to non-linear systems are *iterative*. An important class of methods *bracket* the solution. They take for input two values $x_\\textrm{low}$ and $x_\\textrm{high}$ which are lower and upper bounds on the desired solution. Since $f$ crosses zero on $[x_\\textrm{low}, x_\\textrm{high}]$, we must have\n",
    "$$ f(x_\\textrm{low}) f(x_\\textrm{high}) < 0 $$\n",
    "This expression is an *invariant* of the algorithm; as we change the two values of $x$, if the two values continue to lie either side of the solution, the expression must remain true. The method of bisection then proceeds\n",
    "by iteratively moving these values such that they isolate the solution in an ever-narrowing range.\n",
    "\n",
    "1. Set $x_\\textrm{mid} = (x_\\textrm{low}+x_\\textrm{high})/2$. $x_\\textrm{mid}$ must lie between the two bracketing values, and hence must be closer\n",
    "to the desired solution than one of them.\n",
    "\n",
    "2. Now replace one of the bracketing values by $x\\textrm{mid}$; choose the one which will preserve the invariant. That is, if $f(x_\\textrm{mid})f(x_\\textrm{high})<0$, then assign $x_\\textrm{low}=x_\\textrm{mid}$, otherwise assign $x_\\textrm{high}=x_\\textrm{mid}$,\n",
    "\n",
    "3. Repeat from step 1 until some condition is satisfied."
   ]
  },
  {
   "cell_type": "markdown",
   "metadata": {},
   "source": [
    "The criteria for success may be that $|f(x)|<\\epsilon_f$ and/or that $|x_\\textrm{high}-x_\\textrm{low}| < \\epsilon_x$. In either case, one cannot be too greedy since we are working in finite-precision arithmetic. For $x\\sim1$, for example, one cannot make $\\epsilon_x<10^{-13}$ or so since we may not be able to represent the difference $|x_\\textrm{high}-x_\\textrm{low}|$ to more than 13 decimal digits or so with an 8-byte floating point value. Likewise, if $|f'(x)|$ is large, then a very small change in $x$ will make a very large change in $f(x)$; if $\\epsilon_f$ is set too small there may not be enough resolution in $x$ to achieve a solution."
   ]
  },
  {
   "cell_type": "markdown",
   "metadata": {},
   "source": [
    "Here is a simple implementation of bisection:"
   ]
  },
  {
   "cell_type": "code",
   "execution_count": 5,
   "metadata": {},
   "outputs": [],
   "source": [
    "def bisection(f, xLow, xHigh, epsx, epsf, maxit=50):\n",
    "    \"\"\"\n",
    "    root-finding by bisection\n",
    "    f(x) is the function, returning the value of f at x\n",
    "    xLow and xHigh must bound one and only one root\n",
    "    epsx and epsf are the desired accuracies of x and the function value\n",
    "    maxit is the maximum number of iterations allowed\n",
    "    \"\"\"\n",
    "    \n",
    "    # if low, high bounds given in reverse order, swap them\n",
    "    #if xLow>xHigh: xLow, xHigh = xHigh, xLow\n",
    "\n",
    "    fLow = f(xLow)\n",
    "    fHigh = f(xHigh)\n",
    "    assert (fLow*fHigh < 0), \"bisection: bounds must bracket root\"\n",
    "\n",
    "    for it in range(maxit):\n",
    "        # determine midpoint\n",
    "        xMid = 0.5*(xLow+xHigh)\n",
    "        fMid = f(xMid)\n",
    "\n",
    "        # update the bound which preserves the invariant\n",
    "        if fHigh*fMid < 0:\n",
    "            xLow = xMid\n",
    "            fLow = fMid\n",
    "        else:\n",
    "            xHigh = xMid\n",
    "            fHigh = fMid\n",
    "            \n",
    "        assert (xHigh >= xLow) # check invariant is still satisfied\n",
    "\n",
    "        # test for convergence\n",
    "        if (abs(xHigh-xLow) < epsx) or (abs(fMid) < epsf):\n",
    "            return xMid, it\n",
    "            \n",
    "    raise ValueError(\"bisection: maximum number of iterations exceeded\")"
   ]
  },
  {
   "cell_type": "markdown",
   "metadata": {},
   "source": [
    "As an example, let's solve for the roots of the quintic polynomial\n",
    "$$ f(x) = (x-3)^3 (x+2) (x-1) = x^5-8x^4+16x^3+18x^2-81x+54 $$"
   ]
  },
  {
   "cell_type": "markdown",
   "metadata": {},
   "source": [
    "While we can see by inspection that the roots are $\\left\\{-2,1,3\\right\\}$, let's first plot the function"
   ]
  },
  {
   "cell_type": "code",
   "execution_count": 8,
   "metadata": {},
   "outputs": [
    {
     "data": {
      "application/vnd.jupyter.widget-view+json": {
       "model_id": "f5e080820dc2478e9c519e7ea6d4cc88",
       "version_major": 2,
       "version_minor": 0
      },
      "text/plain": [
       "Canvas(toolbar=Toolbar(toolitems=[('Home', 'Reset original view', 'home', 'home'), ('Back', 'Back to previous …"
      ]
     },
     "metadata": {},
     "output_type": "display_data"
    },
    {
     "data": {
      "text/plain": [
       "[<matplotlib.lines.Line2D at 0x7fb0e0db8990>]"
      ]
     },
     "execution_count": 8,
     "metadata": {},
     "output_type": "execute_result"
    }
   ],
   "source": [
    "def quintic(x):\n",
    "    # Horner's method for evaluating a polynomial:\n",
    "    return 54 + x*(-81+x*(18+x*(16+x*(-8+x))))\n",
    "    \n",
    "x = np.linspace(-2.2,4,100)\n",
    "y = quintic(x)\n",
    "fig,ax = plt.subplots()\n",
    "ax.plot(x,y)\n",
    "ax.plot([x[0],x[-1]],[0,0])"
   ]
  },
  {
   "cell_type": "markdown",
   "metadata": {},
   "source": [
    "A simple test of our bisection routine:"
   ]
  },
  {
   "cell_type": "code",
   "execution_count": 9,
   "metadata": {},
   "outputs": [
    {
     "name": "stdout",
     "output_type": "stream",
     "text": [
      "initial bounds: [-4.5, -1.1]\n",
      "root is at -2.0000000000873115 found after 34 iterations\n",
      "    f(ans) = -3.274e-08  |ans-root| = 8.731e-11\n",
      "\n",
      "initial bounds: [-1.1, 1.8]\n",
      "root is at 1.0000000000261937 found after 34 iterations\n",
      "    f(ans) = -6.286e-10  |ans-root| = 2.619e-11\n",
      "\n",
      "initial bounds: [1.8, 4.5]\n",
      "root is at 3.00003662109375 found after 12 iterations\n",
      "    f(ans) = 5.045e-13  |ans-root| = 3.662e-05\n",
      "\n"
     ]
    }
   ],
   "source": [
    "bounds = [-4.5, -1.1, 1.8, 4.5]\n",
    "roots = [-2, 1, 3]\n",
    "epsx = 1e-10\n",
    "epsf = 1e-10\n",
    "\n",
    "f = quintic\n",
    "for i in range(3):\n",
    "    print(f\"initial bounds: [{bounds[i]}, {bounds[i+1]}]\")\n",
    "    ans, it = bisection(quintic, bounds[i], bounds[i+1], epsx, epsf)\n",
    "    print(f\"root is at {ans} found after {it} iterations\")\n",
    "    print(f\"    f(ans) = {f(ans):.3e}  |ans-root| = {abs(ans-roots[i]):.3e}\")\n",
    "    assert abs(ans-roots[i])<epsx or abs(f(ans))<epsf\n",
    "    print()"
   ]
  },
  {
   "cell_type": "markdown",
   "metadata": {},
   "source": [
    "Now let's try the quartic polynomial\n",
    "$$ f(x) = (x-3)^2 (x+2) (x-1) = x^4 -5x^3 + x^2 + 21x - 18 $$"
   ]
  },
  {
   "cell_type": "code",
   "execution_count": 10,
   "metadata": {},
   "outputs": [
    {
     "name": "stdout",
     "output_type": "stream",
     "text": [
      "initial bounds: [-4.5, -1.1]\n",
      "root is at -2.0000000000873115 found after 34 iterations\n",
      "    f(ans) = 6.548e-09  |ans-root| = 8.731e-11\n",
      "\n",
      "initial bounds: [-1.1, 1.8]\n",
      "root is at 1.0000000000261937 found after 34 iterations\n",
      "    f(ans) = 3.143e-10  |ans-root| = 2.619e-11\n",
      "\n",
      "initial bounds: [1.8, 4.5]\n"
     ]
    },
    {
     "ename": "AssertionError",
     "evalue": "bisection: bounds must bracket root",
     "output_type": "error",
     "traceback": [
      "\u001b[0;31m---------------------------------------------------------------------------\u001b[0m",
      "\u001b[0;31mAssertionError\u001b[0m                            Traceback (most recent call last)",
      "\u001b[0;32m<ipython-input-10-5664dfd0ece2>\u001b[0m in \u001b[0;36m<module>\u001b[0;34m\u001b[0m\n\u001b[1;32m      9\u001b[0m \u001b[0;32mfor\u001b[0m \u001b[0mi\u001b[0m \u001b[0;32min\u001b[0m \u001b[0mrange\u001b[0m\u001b[0;34m(\u001b[0m\u001b[0;36m3\u001b[0m\u001b[0;34m)\u001b[0m\u001b[0;34m:\u001b[0m\u001b[0;34m\u001b[0m\u001b[0;34m\u001b[0m\u001b[0m\n\u001b[1;32m     10\u001b[0m     \u001b[0mprint\u001b[0m\u001b[0;34m(\u001b[0m\u001b[0;34mf\"initial bounds: [{bounds[i]}, {bounds[i+1]}]\"\u001b[0m\u001b[0;34m)\u001b[0m\u001b[0;34m\u001b[0m\u001b[0;34m\u001b[0m\u001b[0m\n\u001b[0;32m---> 11\u001b[0;31m     \u001b[0mans\u001b[0m\u001b[0;34m,\u001b[0m \u001b[0mit\u001b[0m \u001b[0;34m=\u001b[0m \u001b[0mbisection\u001b[0m\u001b[0;34m(\u001b[0m\u001b[0mquartic\u001b[0m\u001b[0;34m,\u001b[0m \u001b[0mbounds\u001b[0m\u001b[0;34m[\u001b[0m\u001b[0mi\u001b[0m\u001b[0;34m]\u001b[0m\u001b[0;34m,\u001b[0m \u001b[0mbounds\u001b[0m\u001b[0;34m[\u001b[0m\u001b[0mi\u001b[0m\u001b[0;34m+\u001b[0m\u001b[0;36m1\u001b[0m\u001b[0;34m]\u001b[0m\u001b[0;34m,\u001b[0m \u001b[0mepsx\u001b[0m\u001b[0;34m,\u001b[0m \u001b[0mepsf\u001b[0m\u001b[0;34m)\u001b[0m\u001b[0;34m\u001b[0m\u001b[0;34m\u001b[0m\u001b[0m\n\u001b[0m\u001b[1;32m     12\u001b[0m     \u001b[0mprint\u001b[0m\u001b[0;34m(\u001b[0m\u001b[0;34mf\"root is at {ans} found after {it} iterations\"\u001b[0m\u001b[0;34m)\u001b[0m\u001b[0;34m\u001b[0m\u001b[0;34m\u001b[0m\u001b[0m\n\u001b[1;32m     13\u001b[0m     \u001b[0mprint\u001b[0m\u001b[0;34m(\u001b[0m\u001b[0;34mf\"    f(ans) = {f(ans):.3e}  |ans-root| = {abs(ans-roots[i]):.3e}\"\u001b[0m\u001b[0;34m)\u001b[0m\u001b[0;34m\u001b[0m\u001b[0;34m\u001b[0m\u001b[0m\n",
      "\u001b[0;32m<ipython-input-5-0123213b0a58>\u001b[0m in \u001b[0;36mbisection\u001b[0;34m(f, xLow, xHigh, epsx, epsf, maxit)\u001b[0m\n\u001b[1;32m     13\u001b[0m     \u001b[0mfLow\u001b[0m \u001b[0;34m=\u001b[0m \u001b[0mf\u001b[0m\u001b[0;34m(\u001b[0m\u001b[0mxLow\u001b[0m\u001b[0;34m)\u001b[0m\u001b[0;34m\u001b[0m\u001b[0;34m\u001b[0m\u001b[0m\n\u001b[1;32m     14\u001b[0m     \u001b[0mfHigh\u001b[0m \u001b[0;34m=\u001b[0m \u001b[0mf\u001b[0m\u001b[0;34m(\u001b[0m\u001b[0mxHigh\u001b[0m\u001b[0;34m)\u001b[0m\u001b[0;34m\u001b[0m\u001b[0;34m\u001b[0m\u001b[0m\n\u001b[0;32m---> 15\u001b[0;31m     \u001b[0;32massert\u001b[0m \u001b[0;34m(\u001b[0m\u001b[0mfLow\u001b[0m\u001b[0;34m*\u001b[0m\u001b[0mfHigh\u001b[0m \u001b[0;34m<\u001b[0m \u001b[0;36m0\u001b[0m\u001b[0;34m)\u001b[0m\u001b[0;34m,\u001b[0m \u001b[0;34m\"bisection: bounds must bracket root\"\u001b[0m\u001b[0;34m\u001b[0m\u001b[0;34m\u001b[0m\u001b[0m\n\u001b[0m\u001b[1;32m     16\u001b[0m \u001b[0;34m\u001b[0m\u001b[0m\n\u001b[1;32m     17\u001b[0m     \u001b[0;32mfor\u001b[0m \u001b[0mit\u001b[0m \u001b[0;32min\u001b[0m \u001b[0mrange\u001b[0m\u001b[0;34m(\u001b[0m\u001b[0mmaxit\u001b[0m\u001b[0;34m)\u001b[0m\u001b[0;34m:\u001b[0m\u001b[0;34m\u001b[0m\u001b[0;34m\u001b[0m\u001b[0m\n",
      "\u001b[0;31mAssertionError\u001b[0m: bisection: bounds must bracket root"
     ]
    }
   ],
   "source": [
    "def quartic(x):\n",
    "    return -18+x*(21+x*(1+x*(-5+x)))\n",
    "\n",
    "bounds = [-4.5, -1.1, 1.8, 4.5]\n",
    "roots = [-2, 1, 3]\n",
    "epsx = 1e-10\n",
    "epsf = 1e-10\n",
    "f = quartic\n",
    "for i in range(3):\n",
    "    print(f\"initial bounds: [{bounds[i]}, {bounds[i+1]}]\")\n",
    "    ans, it = bisection(quartic, bounds[i], bounds[i+1], epsx, epsf)\n",
    "    print(f\"root is at {ans} found after {it} iterations\")\n",
    "    print(f\"    f(ans) = {f(ans):.3e}  |ans-root| = {abs(ans-roots[i]):.3e}\")\n",
    "    assert abs(ans-roots[i])<epsx or abs(f(ans))<epsf\n",
    "    print()"
   ]
  },
  {
   "cell_type": "markdown",
   "metadata": {},
   "source": [
    "What went wrong here? Let's try plotting the function"
   ]
  },
  {
   "cell_type": "code",
   "execution_count": 11,
   "metadata": {},
   "outputs": [
    {
     "data": {
      "application/vnd.jupyter.widget-view+json": {
       "model_id": "bdd092e2e4784833b4f2b463c04233a8",
       "version_major": 2,
       "version_minor": 0
      },
      "text/plain": [
       "Canvas(toolbar=Toolbar(toolitems=[('Home', 'Reset original view', 'home', 'home'), ('Back', 'Back to previous …"
      ]
     },
     "metadata": {},
     "output_type": "display_data"
    },
    {
     "data": {
      "text/plain": [
       "[<matplotlib.lines.Line2D at 0x7fb0e0e12090>]"
      ]
     },
     "execution_count": 11,
     "metadata": {},
     "output_type": "execute_result"
    }
   ],
   "source": [
    "x = np.linspace(-2.2,4,100)\n",
    "y = quartic(x)\n",
    "fig,ax = plt.subplots()\n",
    "ax.plot(x,y)\n",
    "ax.plot([x[0],x[-1]],[0,0])"
   ]
  },
  {
   "cell_type": "markdown",
   "metadata": {},
   "source": [
    "Mathematically, there is in fact at root at $x=3$, but the root is, by accident, a local minimum of the function which just touches zero. In the description of the method above, we blithly assumed that if a function has a root, it has to cross zero. In fact, it does not, as this case shows!\n",
    "\n",
    "Moral: you need to know something about the function whose roots you are looking to find! A zero derivative at the root may be problematic, for example, even if the algotithm makes no explicit use of derivatives."
   ]
  },
  {
   "cell_type": "markdown",
   "metadata": {},
   "source": [
    "The error in the initial guess at the root is, in a sense, the size of the bracketing interval $\\epsilon_0 = x_\\textrm{high}-x_\\textrm{low}$. By taking the midpoint of this interval to replace one of the bracketing values, at each iteration bisection\n",
    "reduces the error by a factor of 2; at each iteration $i$, $\\epsilon_{i+1} = \\epsilon_i/2$. Thus, if we desire an error of $\\epsilon$ in the value of $x$, the number of iterations required is\n",
    "$$ n = \\log_2\\frac{\\epsilon_0}{\\epsilon} $$\n",
    "or about one binary bit per iteration. When the error in an iterative method decreases as $\\epsilon_{i+1} = \\textrm{const}\\ \\epsilon_i$, the method is said to converge *linearly*."
   ]
  },
  {
   "cell_type": "markdown",
   "metadata": {},
   "source": [
    "\n",
    "\n",
    "#### Regula Falsi\n",
    "\n",
    "The *Regula Falsi*, or false position, method tries to improve upon bisection by using a linear approximation to the function between the lower and upper bounds, while retaining the guaranteed convergence property of bisection (the invariant described above). *Regula Falsi* dates to Babylonian times (c. 1550 BCE), illustrating the need for algorithms even before the invention of automatic computers!\n",
    "\n",
    "The same lower and upper bounds are employed as in bisection, but instead of simply using the midpoint between them, *regula falsi* chooses the center point by looking for the intersection of the $y=0$ and the line connecting the points $(x\\textrm{low}, f(x_\\textrm{low}))$ and $(x\\textrm{high}, f(x_\\textrm{high}))$. The equation of that line is\n",
    "$$ y-f(x_\\textrm{high}) = \\frac{f(x_\\textrm{high})-f(x_\\textrm{low})}{x_\\textrm{high}-x_\\textrm{low}}\\left(x-x_\\textrm{high}\\right) $$\n",
    "Setting the LHS to zero and solving for $x_\\textrm{mid}$, we have\n",
    "$$ x_\\textrm{mid} = x_\\textrm{high} - \\frac{x_\\textrm{low}f(x_\\textrm{high})-x_\\textrm{high}f(x_\\textrm{low})}{x_\\textrm{high}-x_\\textrm{low}} $$\n",
    "\n",
    "A simple implementation is"
   ]
  },
  {
   "cell_type": "code",
   "execution_count": 7,
   "metadata": {},
   "outputs": [],
   "source": [
    "def regulaFalsi(f, xLow, xHigh, epsx, epsf, maxit=1000):\n",
    "    # if bounds given in reverse order, correct:\n",
    "    if xLow>xHigh: xLow, xHigh = xHigh, xLow\n",
    "            \n",
    "    fLow = f(xLow)\n",
    "    fHigh = f(xHigh)\n",
    "    assert (fLow*fHigh < 0), \"regulaFalsi: bounds must bracket root\"\n",
    "\n",
    "    for it in range(1, maxit+1):\n",
    "        # linear interpolation for xMid\n",
    "        xMid = (xLow*fHigh - xHigh*fLow)/(fHigh-fLow)\n",
    "        fMid = f(xMid)        \n",
    "        \n",
    "        # update bounds\n",
    "        if fHigh*fMid < 0:\n",
    "            xLow = xMid\n",
    "            fLow = fMid\n",
    "        else:\n",
    "            xHigh = xMid\n",
    "            fHigh = fMid\n",
    "            \n",
    "        assert (xHigh >= xLow) # check for invariant\n",
    "\n",
    "        if (xHigh-xLow < epsx) or (abs(fMid) < epsf):\n",
    "            return xMid, it\n",
    "               \n",
    "    raise ValueError(\"regulaFalsi: maximum number of iterations exceeded\")\n"
   ]
  },
  {
   "cell_type": "code",
   "execution_count": 8,
   "metadata": {},
   "outputs": [
    {
     "name": "stdout",
     "output_type": "stream",
     "text": [
      "initial bounds: [-4.5, -1.1]\n",
      "root is at -1.9999999999997595 found after 169 iterations\n",
      "    f(ans) = 9.017e-11  |ans-root| = 2.405e-13\n",
      "\n",
      "initial bounds: [-1.1, 1.8]\n",
      "root is at 1.0000000000033078 found after 57 iterations\n",
      "    f(ans) = -7.939e-11  |ans-root| = 3.308e-12\n",
      "\n",
      "initial bounds: [1.8, 4.5]\n"
     ]
    },
    {
     "ename": "ValueError",
     "evalue": "regulaFalsi: maximum number of iterations exceeded",
     "output_type": "error",
     "traceback": [
      "\u001b[0;31m---------------------------------------------------------------------------\u001b[0m",
      "\u001b[0;31mValueError\u001b[0m                                Traceback (most recent call last)",
      "\u001b[0;32m<ipython-input-8-2925493698e8>\u001b[0m in \u001b[0;36m<module>\u001b[0;34m\u001b[0m\n\u001b[1;32m      7\u001b[0m \u001b[0;32mfor\u001b[0m \u001b[0mi\u001b[0m \u001b[0;32min\u001b[0m \u001b[0mrange\u001b[0m\u001b[0;34m(\u001b[0m\u001b[0;36m3\u001b[0m\u001b[0;34m)\u001b[0m\u001b[0;34m:\u001b[0m\u001b[0;34m\u001b[0m\u001b[0;34m\u001b[0m\u001b[0m\n\u001b[1;32m      8\u001b[0m     \u001b[0mprint\u001b[0m\u001b[0;34m(\u001b[0m\u001b[0;34mf\"initial bounds: [{bounds[i]}, {bounds[i+1]}]\"\u001b[0m\u001b[0;34m)\u001b[0m\u001b[0;34m\u001b[0m\u001b[0;34m\u001b[0m\u001b[0m\n\u001b[0;32m----> 9\u001b[0;31m     \u001b[0mans\u001b[0m\u001b[0;34m,\u001b[0m \u001b[0mit\u001b[0m \u001b[0;34m=\u001b[0m \u001b[0mregulaFalsi\u001b[0m\u001b[0;34m(\u001b[0m\u001b[0mf\u001b[0m\u001b[0;34m,\u001b[0m \u001b[0mbounds\u001b[0m\u001b[0;34m[\u001b[0m\u001b[0mi\u001b[0m\u001b[0;34m]\u001b[0m\u001b[0;34m,\u001b[0m \u001b[0mbounds\u001b[0m\u001b[0;34m[\u001b[0m\u001b[0mi\u001b[0m\u001b[0;34m+\u001b[0m\u001b[0;36m1\u001b[0m\u001b[0;34m]\u001b[0m\u001b[0;34m,\u001b[0m \u001b[0mepsx\u001b[0m\u001b[0;34m,\u001b[0m \u001b[0mepsf\u001b[0m\u001b[0;34m)\u001b[0m\u001b[0;34m\u001b[0m\u001b[0;34m\u001b[0m\u001b[0m\n\u001b[0m\u001b[1;32m     10\u001b[0m     \u001b[0mprint\u001b[0m\u001b[0;34m(\u001b[0m\u001b[0;34mf\"root is at {ans} found after {it} iterations\"\u001b[0m\u001b[0;34m)\u001b[0m\u001b[0;34m\u001b[0m\u001b[0;34m\u001b[0m\u001b[0m\n\u001b[1;32m     11\u001b[0m     \u001b[0mprint\u001b[0m\u001b[0;34m(\u001b[0m\u001b[0;34mf\"    f(ans) = {quintic(ans):.3e}  |ans-root| = {abs(ans-roots[i]):.3e}\"\u001b[0m\u001b[0;34m)\u001b[0m\u001b[0;34m\u001b[0m\u001b[0;34m\u001b[0m\u001b[0m\n",
      "\u001b[0;32m<ipython-input-7-b69807cc9ceb>\u001b[0m in \u001b[0;36mregulaFalsi\u001b[0;34m(f, xLow, xHigh, epsx, epsf, maxit)\u001b[0m\n\u001b[1;32m     25\u001b[0m             \u001b[0;32mreturn\u001b[0m \u001b[0mxMid\u001b[0m\u001b[0;34m,\u001b[0m \u001b[0mit\u001b[0m\u001b[0;34m\u001b[0m\u001b[0;34m\u001b[0m\u001b[0m\n\u001b[1;32m     26\u001b[0m \u001b[0;34m\u001b[0m\u001b[0m\n\u001b[0;32m---> 27\u001b[0;31m     \u001b[0;32mraise\u001b[0m \u001b[0mValueError\u001b[0m\u001b[0;34m(\u001b[0m\u001b[0;34m\"regulaFalsi: maximum number of iterations exceeded\"\u001b[0m\u001b[0;34m)\u001b[0m\u001b[0;34m\u001b[0m\u001b[0;34m\u001b[0m\u001b[0m\n\u001b[0m",
      "\u001b[0;31mValueError\u001b[0m: regulaFalsi: maximum number of iterations exceeded"
     ]
    }
   ],
   "source": [
    "bounds = [-4.5, -1.1, 1.8, 4.5]\n",
    "roots = [-2, 1, 3]\n",
    "epsx = 1e-10\n",
    "epsf = 1e-10\n",
    "f = quintic\n",
    "\n",
    "for i in range(3):\n",
    "    print(f\"initial bounds: [{bounds[i]}, {bounds[i+1]}]\")\n",
    "    ans, it = regulaFalsi(f, bounds[i], bounds[i+1], epsx, epsf)\n",
    "    print(f\"root is at {ans} found after {it} iterations\")\n",
    "    print(f\"    f(ans) = {quintic(ans):.3e}  |ans-root| = {abs(ans-roots[i]):.3e}\")\n",
    "    assert abs(ans-roots[i])<epsx or abs(f(ans))<epsf\n",
    "    print()"
   ]
  },
  {
   "cell_type": "markdown",
   "metadata": {},
   "source": [
    "As one can see from the example, this method can take more iterations to converge than bisection. This occurs when the sign of $f''(x)$ does not change over the interval. One bound then never changes, and the separation between bounds will thus not asymptotically approach zero.\n",
    "\n",
    "#### Ridder's Method\n",
    "\n",
    "This pathology is eliminated in *Ridders's Method*. This starts out by evaluating the function at the midpoint as in bisection, but then determines the factor $\\exp^{Q}$\n",
    "which gives\n",
    "$$ f(x_\\textrm{low}) - 2 f(x_\\textrm{mid})e^Q + f(x_\\textrm{high}) e^{2Q} = 0 $$\n",
    "essentially turning the function into a straight line.\n",
    "\n",
    "Solving the quadratic in $e^Q$, we have\n",
    "$$ e^Q = \\frac{f(x_\\textrm{mid}) + \\textrm{sign}(f(x_\\textrm{high})\\sqrt{f(x_\\textrm{mid}^2 - f(x_\\textrm{low})f(x_\\textrm{high})}}{f(x_\\textrm{high})} $$\n",
    "\n",
    "*Regula falsi* is then used on the values $f(x_\\textrm{low}), f(x_\\textrm{mid})e^Q, and f(x_\\textrm{high})e^{2Q}$, giving a new approximation to the root,\n",
    "$$ x_\\textrm{Ridder} = x_\\textrm{mid} + (x_\\textrm{mid}-x_\\textrm{low})\\frac{\\textrm{sign}\\left(f(x_\\textrm{low}) -f(x_\\textrm{high})\\right)f(x_\\textrm{mid})}{\\sqrt{f(x_\\textrm{mid})^2 - f(x_\\textrm{low})f(x_\\textrm{high})}} $$\n",
    "The new point is guaranteed to lie in the interval $[x_\\textrm{low},x_\\textrm{high}]$, preserving the bisection invariant. The method is quadratically convergent, roughly doubling the number of significant digits per iteration."
   ]
  },
  {
   "cell_type": "code",
   "execution_count": 9,
   "metadata": {},
   "outputs": [],
   "source": [
    "def RidderRoot(f, xLow, xHigh, epsx, epsf, maxit=50):\n",
    "    # if bounds given in reverse order, correct:\n",
    "    if xLow>xHigh: xLow, xHigh = xHigh, xLow\n",
    "            \n",
    "    fLow = f(xLow)\n",
    "    fHigh = f(xHigh)\n",
    "    assert (fLow*fHigh < 0), \"RidderRoot: bounds must bracket root\"\n",
    "\n",
    "    xR = -1e308\n",
    "    \n",
    "    for it in range(1, maxit+1):\n",
    "        xMid = 0.5*(xLow+xHigh)\n",
    "        fMid = f(xMid)\n",
    "        s = np.sqrt(fMid**2-fLow*fHigh)\n",
    "        if s==0:\n",
    "            return xR, it\n",
    "        \n",
    "        xNew = xMid + (xMid-xLow) * np.sign(fLow-fHigh)*fMid/s\n",
    "        \n",
    "        if abs(xNew-xR) < epsx:\n",
    "            return xR, it\n",
    "        \n",
    "        xR = xNew\n",
    "        fNew = f(xNew)\n",
    "        if abs(fNew) < epsf:\n",
    "            return xR, it\n",
    "        \n",
    "        if np.sign(fMid)*fNew != fMid:\n",
    "            xLow = xMid\n",
    "            fLow = fMid\n",
    "            xHigh = xR\n",
    "            fHigh = fNew\n",
    "        elif np.sign(fLow)*fNew != fLow:\n",
    "            xHigh = xR\n",
    "            fHigh = fNew\n",
    "        elif np.sign(fHigh)*fNew != fHigh:\n",
    "            xLow = xR\n",
    "            fLow = fNew\n",
    "        else:\n",
    "            raise ValueError(\"RidderRoot: error in logic\")\n",
    "            \n",
    "        if abs(xHigh-xLow) < epsx:\n",
    "            return xR, it\n",
    "        \n",
    "    raise ValueError(\"RidderRoot: maximum number of iterations exceeded\")"
   ]
  },
  {
   "cell_type": "code",
   "execution_count": 10,
   "metadata": {},
   "outputs": [
    {
     "name": "stdout",
     "output_type": "stream",
     "text": [
      "initial bounds: [-4.5, -1.1]\n",
      "root is at -1.9999999999893086 found after 6 iterations\n",
      "    f(ans) = 4.009e-09  |ans-root| = 1.069e-11\n",
      "\n",
      "initial bounds: [-1.1, 1.8]\n",
      "root is at 1.0000000000026474 found after 5 iterations\n",
      "    f(ans) = -6.354e-11  |ans-root| = 2.647e-12\n",
      "\n",
      "initial bounds: [1.8, 4.5]\n",
      "root is at 3.0001514415597423 found after 17 iterations\n",
      "    f(ans) = 3.478e-11  |ans-root| = 1.514e-04\n",
      "\n"
     ]
    }
   ],
   "source": [
    "bounds = [-4.5, -1.1, 1.8, 4.5]\n",
    "roots = [-2, 1, 3]\n",
    "epsx = 1e-10\n",
    "epsf = 1e-10\n",
    "f = quintic\n",
    "for i in range(3):\n",
    "    print(f\"initial bounds: [{bounds[i]}, {bounds[i+1]}]\")\n",
    "    ans, it = RidderRoot(quintic, bounds[i], bounds[i+1], epsx, epsf)\n",
    "    print(f\"root is at {ans} found after {it} iterations\")\n",
    "    print(f\"    f(ans) = {f(ans):.3e}  |ans-root| = {abs(ans-roots[i]):.3e}\")\n",
    "    assert abs(ans-roots[i])<epsx or abs(f(ans))<epsf\n",
    "    print()"
   ]
  },
  {
   "cell_type": "markdown",
   "metadata": {},
   "source": [
    "Ridder's method is a pretty good choice for a general 1D non-linear solver."
   ]
  },
  {
   "cell_type": "markdown",
   "metadata": {},
   "source": [
    "#### Newton's Method\n",
    "\n",
    "The previous methods use only information about the value of the function at a set of points. If one uses information about the function’s derivatives, one can obtain a simple root-finding algorithm which also exhibits quadratic convergence. The price, however, is that the convergence of the algorithm can no longer\n",
    "be guaranteed!\n",
    "\n",
    "Once again, we are trying to solve\n",
    "$$ f(x) = 0 $$\n",
    "If we make a guess $x_0$ at the solution, we can expand $f$ around this guess as a Taylor series. Taking the first two terms in this series, we have\n",
    "$$ f(x) = f(x_0) + (x-x_0)f'(x) $$\n",
    "If we then set the RHS to zero, we can solve for the difference $\\delta = x - x_0$\n",
    "$$ \\delta = - \\frac{f(x_0)}{f'(x_0)} $$\n",
    "$\\delta$ is an approximation to the error in our guess $x_0$, limited in its accuracy by the fact that we used a linear approximation to $f(x)$ (the first two terms in the Taylor series) and not the function itself. If the guess is sufficiently close for the Taylor series to be a good approximation to $f(x)$, then $\\delta$ will be reasonably accurate.\n",
    "\n",
    "We can then \"correct\" our guess, and develop a sequence of approximations by iteration. If our guess was $x_i$, then we can improve upon that guess as\n",
    "\\begin{equation*}\n",
    "\\begin{split}\n",
    "\\delta_i &= -\\frac{f(x_i)}{f'(x_i)}\\\\\n",
    "x_{i+1} &= x_i + \\delta_i\n",
    "\\end{split}\n",
    "\\end{equation*}\n",
    "or\n",
    "$$ x_{i+1} = x_i - \\frac{f(x_i)}{f'(x_i)} $$"
   ]
  },
  {
   "cell_type": "markdown",
   "metadata": {},
   "source": [
    "Unfortunately, the meaning of the term \"sufficiently close\" is complicated as we shall see in the next section. Nonetheless, Newton’s method is often the method of choice to determine the solution to a non-linear equation. Its usefulness is its quadratic rate of convergence, which can be seen as follows.\n",
    "\n",
    "If $\\epsilon_i = x - x_i$ is the error at the i-th iteration, we can re-write our Taylor series as\n",
    "$$ f(x) = f(x_i) + \\epsilon_i f'(x_i) + \\epsilon_i^2\\frac{f''(\\zeta)}{2} $$\n",
    "The last term is known as the “remainder term”, and follows from the mean value theorem (see the end of these notes for how one might prove this). The value $\\zeta$ lies somewhere on the interval $[x_i,x]$; we need not know its precise value. Dividing by $f'(x)$ and rearranging, we have\n",
    "$$ \\epsilon_i - \\frac{f(x_i)}{f'(x_i)} = -\\frac{f''(\\zeta)}{2f'(x_i)}\\epsilon_i^2 $$\n",
    "Using the Newton iteration just given, we have\n",
    "$$ \\epsilon_{i+1} = -\\frac{f''(\\zeta)}{2f'(x_i)}\\epsilon_i^2 $$\n",
    "Thus, Newton's method converges quadratically -- it about doubles the number of significant digits in the result per iteration.\n",
    "\n",
    "A simple implementation might be"
   ]
  },
  {
   "cell_type": "code",
   "execution_count": 11,
   "metadata": {},
   "outputs": [],
   "source": [
    "def NewtonRoot(func, xLow, xHigh, epsx, epsf, maxit=20):\n",
    "    \n",
    "    x = 0.5*(xLow+xHigh)\n",
    "    \n",
    "    for it in range(1,maxit):\n",
    "        f,fp = func(x)\n",
    "        delta = - f/fp\n",
    "        \n",
    "        x += delta\n",
    "\n",
    "        if (x-xLow)*(xHigh-x) < 0:\n",
    "            raise ValueError(\"NewtonRoot: value outside of bounds\")\n",
    "        \n",
    "        if abs(delta) < epsx or abs(f) < epsf:\n",
    "            return x, it\n",
    "\n",
    "    raise ValueError(\"NewtonRoot: maximum number of iterations exceeded\")"
   ]
  },
  {
   "cell_type": "markdown",
   "metadata": {},
   "source": [
    "We will now have to define our function as returning both the function value and its derivative:"
   ]
  },
  {
   "cell_type": "code",
   "execution_count": 12,
   "metadata": {},
   "outputs": [],
   "source": [
    "# here we define our function to return f and f'\n",
    "def quinticDerivative(x):\n",
    "    # Horner's method for evaluating a polynomial:\n",
    "    return 54 + x*(-81+x*(18+x*(16+x*(-8+x)))), -81 + x*(36+x*(48+x*(-32 + 5*x)))"
   ]
  },
  {
   "cell_type": "markdown",
   "metadata": {},
   "source": [
    "To check, let's plot the function and its derivative"
   ]
  },
  {
   "cell_type": "code",
   "execution_count": null,
   "metadata": {},
   "outputs": [],
   "source": [
    "x = np.linspace(-2.2,4,100)\n",
    "y,yd = quinticDerivative(x)\n",
    "fig,ax = plt.subplots()\n",
    "ax.plot(x,y)\n",
    "ax.plot(x,yd/10,'g')\n",
    "ax.plot([x[0],x[-1]],[0,0])"
   ]
  },
  {
   "cell_type": "code",
   "execution_count": 13,
   "metadata": {},
   "outputs": [
    {
     "name": "stdout",
     "output_type": "stream",
     "text": [
      "initial bounds: [-4.5, -1.1]\n",
      "root is at -2.0 found after 7 iterations\n",
      "    f(ans) = 0.000e+00  |ans-root| = 0.000e+00\n",
      "\n",
      "initial bounds: [-1.1, 1.8]\n",
      "root is at 1.0 found after 6 iterations\n",
      "    f(ans) = 0.000e+00  |ans-root| = 0.000e+00\n",
      "\n",
      "initial bounds: [1.8, 4.5]\n",
      "root is at 3.000106734484932 found after 18 iterations\n",
      "    f(ans) = 1.219e-11  |ans-root| = 1.067e-04\n",
      "\n"
     ]
    }
   ],
   "source": [
    "bounds = [-4.5, -1.1, 1.8, 4.5]\n",
    "roots = [-2, 1, 3]\n",
    "epsx = 1e-10\n",
    "epsf = 1e-10\n",
    "f = quinticDerivative\n",
    "for i in range(3):\n",
    "    print(f\"initial bounds: [{bounds[i]}, {bounds[i+1]}]\")\n",
    "    ans, it = NewtonRoot(quinticDerivative, bounds[i], bounds[i+1], epsx, epsf)\n",
    "    print(f\"root is at {ans} found after {it} iterations\")\n",
    "    print(f\"    f(ans) = {f(ans)[0]:.3e}  |ans-root| = {abs(ans-roots[i]):.3e}\")\n",
    "    assert abs(ans-roots[i])<epsx or abs(f(ans)[0])<epsf\n",
    "    print()"
   ]
  },
  {
   "cell_type": "markdown",
   "metadata": {},
   "source": [
    "To illustrate the pitfalls posed by what the term \"sufficiently close\" might mean, consider solving the simple nonlinear equation\n",
    "$$ z^n = 1 $$\n",
    "over $z\\in\\mathbb{C}$. To use Newton's method, we rearrange this as\n",
    "$$ z^n - 1 = 0$$\n",
    "and write the iteration as \n",
    "$$ z_{i+1} = z_i - \\frac{z^n-1}{nz^{n-1}}$$"
   ]
  },
  {
   "cell_type": "markdown",
   "metadata": {},
   "source": [
    "The are, of course, $n$ solutions, the $n$-th roots of unity. On the complex plane, these lie on vertices of a regular $n$-sided polygon inscribed on the unit circle, with one vertex at the root $1 + 0i$. For a given initial guess $z_0$, to which root does the iteration converge, and how fast?\n",
    "\n",
    "To find out, let's write a function which performs this iteration, choosing $z_0$ on a regular grid from $-2-2i$ to $2+2i$. We will then plot two images, one with the color corresponding to how many iterations it takes to reduce the error to some tolerance, and one colored with the root to which the iteration converged."
   ]
  },
  {
   "cell_type": "code",
   "execution_count": 14,
   "metadata": {},
   "outputs": [],
   "source": [
    "def newton( n, h, w, maxit = 50 ):\n",
    "    \"\"\"\n",
    "    Returns a newton fractal of order n\n",
    "    \"\"\"\n",
    "\n",
    "    # create an h-by-w grid with both axes running from -2 to 2\n",
    "    x,y = np.ogrid[ -2:2:h*1j, -2:2:w*1j ]\n",
    "\n",
    "    # c is the complex number at each point on the grid\n",
    "    c = x+y*1j\n",
    "    # z is set to our initial guess\n",
    "    z = c\n",
    "    # array of maxit in every element\n",
    "    contime = maxit + np.zeros(z.shape, dtype=int)\n",
    "\n",
    "    for i in range(maxit):\n",
    "        # compute change due to a Newton iteration at each point in the grid\n",
    "        dz  =  - (z**n-1)/(n * z**(n-1))\n",
    "        # and update the grid\n",
    "        z = z + dz\n",
    "        # converge is a mask showing which gridpoints have converged\n",
    "        converge = np.absolute(dz) < 1e-8\n",
    "        # those elements which have just converged have contime=maxit still\n",
    "        con_now = converge & (contime==maxit)\n",
    "        # set those elements to i, the iteration number of convergence\n",
    "        contime[con_now] = i\n",
    "        \n",
    "    # return the final values of the imaginary part (unique to each root)\n",
    "    # and the number of iterations it took to get there\n",
    "    return z.imag, contime\n"
   ]
  },
  {
   "cell_type": "code",
   "execution_count": 15,
   "metadata": {},
   "outputs": [],
   "source": [
    "whichroot, convrate = newton(3, 1200, 1200)"
   ]
  },
  {
   "cell_type": "code",
   "execution_count": 27,
   "metadata": {},
   "outputs": [
    {
     "data": {
      "application/vnd.jupyter.widget-view+json": {
       "model_id": "44248d263d2c45aeb9a7016dff1810cf",
       "version_major": 2,
       "version_minor": 0
      },
      "text/plain": [
       "Canvas(toolbar=Toolbar(toolitems=[('Home', 'Reset original view', 'home', 'home'), ('Back', 'Back to previous …"
      ]
     },
     "metadata": {},
     "output_type": "display_data"
    }
   ],
   "source": [
    "\n",
    "fig, ax = plt.subplots(nrows=2, ncols=1)\n",
    "ax[0].imshow(whichroot, origin='lower', extent=[-2,2,-2,2], vmin = -1, vmax = 1)\n",
    "ax[0].set_title(\"Which Root\")\n",
    "ax[0].set_xlabel(\"Re[z]\")\n",
    "ax[0].set_ylabel(\"Im[z]\")\n",
    "\n",
    "rate = ax[1].imshow(convrate, origin='lower', extent=[-2,2,-2,2], vmin = 0, vmax = 20)\n",
    "fig.colorbar(rate, ax=ax[1])\n",
    "ax[1].set_title(\"Convergence Rate\")\n",
    "ax[1].set_xlabel(\"Re[z]\")\n",
    "ax[1].set_ylabel(\"Im[z]\")\n",
    "\n",
    "plt.tight_layout()"
   ]
  },
  {
   "cell_type": "markdown",
   "metadata": {},
   "source": [
    "On the top, the color corresponds to which root the iteration converged. Blue points converged to $1/2-\\sqrt{3}/2i$, green points converged to $1$, and yellow points converged to $1/2-\\sqrt{3}/2i$. \n",
    "\n",
    "On the bottom one can see the variation in the number of iterations to reach one of the roots to a tolerance of $10^{-8}$; dark blue is one iteration, and yellow points have not converged by 20 iterations. \n",
    "\n",
    "Clearly, both the rate of convergence and the converged root have a very complicated, indeed fractal, dependence on the initial guess. The moral is that one should use Newton’s method with great care – you have no guarantee either that the iteration will converge nor that it will converge to the root closest to your chosen initial guess."
   ]
  },
  {
   "cell_type": "markdown",
   "metadata": {},
   "source": [
    "#### Combined Newton and Bisection\n",
    "\n",
    "Bisection gives us guaranteed, but slow, convergence, while Newton iteration gives us\n",
    "quadratic convergence, but only when it works. We can combine these methods to provide\n",
    "a more robust algorithm. As for bisection, we choose a pair of input values which bracket the root we wish to find. We then take the midpoint as our starting value for a Newton iteration. On each Newton iteration, we check to be sure that Newton hasn’t thrown us outside our starting interval. If it has not, then we continue to iterate to convergence. If the result of an iteration does fall outside our bracket, we revert to bisection to provide a closer initial guess before trying Newton iteration once again.\n",
    "At worst, this is just bisection with some extra effort wasted on abortive Newton iterations. At best, the algorithm converges quadratically in a single successful Newton iteration. In general, however, it *must* converge to the correct answer within reasonable tolerances. This makes it a good, general-purpose root-finder for one dimension.\n",
    "\n",
    "A simple implementation follows:"
   ]
  },
  {
   "cell_type": "code",
   "execution_count": 22,
   "metadata": {},
   "outputs": [],
   "source": [
    "def NewtonSafe(f, xLow, xHigh, epsx, epsf, maxit=50):\n",
    "    # if bounds given in reverse order, correct:\n",
    "    if xLow>xHigh: xLow, xHigh = xHigh, xLow\n",
    "            \n",
    "    fLow, fp = f(xLow)\n",
    "    fHigh, fp = f(xHigh)\n",
    "    assert (fLow*fHigh < 0), \"bounds must bracket root\"\n",
    "\n",
    "    if fLow > 0:\n",
    "        xLow, xHigh = xHigh, xLow\n",
    "        \n",
    "    xMid = (xLow+xHigh)/2\n",
    "    dxOld = abs(xHigh-xLow)\n",
    "    dx = dxOld\n",
    "    fMid, fpMid = f(xMid)\n",
    "    \n",
    "    for it in range(1,maxit+1):\n",
    "        \n",
    "        # Will Newton take us outside the bounds?\n",
    "        if ((xMid-xHigh)*fpMid - fMid) * ((xMid-xLow)*fpMid - fMid) > 0 or \\\n",
    "               abs(2*fMid) > abs(dxOld*fpMid):\n",
    "            # yes, revert to bisection\n",
    "            dxOld = dx\n",
    "            dx = 0.5*(xHigh-xLow)\n",
    "            xMid = xLow + dx\n",
    "        else:\n",
    "            # no, apply Newton correction\n",
    "            dxOld = dx\n",
    "            dx = fMid/fpMid\n",
    "            xMid = xMid - dx    \n",
    "        \n",
    "        if abs(dx) < epsx or abs(fMid) < epsf:\n",
    "            return xMid, it\n",
    "        \n",
    "        # reset minmax bounds\n",
    "        fMid, fpMid = f(xMid)\n",
    "        \n",
    "        if fMid < 0:\n",
    "            xLow = xMid\n",
    "        else:\n",
    "            xHigh = xMid\n",
    "            \n",
    "    raise ValueError(\"NewtonSafe: maximum number of iterations exceeded\")"
   ]
  },
  {
   "cell_type": "code",
   "execution_count": 25,
   "metadata": {},
   "outputs": [
    {
     "name": "stdout",
     "output_type": "stream",
     "text": [
      "initial bounds: [-4.5, -1.1]\n",
      "root is at -2.0 found after 7 iterations\n",
      "    f(ans) = 0.000e+00  |ans-root| = 0.000e+00\n",
      "\n",
      "initial bounds: [-1.1, 1.8]\n",
      "root is at 1.0 found after 6 iterations\n",
      "    f(ans) = 0.000e+00  |ans-root| = 0.000e+00\n",
      "\n",
      "initial bounds: [1.8, 4.5]\n",
      "root is at 3.000106734484932 found after 18 iterations\n",
      "    f(ans) = 1.219e-11  |ans-root| = 1.067e-04\n",
      "\n"
     ]
    }
   ],
   "source": [
    "bounds = [-4.5, -1.1, 1.8, 4.5]\n",
    "roots = [-2, 1, 3]\n",
    "epsx = 1e-10\n",
    "epsf = 1e-10\n",
    "f = quinticDerivative\n",
    "for i in range(3):\n",
    "    print(f\"initial bounds: [{bounds[i]}, {bounds[i+1]}]\")\n",
    "    ans, it = NewtonSafe(quinticDerivative, bounds[i], bounds[i+1], epsx, epsf)\n",
    "    print(f\"root is at {ans} found after {it} iterations\")\n",
    "    print(f\"    f(ans) = {f(ans)[0]:.3e}  |ans-root| = {abs(ans-roots[i]):.3e}\")\n",
    "    assert abs(ans-roots[i])<epsx or abs(f(ans)[0])<epsf\n",
    "    print()"
   ]
  },
  {
   "cell_type": "markdown",
   "metadata": {},
   "source": [
    "NewtonSafe is a robust method, but perhaps not quite as general as Ridder's method.\n",
    "Newton iteration will find use in multidimensional root-finding, covered in the next lecture."
   ]
  },
  {
   "cell_type": "markdown",
   "metadata": {},
   "source": []
  }
 ],
 "metadata": {
  "kernelspec": {
   "display_name": "Python 3",
   "language": "python",
   "name": "python3"
  },
  "language_info": {
   "codemirror_mode": {
    "name": "ipython",
    "version": 3
   },
   "file_extension": ".py",
   "mimetype": "text/x-python",
   "name": "python",
   "nbconvert_exporter": "python",
   "pygments_lexer": "ipython3",
   "version": "3.7.9"
  }
 },
 "nbformat": 4,
 "nbformat_minor": 4
}
