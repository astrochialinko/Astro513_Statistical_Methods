{
 "cells": [
  {
   "cell_type": "code",
   "execution_count": 1,
   "id": "1b80b19f",
   "metadata": {},
   "outputs": [],
   "source": [
    "%matplotlib widget\n",
    "from math import floor\n",
    "import numpy as np\n",
    "from numba import jit, prange\n",
    "import matplotlib.pyplot as plt\n",
    "import matplotlib.cm as cm"
   ]
  },
  {
   "cell_type": "markdown",
   "id": "f170328e",
   "metadata": {},
   "source": [
    "#### Cloud-in-Cell Mass Assignment and Interpolation\n",
    "\n",
    "The simplest scheme would be to find the cell in the grid containing the particle's position, and simply add that particle's mass to the cell. Dividing by the cell's volume would then give us a density grid.\n",
    "\n",
    "Since we will need a uniformly-spaced density grid in order to use FFTs, we need a simple way to determine in which cell a particle lies. Assume our particles all lie in a cube $L$ on a side and that there are $M$ cells per dimension. The cell containing particle $m$ has indices\n",
    "$$ i,j,k = \\left\\lfloor (x,y,z)_m \\frac{N}{L} \\right\\rfloor $$\n",
    "where $\\lfloor . \\rfloor$ is the floor function, the the largest integer less than or equal to its argument\n",
    "(`floor(x)` in Python, not to be confused with `int(x)` or `trunc(x)`, both of which round toward zero).\n",
    "This is known in computer science as a *hash function*, a function which takes a quantity and generates an index into a list from it.\n",
    "\n",
    "We can then simply loop over all of the particles and add each particle's mass to the appropriate cell, dividing the cell masses afterward by the cell volume to obtain a density. This is known as *Nearest Grid Point* assignment.\n",
    "\n",
    "A somewhat more accurate assignment method is known as *Cloud-in-Cell*. Instead of assuming the particle is a point mass and adding all of its mass to the cell which contains it, we assume that the particle is a cube the same size as a cell, but centered at the particle's position. We then compute the overlap of this cube with the eight grid cells it intersects, and assign an appropriate fraction of its mass to each of them.\n",
    "\n",
    "In 2D, this looks like\n",
    "\n",
    "<img src=\"data:image/png;base64,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\" width=150 height=150 />\n",
    "\n",
    "The lower-left corner of the offset box is the particle's position $\\mathbf{r}_m$, and the indicies of lower-left grid cell are   \n",
    "`i = floor(r[m,0]*M/L-0.5); j = floor(r[m,1]*M/L-0.5)`   \n",
    "The indices of the upper-right cell are   \n",
    "`ip = mod(i+1,M); jp = mod(j+1,M)`   \n",
    "where the modulus function takes care of wrapping the particle's position in the periodic box.   \n",
    "Writing   \n",
    "`ux = r[m,0]*M/L -0.5 - i; uy = r[m,1]*M/L -0.5 - j`\n",
    "Once the `u`'s are computed, we need to periodically \"wrap\" the `i` indices as well   \n",
    "`i = int(i)%M; j = int(j)%M`   \n",
    "The volume of the contribution to the grid cells are then   \n",
    "`rho[ i, j] += (1-ux)*(1-uy)*mass[m]`   \n",
    "`rho[ip, j] +=   ux  *(1-uy)*mass[m]`   \n",
    "`rho[ i,jp] += (1-ux)*  uy  *mass[m]`   \n",
    "`rho[ip,jp] +=   ux  *  uy  *mass[m]`   \n",
    "After adding the contributions of all particles, to convert to a density\n",
    "we must divide by the a cell's volume   \n",
    "`rho[:,:,:] /= dx**2`   \n",
    "to get a density in $L$ units.\n",
    "\n",
    "Three dimensions are handled with an additional `k`,`kp`, and `uz`, and dividing by `dx**3`."
   ]
  },
  {
   "cell_type": "markdown",
   "id": "c17fb286",
   "metadata": {},
   "source": [
    "A simple implementation of cloud-in-cell assignment as "
   ]
  },
  {
   "cell_type": "code",
   "execution_count": 299,
   "id": "2a5894c1",
   "metadata": {},
   "outputs": [],
   "source": [
    "def assign(pos, X, h, grid):\n",
    "    \"\"\"\n",
    "    Assign X to grid using inverse of tri-linear (cloud-in-cell) interpolation\n",
    "    pos[N,:], input: positions of N particles\n",
    "    X[N], input: quantity to be assigned\n",
    "    grid[M,M,M], input: grid on which to assign\n",
    "    h, input: grid cell width\n",
    "    \"\"\"\n",
    "    M = grid.shape[0]\n",
    "    grid[:] = 0\n",
    "    for m in range(pos.shape[0]):\n",
    "        # cell index of lower-left corner of point's cube:\n",
    "        ix, iy, iz = int(floor(pos[m,0]/h-0.5)), int(floor(pos[m,1]/h-0.5)), int(floor(pos[m,2]/h-0.5))\n",
    "        # next index in each direction, \"wrapping\" for periodicity\n",
    "        ixp, iyp, izp = (ix+1)%M, (iy+1)%M, (iz+1)%M \n",
    "        # fraction of cube in x,y,z in the next cell\n",
    "        ux = (pos[m,0]/h - 0.5 - ix)\n",
    "        uy = (pos[m,1]/h - 0.5 - iy)\n",
    "        uz = (pos[m,2]/h - 0.5 - iz)\n",
    "        # the lower-left indices as well (important to do this after finfing the u's)\n",
    "        ix, iy, iz = ix%M, iy%M, iz%M\n",
    "\n",
    "        # deposit particle's mass on grid\n",
    "        grid[ix , iy , iz ] += (1-ux) * (1-uy) * (1-uz) * X[m]\n",
    "        grid[ix , iy , izp] += (1-ux) * (1-uy) *   uz   * X[m]\n",
    "        grid[ix , iyp, iz ] += (1-ux) *   uy   * (1-uz) * X[m]\n",
    "        grid[ix , iyp, izp] += (1-ux) *   uy   *   uz   * X[m]\n",
    "        grid[ixp, iy , iz ] +=   ux   * (1-uy) * (1-uz) * X[m]\n",
    "        grid[ixp, iy , izp] +=   ux   * (1-uy) *   uz   * X[m]\n",
    "        grid[ixp, iyp, iz ] +=   ux   *   uy   * (1-uz) * X[m]\n",
    "        grid[ixp, iyp, izp] +=   ux   *   uy   *   uz   * X[m]\n",
    "\n",
    "    # divide by cell volume\n",
    "    grid /= h**3\n"
   ]
  },
  {
   "cell_type": "markdown",
   "id": "9bb2e5ce",
   "metadata": {},
   "source": [
    "***\n",
    "\n",
    "The inverse of cloud-in-cell assignment is tri-linear interpolation. Using the same definitions of the cell indices and fractions, we have"
   ]
  },
  {
   "cell_type": "code",
   "execution_count": 310,
   "id": "c84016f8",
   "metadata": {},
   "outputs": [],
   "source": [
    "def interpolate(grid, h, pos, X):\n",
    "    \"\"\"\n",
    "    Interpolate from grid at pos onto X using tri-linear (cloud-in-cell) interpolation\n",
    "    grid[M,M,M], input: grid from which to interpolate\n",
    "    h, input: grid cell width\n",
    "    pos[N,:], input: positions of N particles\n",
    "    X[N], output: interpolated quantity\n",
    "    \"\"\"\n",
    "    M = grid.shape[0]\n",
    "    h3 = h**3\n",
    "    X[:] = 0\n",
    "    for m in range(pos.shape[0]):\n",
    "        ix, iy, iz = int(floor(pos[m,0]/h-0.5)), int(floor(pos[m,1]/h-0.5)), int(floor(pos[m,2]/h-0.5))\n",
    "        ixp, iyp, izp = (ix+1)%M, (iy+1)%M, (iz+1)%M \n",
    "        ux = (pos[m,0]/h - 0.5 - ix)\n",
    "        uy = (pos[m,1]/h - 0.5 - iy)\n",
    "        uz = (pos[m,2]/h - 0.5 - iz)\n",
    "        ix, iy, iz = ix%M, iy%M, iz%M\n",
    "\n",
    "        X[m] = (\\\n",
    "                    grid[ ix,  iy,  iz] * (1-ux) * (1-uy) * (1-uz) + \\\n",
    "                    grid[ ix,  iy, izp] * (1-ux) * (1-uy) *   uz   + \\\n",
    "                    grid[ ix, iyp,  iz] * (1-ux) *   uy   * (1-uz) + \\\n",
    "                    grid[ ix, iyp, izp] * (1-ux) *   uy   *   uz   + \\\n",
    "                    grid[ixp,  iy,  iz] *   ux   * (1-uy) * (1-uz) + \\\n",
    "                    grid[ixp,  iy, izp] *   ux   * (1-uy) *   uz   + \\\n",
    "                    grid[ixp, iyp,  iz] *   ux   *   uy   * (1-uz) + \\\n",
    "                    grid[ixp, iyp, izp] *   ux   *   uy   *   uz \\\n",
    "                  ) * h3"
   ]
  },
  {
   "cell_type": "markdown",
   "id": "33b58987",
   "metadata": {},
   "source": [
    "These are quite slow, relying on a `for` loop over all particles. Vectorizing using `numpy` would be\n",
    "pretty complex, but there is an easier way... using the `numba` *just-in-time* (jit) compiler.\n",
    "numpy.jit pre-compiles the code, making it much faster than plain, interpreted python. It also allows parallelism in loops by using the `prange` iterator instead of python's `range`.\n",
    "\n",
    "The function will take a long time to execute the first time it is called as it is being compiled just in time. All subsequent calls will take much less time.\n",
    "\n",
    "All we have done in the following is to include the `@jit` decorator before the function definition and\n",
    "use `prange` for the loop over particles in `interpolateJIT`.\n",
    "\n",
    "Note that we cannot use a parallel loop in `assignJIT` due to a *race condition*!"
   ]
  },
  {
   "cell_type": "code",
   "execution_count": 345,
   "id": "5546dbf9",
   "metadata": {},
   "outputs": [],
   "source": [
    "@jit(nopython=True)\n",
    "def assignJIT(pos, X, h, grid):\n",
    "    \"\"\"\n",
    "    Assign X to grid using inverse of tri-linear (cloud-in-cell) interpolation\n",
    "    pos[N,:], input: positions of N particles\n",
    "    X[N], input: quantity to be assigned\n",
    "    grid[M,M,M], input: grid on which to assign\n",
    "    h, input: grid cell width\n",
    "    \"\"\"\n",
    "    M = grid.shape[0]\n",
    "    grid[:] = 0\n",
    "    \n",
    "    # NB: loop cannot be parallelized due to race condition in grid[.] += lines\n",
    "    for m in range(pos.shape[0]):\n",
    "        # cell index of lower-left corner of point's cube:\n",
    "        ix, iy, iz = int(floor(pos[m,0]/h-0.5)), int(floor(pos[m,1]/h-0.5)), int(floor(pos[m,2]/h-0.5))\n",
    "        # next index in each direction\n",
    "        ixp, iyp, izp = (ix+1)%M, (iy+1)%M, (iz+1)%M \n",
    "        # fraction of cube in x,y,z in the next cell\n",
    "        ux = (pos[m,0]/h - 0.5 - ix)\n",
    "        uy = (pos[m,1]/h - 0.5 - iy)\n",
    "        uz = (pos[m,2]/h - 0.5 - iz)\n",
    "        ix, iy, iz = ix%M, iy%M, iz%M\n",
    "\n",
    "        # deposit particle's mass on grid\n",
    "        grid[ix , iy , iz ] += (1-ux) * (1-uy) * (1-uz) * X[m]\n",
    "        grid[ix , iy , izp] += (1-ux) * (1-uy) *   uz   * X[m]\n",
    "        grid[ix , iyp, iz ] += (1-ux) *   uy   * (1-uz) * X[m]\n",
    "        grid[ix , iyp, izp] += (1-ux) *   uy   *   uz   * X[m]\n",
    "        grid[ixp, iy , iz ] +=   ux   * (1-uy) * (1-uz) * X[m]\n",
    "        grid[ixp, iy , izp] +=   ux   * (1-uy) *   uz   * X[m]\n",
    "        grid[ixp, iyp, iz ] +=   ux   *   uy   * (1-uz) * X[m]\n",
    "        grid[ixp, iyp, izp] +=   ux   *   uy   *   uz   * X[m]\n",
    "\n",
    "    # divide by cell volume\n",
    "    grid /= h**3\n",
    "\n",
    "    \n",
    "@jit(nopython=True, parallel=True)\n",
    "def interpolateJIT(grid, h, pos, X):\n",
    "    \"\"\"\n",
    "    Interpolate from grid at pos onto X using tri-linear (cloud-in-cell) interpolation\n",
    "    grid[M,M,M], input: grid from which to interpolate\n",
    "    h, input: grid cell width\n",
    "    pos[N,:], input: positions of N particles\n",
    "    X[N], output: interpolated quantity\n",
    "    \"\"\"\n",
    "    M = grid.shape[0]\n",
    "    h3 = h**3\n",
    "    X[:] = 0\n",
    "    for m in prange(pos.shape[0]):\n",
    "        ix, iy, iz = int(floor(pos[m,0]/h-0.5)), int(floor(pos[m,1]/h-0.5)), int(floor(pos[m,2]/h-0.5))\n",
    "        ixp, iyp, izp = (ix+1)%M, (iy+1)%M, (iz+1)%M \n",
    "        ux = (pos[m,0]/h - 0.5 - ix)\n",
    "        uy = (pos[m,1]/h - 0.5 - iy)\n",
    "        uz = (pos[m,2]/h - 0.5 - iz)\n",
    "        ix, iy, iz = ix%M, iy%M, iz%M\n",
    "\n",
    "        X[m] = (\\\n",
    "                    grid[ ix,  iy,  iz] * (1-ux) * (1-uy) * (1-uz) + \\\n",
    "                    grid[ ix,  iy, izp] * (1-ux) * (1-uy) *   uz   + \\\n",
    "                    grid[ ix, iyp,  iz] * (1-ux) *   uy   * (1-uz) + \\\n",
    "                    grid[ ix, iyp, izp] * (1-ux) *   uy   *   uz   + \\\n",
    "                    grid[ixp,  iy,  iz] *   ux   * (1-uy) * (1-uz) + \\\n",
    "                    grid[ixp,  iy, izp] *   ux   * (1-uy) *   uz   + \\\n",
    "                    grid[ixp, iyp,  iz] *   ux   *   uy   * (1-uz) + \\\n",
    "                    grid[ixp, iyp, izp] *   ux   *   uy   *   uz \\\n",
    "                  ) * h3\n"
   ]
  },
  {
   "cell_type": "markdown",
   "id": "08a6c20f",
   "metadata": {},
   "source": [
    "Let's create some data and compare the three implementation's speed:"
   ]
  },
  {
   "cell_type": "code",
   "execution_count": 332,
   "id": "dbcc6ee9",
   "metadata": {},
   "outputs": [],
   "source": [
    "# Use an MxMxM grid\n",
    "# create M^3 particles on [0,L]^3\n",
    "M = 64\n",
    "N = M**3\n",
    "L = 10\n",
    "h = L/M\n",
    "\n",
    "# our particles and masses\n",
    "pos = np.random.random(size=(N,3))*L\n",
    "mass = np.ones(N)"
   ]
  },
  {
   "cell_type": "code",
   "execution_count": 333,
   "id": "90feaecc",
   "metadata": {},
   "outputs": [
    {
     "name": "stdout",
     "output_type": "stream",
     "text": [
      "1.95 s ± 18.6 ms per loop (mean ± std. dev. of 7 runs, 1 loop each)\n"
     ]
    }
   ],
   "source": [
    "# first the basic function\n",
    "rhoPlain = np.zeros((M,M,M))\n",
    "%timeit assign(pos, mass, h, rhoPlain)"
   ]
  },
  {
   "cell_type": "code",
   "execution_count": 343,
   "id": "6be9f9b5",
   "metadata": {},
   "outputs": [
    {
     "name": "stdout",
     "output_type": "stream",
     "text": [
      "9.47 ms ± 24.6 µs per loop (mean ± std. dev. of 7 runs, 100 loops each)\n"
     ]
    }
   ],
   "source": [
    "# now the just-in-time function\n",
    "rhoJIT = np.zeros((M,M,M))\n",
    "assignJIT(pos, mass, h, rhoJIT)\n",
    "%timeit assignJIT(pos, mass, h, rhoJIT)"
   ]
  },
  {
   "cell_type": "markdown",
   "id": "a31183db",
   "metadata": {},
   "source": [
    "Clearly the compiled code is much faster! And much easier to write than vectorizing with numpy!\n",
    "\n",
    "Numpy still has its uses; it makes writing linear algebra and finite-differences *much* easier, for example.\n",
    "numba can compile numpy functions as well.\n",
    "\n",
    "Let's check that the compiled code gets the same answer!"
   ]
  },
  {
   "cell_type": "code",
   "execution_count": 335,
   "id": "578cc52b",
   "metadata": {},
   "outputs": [
    {
     "data": {
      "text/plain": [
       "True"
      ]
     },
     "execution_count": 335,
     "metadata": {},
     "output_type": "execute_result"
    }
   ],
   "source": [
    "np.allclose(rhoJIT, rhoPlain, atol=1e-15, rtol=1e-15)"
   ]
  },
  {
   "cell_type": "markdown",
   "id": "ce045b80",
   "metadata": {},
   "source": [
    "Do the same thing for `interpolate`. Of course, we will not get back our particle masses, since\n",
    "many more than one particle contributed to density in each cell! We will, however, use this to interpolate\n",
    "the acceleration at the particle's positions."
   ]
  },
  {
   "cell_type": "code",
   "execution_count": 336,
   "id": "27eb3179",
   "metadata": {},
   "outputs": [
    {
     "name": "stdout",
     "output_type": "stream",
     "text": [
      "1.95 s ± 49.9 ms per loop (mean ± std. dev. of 7 runs, 1 loop each)\n"
     ]
    }
   ],
   "source": [
    "# first the basic function\n",
    "fooPlain = np.zeros_like(mass)\n",
    "%timeit interpolate(rhoPlain, h, pos, fooPlain)"
   ]
  },
  {
   "cell_type": "code",
   "execution_count": 346,
   "id": "640c110d",
   "metadata": {},
   "outputs": [
    {
     "name": "stdout",
     "output_type": "stream",
     "text": [
      "2.06 ms ± 39.4 µs per loop (mean ± std. dev. of 7 runs, 1000 loops each)\n"
     ]
    }
   ],
   "source": [
    "# now the just-in-time function -- in parallel!\n",
    "fooJIT = np.zeros_like(mass)\n",
    "interpolateJIT(rhoPlain, h, pos, fooJIT)\n",
    "%timeit interpolateJIT(rhoPlain, h, pos, fooJIT)"
   ]
  },
  {
   "cell_type": "markdown",
   "id": "aa4cab0c",
   "metadata": {},
   "source": [
    "Roughly speaking, the parallel speedup was about a factor of five; not very good with twelve cores.\n",
    "In C++ or Fortran, one would have much more control over parallelism and\n",
    "would likely be able to do much better. We'll take the increased speed nonetheless!"
   ]
  },
  {
   "cell_type": "code",
   "execution_count": 338,
   "id": "6660cda9",
   "metadata": {},
   "outputs": [
    {
     "data": {
      "text/plain": [
       "True"
      ]
     },
     "execution_count": 338,
     "metadata": {},
     "output_type": "execute_result"
    }
   ],
   "source": [
    "np.allclose(rhoJIT, rhoPlain, atol=1e-15, rtol=1e-15)"
   ]
  },
  {
   "cell_type": "code",
   "execution_count": null,
   "id": "4e24f56b",
   "metadata": {},
   "outputs": [],
   "source": []
  }
 ],
 "metadata": {
  "kernelspec": {
   "display_name": "Python 3",
   "language": "python",
   "name": "python3"
  },
  "language_info": {
   "codemirror_mode": {
    "name": "ipython",
    "version": 3
   },
   "file_extension": ".py",
   "mimetype": "text/x-python",
   "name": "python",
   "nbconvert_exporter": "python",
   "pygments_lexer": "ipython3",
   "version": "3.7.9"
  }
 },
 "nbformat": 4,
 "nbformat_minor": 5
}
