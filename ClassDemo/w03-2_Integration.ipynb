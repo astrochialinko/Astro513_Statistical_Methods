{
 "cells": [
  {
   "cell_type": "markdown",
   "metadata": {},
   "source": [
    "### Romberg Integration"
   ]
  },
  {
   "cell_type": "code",
   "execution_count": 1,
   "metadata": {},
   "outputs": [],
   "source": [
    "%matplotlib widget\n",
    "\n",
    "import numpy as np\n",
    "import matplotlib.pyplot as plt\n",
    "import time\n",
    "\n",
    "from math import erf             # we'll need erf(x) for our test problem"
   ]
  },
  {
   "cell_type": "markdown",
   "metadata": {},
   "source": [
    "\n",
    "We begin with the trapezoidal rule, a second-order quadrature scheme for closed intervals:\n",
    "\\begin{equation*}\n",
    "\\begin{split}\n",
    "I &= \\sum_{i=0}^{N-2} \\frac{1}{2}(f(x_i)+f(x_{i+1})) h \\\\ \n",
    "&= \\frac{h (f(x_0)+f(x_{N-1})}{2} + \\sum_{i=1}^{N-2} h f(x_i)\n",
    "\\end{split}\n",
    "\\end{equation*}\n",
    "\n",
    "where the $x_i$ are on a uniform grid with stepsize $h$\n",
    "$$ x_i = x_0 + i\\,h, \\quad i=0,\\dots,N-1 $$"
   ]
  },
  {
   "cell_type": "code",
   "execution_count": 2,
   "metadata": {},
   "outputs": [],
   "source": [
    "def trapezoidalRule(func, xmin, xmax, npts):\n",
    "    assert npts > 1, \"trapezoidalRule: npts must be > 1\"\n",
    "    h = (xmax-xmin)/(npts-1)\n",
    "    In = 0.5*(func(xmin)+func(xmax))\n",
    "    for j in range(1, npts-1):\n",
    "        In += func( xmin + j*h )\n",
    "    return In*h"
   ]
  },
  {
   "cell_type": "markdown",
   "metadata": {},
   "source": [
    "To test our implementation, let's try using the definition of the error function:\n",
    "$$ \\textrm{erf}(x) = \\int_0^x \\frac{2}{\\sqrt{\\pi}}e^{-t^2} dt $$\n",
    "\n",
    "The integrand is supplied by the function:\n",
    "(NB: whenever possible, use the Numpy versions of functions so as to allow vectorization...)"
   ]
  },
  {
   "cell_type": "code",
   "execution_count": 3,
   "metadata": {},
   "outputs": [],
   "source": [
    "def func(x):\n",
    "    return (2/np.sqrt(np.pi)) * np.exp(-x**2)"
   ]
  },
  {
   "cell_type": "markdown",
   "metadata": {},
   "source": [
    "Try it out!"
   ]
  },
  {
   "cell_type": "code",
   "execution_count": 4,
   "metadata": {},
   "outputs": [
    {
     "name": "stdout",
     "output_type": "stream",
     "text": [
      "Trapezoidal Rule w/ N=8 points:  8.41287903150983e-01\n",
      "                  exact erf(1):  8.42700792949715e-01\n",
      "                absolute error:  1.413e-03\n"
     ]
    }
   ],
   "source": [
    "n = 8\n",
    "approx = trapezoidalRule(func,0,1,n)\n",
    "\n",
    "exact = erf(1)\n",
    "abserr = exact - approx\n",
    "\n",
    "print(f'Trapezoidal Rule w/ N={n} points:  {approx:17.14e}')\n",
    "print(f'                  exact erf(1):  { exact:17.14e}')\n",
    "print(f'                absolute error:  {abserr:8.3e}')\n"
   ]
  },
  {
   "cell_type": "markdown",
   "metadata": {},
   "source": [
    "Let's try timing the execution, using a somewhat larger value for npts"
   ]
  },
  {
   "cell_type": "code",
   "execution_count": 5,
   "metadata": {},
   "outputs": [
    {
     "name": "stdout",
     "output_type": "stream",
     "text": [
      "519 µs ± 6.96 µs per loop (mean ± std. dev. of 7 runs, 1000 loops each)\n"
     ]
    }
   ],
   "source": [
    "%timeit trapezoidalRule(func,0,1,256)"
   ]
  },
  {
   "cell_type": "markdown",
   "metadata": {},
   "source": [
    "We can make this run faster by using numpy to vectorize the computation"
   ]
  },
  {
   "cell_type": "code",
   "execution_count": 6,
   "metadata": {},
   "outputs": [],
   "source": [
    "def trapezoidalRule(func, xmin, xmax, npts):\n",
    "    h = (xmax-xmin)/(npts-1)\n",
    "    return h*(0.5*(func(xmin) + func(xmax)) + func(xmin + np.arange(1,npts-1)*h).sum())"
   ]
  },
  {
   "cell_type": "code",
   "execution_count": 7,
   "metadata": {},
   "outputs": [
    {
     "name": "stdout",
     "output_type": "stream",
     "text": [
      "17.2 µs ± 234 ns per loop (mean ± std. dev. of 7 runs, 100000 loops each)\n"
     ]
    }
   ],
   "source": [
    "%timeit trapezoidalRule(func,0,1,256)"
   ]
  },
  {
   "cell_type": "markdown",
   "metadata": {},
   "source": [
    "Let's check that the errors scale as $1/n^2$ -- i.e. that our implementation of the method is second-order accurate as advertised"
   ]
  },
  {
   "cell_type": "code",
   "execution_count": 8,
   "metadata": {},
   "outputs": [
    {
     "name": "stdout",
     "output_type": "stream",
     "text": [
      "Trapezoidal Rule Approximation to erf(1):\n",
      "  npts         approx           error    error*(npts^2)\n",
      "     2  7.71743332258054e-01  7.096e-02  2.838e-01\n",
      "     4  8.34985322634646e-01  7.715e-03  1.234e-01\n",
      "     8  8.41287903150983e-01  1.413e-03  9.042e-02\n",
      "    16  8.42393260370657e-01  3.075e-04  7.873e-02\n",
      "    32  8.42628798170811e-01  7.199e-05  7.372e-02\n",
      "    64  8.42683361565503e-01  1.743e-05  7.140e-02\n",
      "   128  8.42696503488131e-01  4.289e-06  7.028e-02\n",
      "   256  8.42699728980190e-01  1.064e-06  6.973e-02\n",
      "   512  8.42700527997483e-01  2.650e-07  6.946e-02\n",
      "  1024  8.42700726841098e-01  6.611e-08  6.932e-02\n",
      "  2048  8.42700776438705e-01  1.651e-08  6.925e-02\n",
      "  4096  8.42700788823978e-01  4.126e-09  6.922e-02\n",
      "  8192  8.42700791918532e-01  1.031e-09  6.920e-02\n",
      " 16384  8.42700792691951e-01  2.578e-10  6.919e-02\n"
     ]
    }
   ],
   "source": [
    "print(f'Trapezoidal Rule Approximation to erf(1):')\n",
    "print(f'  npts         approx           error    error*(npts^2)')\n",
    "for i in range(1,15):\n",
    "    n = 2**i\n",
    "    approx = trapezoidalRule(func,0,1,n)\n",
    "    exact = erf(1)\n",
    "    abserr = exact - approx\n",
    "    print(f' {n:5d}  {approx:17.14e}  {abserr:8.3e}  {abserr*(n**2):8.3e}')"
   ]
  },
  {
   "cell_type": "markdown",
   "metadata": {},
   "source": [
    "Just to belabour this further, make a plot of the errors"
   ]
  },
  {
   "cell_type": "code",
   "execution_count": 9,
   "metadata": {},
   "outputs": [
    {
     "data": {
      "application/vnd.jupyter.widget-view+json": {
       "model_id": "d7be387e7efc4ff1b805e02e7ed18510",
       "version_major": 2,
       "version_minor": 0
      },
      "text/plain": [
       "Canvas(toolbar=Toolbar(toolitems=[('Home', 'Reset original view', 'home', 'home'), ('Back', 'Back to previous …"
      ]
     },
     "metadata": {},
     "output_type": "display_data"
    }
   ],
   "source": [
    "h = []\n",
    "abserr = []\n",
    "xmin, xmax = 0,1\n",
    "exact = erf(1)\n",
    "for i in range(1,20):\n",
    "    n = 2**i\n",
    "    approx = trapezoidalRule(func,0,1,n)\n",
    "    abserr.append(exact - approx)\n",
    "    h.append((xmax-xmin)/n)\n",
    "\n",
    "fig, ax = plt.subplots()\n",
    "ax.loglog(h, abserr, 'b.', label='points')\n",
    "ax.set_xlabel(\"$h$\", fontsize=16)\n",
    "ax.set_ylabel(\"$|I_n-I|$\", fontsize=16)\n",
    "\n",
    "y = abserr[-1] * (np.asarray(h) / h[-1])**2\n",
    "ax.loglog(h,y,'y', label=r'$h^2$')\n",
    "plt.legend();"
   ]
  },
  {
   "cell_type": "markdown",
   "metadata": {},
   "source": [
    "The errors seem to approach zero with increasing $n$ and they do indeed appear to scale as $h^2$. This is not nearly sufficient testing to be sure of the code's correctness, but for now we will be lazy and accept this as it is."
   ]
  },
  {
   "cell_type": "markdown",
   "metadata": {},
   "source": [
    "Now let's see if we can produce a more efficient algorithm (at least for sufficiently\n",
    "smooth integrands) using Richardson extrapolation."
   ]
  },
  {
   "cell_type": "markdown",
   "metadata": {},
   "source": [
    "Assume we have a trapezoidal rule result computed using $2^{(n-1)}$ intervals. The following function returns\n",
    "the difference between half that result and the result using $2^n$ intervals. In other words, the following code gives the result of adding an additional quadrature point at the center of each of the $2^{(n-1)}$ intervals.\n",
    "In yet other words, if $I_n$ is the trapezoidal rule result for $2^n$ intervals, then $$ I_n = \\frac{1}{2}I_{n-1} + \\textrm{nextTrapezoidalRule(f,xmin,xmax,n)} $$"
   ]
  },
  {
   "cell_type": "code",
   "execution_count": 10,
   "metadata": {},
   "outputs": [],
   "source": [
    "def nextTrapezoidalRule(func, xmin, xmax, n):\n",
    "    \"\"\"\n",
    "    Return the difference between the trapezoidal rule approximation\n",
    "    for 2^n intervals and one-half the trapezoidal rule approximation\n",
    "    for 2^(n-1) intervals.\n",
    "    \"\"\"\n",
    "    npts = 2**n\n",
    "    h = (xmax-xmin)/npts\n",
    "    In = 0\n",
    "    for j in range(1, npts//2+1):\n",
    "        In += func( xmin + (2*j-1)*h )\n",
    "    return h*In"
   ]
  },
  {
   "cell_type": "markdown",
   "metadata": {},
   "source": [
    "We can time the execution of this code as follows:"
   ]
  },
  {
   "cell_type": "code",
   "execution_count": 11,
   "metadata": {},
   "outputs": [
    {
     "name": "stdout",
     "output_type": "stream",
     "text": [
      "574 ms ± 11.4 ms per loop (mean ± std. dev. of 7 runs, 1 loop each)\n"
     ]
    }
   ],
   "source": [
    "n = 19\n",
    "%timeit nextTrapezoidalRule(func, 0, 1, n)"
   ]
  },
  {
   "cell_type": "markdown",
   "metadata": {},
   "source": [
    "This seems rather a slow implementation. Most of the work is of course in the `for` loop. Let's try to vectorize by using numpy, creating an array of results to which we can apply numpy.sum:"
   ]
  },
  {
   "cell_type": "code",
   "execution_count": 12,
   "metadata": {},
   "outputs": [],
   "source": [
    "def nextTrapezoidalRule(func, xmin, xmax, n):\n",
    "    \"\"\"\n",
    "    Return the difference between the trapezoidal rule approximation\n",
    "    for 2^n intervals and one-half the trapezoidal rule approximation\n",
    "    for 2^(n-1) intervals.\n",
    "    \"\"\"\n",
    "    npts = 2**n\n",
    "    h = (xmax-xmin)/npts\n",
    "    return h * ( func( xmin + (2*np.arange(1,npts//2+1)-1)*h) ).sum()"
   ]
  },
  {
   "cell_type": "markdown",
   "metadata": {},
   "source": [
    "We can now time this implementation"
   ]
  },
  {
   "cell_type": "code",
   "execution_count": 13,
   "metadata": {},
   "outputs": [
    {
     "name": "stdout",
     "output_type": "stream",
     "text": [
      "2.51 ms ± 177 µs per loop (mean ± std. dev. of 7 runs, 100 loops each)\n"
     ]
    }
   ],
   "source": [
    "n = 19\n",
    "%timeit nextTrapezoidalRule(func, 0, 1, n)"
   ]
  },
  {
   "cell_type": "markdown",
   "metadata": {},
   "source": [
    "Let's check that the Numpy implementation behaves as expected."
   ]
  },
  {
   "cell_type": "code",
   "execution_count": 14,
   "metadata": {},
   "outputs": [
    {
     "name": "stdout",
     "output_type": "stream",
     "text": [
      "Trapezoidal rule:\n",
      "  npts         approx           error       error*(npts^2)\n",
      "       2  0.771743332258054\n",
      "       4  0.825262955596749  -1.743784e-02  -2.790054e-01\n",
      "       8  0.838367777441205  -4.333016e-03  -2.773130e-01\n",
      "      16  0.841619221244768  -1.081572e-03  -2.768824e-01\n",
      "      32  0.842430505490233  -2.702875e-04  -2.767744e-01\n",
      "      64  0.842633227681257  -6.756527e-05  -2.767473e-01\n",
      "     128  0.842683902044949  -1.689090e-05  -2.767406e-01\n",
      "     256  0.842696570249296  -4.222700e-06  -2.767389e-01\n",
      "     512  0.842699737276221  -1.055673e-06  -2.767385e-01\n",
      "    1024  0.842700529031442  -2.639183e-07  -2.767384e-01\n",
      "    2048  0.842700726970153  -6.597956e-08  -2.767383e-01\n",
      "    4096  0.842700776454825  -1.649489e-08  -2.767383e-01\n",
      "    8192  0.842700788825992  -4.123722e-09  -2.767383e-01\n",
      "   16384  0.842700791918784  -1.030931e-09  -2.767383e-01\n",
      "   32768  0.842700792691982  -2.577326e-10  -2.767383e-01\n",
      "   65536  0.842700792885282  -6.443313e-11  -2.767382e-01\n",
      "  131072  0.842700792933607  -1.610823e-11  -2.767372e-01\n",
      "  262144  0.842700792945688  -4.027001e-12  -2.767334e-01\n",
      "  524288  0.842700792948708  -1.006750e-12  -2.767334e-01\n",
      " 1048576  0.842700792949463  -2.515765e-13  -2.766113e-01\n",
      " 2097152  0.842700792949652  -6.283862e-14  -2.763672e-01\n",
      " 4194304  0.842700792949699  -1.554312e-14  -2.734375e-01\n"
     ]
    }
   ],
   "source": [
    "xmin = 0\n",
    "xmax = 1\n",
    "\n",
    "print(\"Trapezoidal rule:\")\n",
    "print(f'  npts         approx           error       error*(npts^2)')\n",
    "I = 0.5*(xmax-xmin)*(func(xmin)+func(xmax))\n",
    "print(f\"{2:8d}  {I:17.15f}\")\n",
    "npts = 2\n",
    "for n in range(1,22):\n",
    "    I = 0.5*I + nextTrapezoidalRule(func, 0, 1, n)\n",
    "    npts *= 2\n",
    "    abserr = I-erf(1)\n",
    "    print(f\"{npts:8d}  {I:17.15f}  {abserr: e}  {abserr*(npts**2): e}\")"
   ]
  },
  {
   "cell_type": "markdown",
   "metadata": {},
   "source": [
    "and make the same plot as before:"
   ]
  },
  {
   "cell_type": "code",
   "execution_count": 15,
   "metadata": {},
   "outputs": [
    {
     "data": {
      "application/vnd.jupyter.widget-view+json": {
       "model_id": "07c133c9d64f4ba5b2c1362f65e3b3b0",
       "version_major": 2,
       "version_minor": 0
      },
      "text/plain": [
       "Canvas(toolbar=Toolbar(toolitems=[('Home', 'Reset original view', 'home', 'home'), ('Back', 'Back to previous …"
      ]
     },
     "metadata": {},
     "output_type": "display_data"
    }
   ],
   "source": [
    "h = []\n",
    "abserr = []\n",
    "xmin, xmax = 0,1\n",
    "exact = erf(1)\n",
    "I = 0.5*(xmax-xmin)*(func(xmin)+func(xmax))\n",
    "for i in range(1,20):\n",
    "    n = 2**i\n",
    "    I = 0.5*I + nextTrapezoidalRule(func, 0, 1, i)\n",
    "    abserr.append(exact - I)\n",
    "    h.append((xmax-xmin)/n)\n",
    "\n",
    "fig, ax = plt.subplots()\n",
    "ax.loglog(h, abserr, 'b.')\n",
    "ax.set_xlabel(\"$h$\", fontsize=16)\n",
    "ax.set_ylabel(\"$|I_n-I|$\", fontsize=16)\n",
    "\n",
    "y = abserr[-1] * (np.asarray(h) / h[-1])**2\n",
    "ax.loglog(h,y,'y');"
   ]
  },
  {
   "cell_type": "markdown",
   "metadata": {},
   "source": [
    "We can now use this more-efficient version of the trapezoidal rule to\n",
    "implement Romberg integration (for a derivation of which, see the class notes).\n",
    "\n",
    "This version prints out the tableau of intermediate results:"
   ]
  },
  {
   "cell_type": "code",
   "execution_count": 16,
   "metadata": {},
   "outputs": [],
   "source": [
    "def rombergIntegration(func, xmin, xmax, epsrel, nmax=10):\n",
    "    \"\"\"\n",
    "   Use Richardson extrapolation to compute the integral of f(x)\n",
    "   from xmin to xmax with a relative error less than epsrel,\n",
    "   using trapezoidal rules with up to 2^nmax intervals.\n",
    "   \"\"\"\n",
    "\n",
    "    I = np.zeros((nmax+1,nmax+1)) # save space for the tableau\n",
    "\n",
    "    I[0,0] = 0.5*(xmax-xmin)*(func(xmin)+func(xmax))  # initial trapezoidal rule\n",
    "    print(f\"{0:3d}  {I[0,0]: 17.15f}\")\n",
    "\n",
    "    for n in range(1,nmax+1):\n",
    "        I[n,0] = 0.5 * I[n-1,0] + nextTrapezoidalRule(func, xmin, xmax, n)\n",
    "\n",
    "        print(f\"{n:3d}  {I[n,0]: 17.15f}\", end=\" \")\n",
    "        for k in range(1, n+1):\n",
    "            q = 4**k\n",
    "            I[n,k] = (q*I[n,k-1] - I[n-1,k-1])/(q-1)\n",
    "            print(f\"{I[n,k]: 17.15f}\", end=\" \")\n",
    "            if abs(I[n,k]-I[n,k-1]) <= epsrel*abs(I[n,n-1]):\n",
    "                print()\n",
    "                return(I[n,k])\n",
    "        print()\n",
    "\n",
    "\n",
    "    print(f\"romberg failed to converge in {nmax:d} rows\")"
   ]
  },
  {
   "cell_type": "code",
   "execution_count": 18,
   "metadata": {},
   "outputs": [
    {
     "name": "stdout",
     "output_type": "stream",
     "text": [
      "  0   0.771743332258054\n",
      "  1   0.825262955596749  0.843102830042981 \n",
      "  2   0.838367777441205  0.842736051389357  0.842711599479115 \n",
      "  3   0.841619221244768  0.842703035845956  0.842700834809729  0.842700663941961 \n",
      "  4   0.842430505490233  0.842700933572054  0.842700793420461  0.842700792763488  0.842700793268671 \n",
      "  5   0.842633227681257  0.842700801744932  0.842700792956457  0.842700792949092  0.842700792949820 \n",
      "\n",
      "      0.842700792949820   relerr = 1.245e-13   abserr = 1.049e-13\n",
      "      0.842700792949715\n"
     ]
    }
   ],
   "source": [
    "nmax = 12\n",
    "eps = 1e-12\n",
    "n = 5\n",
    "approx = rombergIntegration(func, xmin, xmax, eps, n)\n",
    "exact = erf(1)\n",
    "abserr = approx-exact\n",
    "relerr = abserr/exact\n",
    "print(f'\\n      {approx:17.15f}   relerr = {relerr:8.3e}   abserr = {abserr:8.3e}')\n",
    "print(f'      {erf(1):17.15f}')"
   ]
  },
  {
   "cell_type": "markdown",
   "metadata": {},
   "source": [
    "Romberg integration achieved a relative error of 1e-13 using $2^5 = 32$ function evaluations. Referring to the results above, the trapezoidal rule alone required $2^{20}\\approx 10^6$ function evaluations to achieve the same relative accuracy!\n",
    "\n",
    "Removing the print statements, we have"
   ]
  },
  {
   "cell_type": "code",
   "execution_count": 19,
   "metadata": {},
   "outputs": [],
   "source": [
    "def rombergIntegration(func, xmin, xmax, epsrel, nmax=10):\n",
    "    \"\"\"\n",
    "   Use Richardson extrapolation to compute the integral of f(x)\n",
    "   from xmin to xmax with a relative error less than epsrel,\n",
    "   using trapezoidal rules with up to 2^nmax intervals.\n",
    "   \"\"\"\n",
    "\n",
    "    I = np.zeros((nmax+1,nmax+1)) # save space for the tableau\n",
    "\n",
    "    I[0,0] = 0.5*(xmax-xmin)*(func(xmin)+func(xmax))  # initial trapezoidal rule\n",
    "    neval =2\n",
    "    \n",
    "    for n in range(1,nmax+1):\n",
    "        I[n,0] = 0.5 * I[n-1,0] + nextTrapezoidalRule(func, xmin, xmax, n)\n",
    "        neval += 2**(n-1)\n",
    "        \n",
    "        for k in range(1, n+1):\n",
    "            q = 4**k\n",
    "            I[n,k] = (q*I[n,k-1] - I[n-1,k-1])/(q-1)\n",
    "\n",
    "            if abs(I[n,k]-I[n,k-1]) <= epsrel*abs(I[n,n-1]):\n",
    "                return(I[n,k]), neval\n",
    "\n",
    "    print(f\"romberg failed to converge in {nmax:d} rows\")"
   ]
  },
  {
   "cell_type": "code",
   "execution_count": 21,
   "metadata": {},
   "outputs": [
    {
     "name": "stdout",
     "output_type": "stream",
     "text": [
      "103 µs ± 918 ns per loop (mean ± std. dev. of 7 runs, 10000 loops each)\n",
      "\n",
      "      0.842700792949820   relerr = 1.245e-13   abserr = 1.049e-13\n",
      "      0.842700792949715\n",
      "neval: 33\n"
     ]
    }
   ],
   "source": [
    "nmax = 12\n",
    "eps = 1e-10\n",
    "n = 5\n",
    "tr = %timeit -o rombergIntegration(func, xmin, xmax, eps, n)\n",
    "approx, neval = rombergIntegration(func, xmin, xmax, eps, n)\n",
    "exact = erf(1)\n",
    "abserr = approx-exact\n",
    "relerr = abserr/exact\n",
    "print(f'\\n      {approx:17.15f}   relerr = {relerr:8.3e}   abserr = {abserr:8.3e}')\n",
    "print(f'      {erf(1):17.15f}')\n",
    "print(f'neval: {neval}')"
   ]
  },
  {
   "cell_type": "code",
   "execution_count": 22,
   "metadata": {},
   "outputs": [
    {
     "name": "stdout",
     "output_type": "stream",
     "text": [
      "11.2 ms ± 133 µs per loop (mean ± std. dev. of 7 runs, 100 loops each)\n",
      "\n",
      "      0.842700792949611   relerr = -1.232e-13   abserr = -1.038e-13\n",
      "      0.842700792949715\n",
      "neval: 814288\n",
      "\n",
      "romberg speedup: 108.37465977801912\n"
     ]
    }
   ],
   "source": [
    "n = 2**19 + 290000 # adjust to get error the same as for romberg\n",
    "tt = %timeit -o trapezoidalRule(func, xmin, xmax, n)\n",
    "approx = trapezoidalRule(func, xmin, xmax, n)\n",
    "exact = erf(1)\n",
    "abserr = approx-exact\n",
    "relerr = abserr/exact\n",
    "print(f'\\n      {approx:17.15f}   relerr = {relerr:8.3e}   abserr = {abserr:8.3e}')\n",
    "print(f'      {erf(1):17.15f}')\n",
    "print(f'neval: {n}')\n",
    "print()\n",
    "print(f\"romberg speedup: {tt.average/tr.average}\")"
   ]
  },
  {
   "cell_type": "markdown",
   "metadata": {},
   "source": [
    "***\n",
    "\n",
    "### Gaussian Quadrature"
   ]
  },
  {
   "cell_type": "markdown",
   "metadata": {},
   "source": [
    "The trapezoidal rule and related methods, the abscissae ($x$-values) are chosen to be on a uniform mesh and\n",
    "various weights $w_i$ are used in formulae like\n",
    "$$ \\int_a^b f(x) dx \\approx \\sum_{i=0}^{N-1} w_i f(x_i) $$\n",
    "The trapezoidal rule's weights, for example, are\n",
    "$$ w_i = \\begin{cases} \\frac{1}{2}, & i=0, N-1\\\\ 1, & else \\end{cases} $$\n",
    "The methods are of fixed order, and the error is a power law in the stepsize; again for the trapezoidal rule, $h^2$.\n",
    "\n",
    "In Gaussian quadrature one exploits twice the degrees of freedom by choosing the $\\left\\{x_i\\right\\}$ to achieve greater accuracy from the same number of points. The method works for integrals of the form\n",
    "$$ \\int_a^b W(x) f(x) dx \\approx \\sum _{i=0}^{N-1} w_i f(x_i) $$\n",
    "where $W$ is some \"weighting function\" and is exact when $f(x)$ is a polynomial of degree $2N-1$ or less. An interesting feature is that the error decreases exponentially with increasing $N$ because the *order* of the method, and not just the density of points, increases with $N$.\n",
    "\n",
    "Scipy provides weights and abscissae for some common weighting functions $W(x)$:\n",
    "\\begin{equation*}\n",
    "\\begin{array}{llll}\n",
    "W(x) &= 1, & -1< x<1 & \\textrm{Gauss-Legendre} & \\textrm{scipy.special.roots_legendre}\\\\\n",
    "W(x) &= (1-x^2)^{1/2}, & -1< x<1 &\\textrm{Gauss-Chebyshev U} & \\textrm{scipy.special.roots_chebyu}\\\\\n",
    "W(x) &= (1-x^2)^{-1/2}, & -1< x<1 &\\textrm{Gauss-Chebyshev T} & \\textrm{scipy.special.roots_chebyt}\\\\\n",
    "W(x) &= x^\\alpha e^{-x} & 0<x<\\infty & \\textrm{Gauss-Laguerre} & \\textrm{scipy.special.roots_genlaguerre}\\\\\n",
    "W(x) &= e^{-x^2} & -\\infty<x<\\infty & \\textrm{Gauss-Hermite} & \\textrm{scipy.special.roots_hermite}\\\\\n",
    "W(x) &= (1-x)^\\alpha (1+x)^\\beta  & -1< x<1 & \\textrm{Gauss-Jacobi} & \\textrm{scipy.special.roots_jacobi}\n",
    "\\end{array}\n",
    "\\end{equation*}\n",
    "among others.\n",
    "\n",
    "The theory of how to find these weights and abscissae are beyond the scope of this course, but they are related to generating sets of polynomials orthogonal under the inner product\n",
    "$$ \\langle f|g\\rangle = \\int_a^b W(x) f(x) g(x) dx $$\n",
    "as one might guess from the set of functions provided by Scipy. The abscissae are the roots of these polynomials. If you need a different, non-standard weighting function, see e.g. *Numerical Recipes* and references therein."
   ]
  },
  {
   "cell_type": "markdown",
   "metadata": {},
   "source": [
    "As an example, let's compute the integral of some function $f(x)$ over a normal distribution\n",
    "$$  \\frac{1}{\\sigma\\sqrt{\\pi}} \\int_{-\\infty}^\\infty \\exp\\left(-\\frac{(x-\\mu)^2}{2\\sigma^2}\\right) f(x) dx $$\n",
    "With the change of variable \n",
    "$$ y = \\sqrt{2}\\sigma x + \\mu $$\n",
    "this is\n",
    "$$ \\frac{1}{\\sqrt{\\pi}} \\int_{-\\infty}^\\infty e^{-y^2} f(\\sqrt{2}\\sigma y + \\mu) dy $$\n",
    "This has a Gauss-Hermite weighting function so we will use `scipy.special.roots_hermite` to obtain the abscissae and weights.\n",
    "\n",
    "We'll choose $f(x) = x^2 \\cos^2(x)$; not a polynomial, but a smooth function in the sense that it is everywhere close to a polynomial."
   ]
  },
  {
   "cell_type": "code",
   "execution_count": 23,
   "metadata": {},
   "outputs": [
    {
     "name": "stdout",
     "output_type": "stream",
     "text": [
      "N    Integral\n",
      " 2  9.599939889313887\n",
      " 3  15.748543016370952\n",
      " 4  11.700629401823951\n",
      " 5  13.316164765932156\n",
      " 6  12.853329693620326\n",
      " 7  12.956780433196581\n",
      " 8  12.937822856801386\n",
      " 9  12.940766552187700\n",
      "10  12.940370016542678\n",
      "11  12.940417181088277\n",
      "12  12.940412159302927\n",
      "13  12.940412643236256\n",
      "14  12.940412600646148\n",
      "15  12.940412604095117\n",
      "16  12.940412603836489\n",
      "17  12.940412603854536\n",
      "18  12.940412603853360\n",
      "19  12.940412603853433\n"
     ]
    }
   ],
   "source": [
    "from scipy import special\n",
    "def f(x):\n",
    "    sigma = 1\n",
    "    mu = 4\n",
    "    y = np.sqrt(2)*sigma*x+mu\n",
    "    return y**2*np.cos(y)**2\n",
    "\n",
    "print(f\"N    Integral\")\n",
    "for N in range(2,20):\n",
    "    xh, wh = special.roots_hermite(N)\n",
    "    ans = np.sum( wh * f(xh) )\n",
    "    print(f\"{N:2d}  {ans:.15f}\")"
   ]
  },
  {
   "cell_type": "markdown",
   "metadata": {},
   "source": [
    "Let's try Romberg integration as a check. Because the integrand goes rapidly to zero with increasing $|x|$,\n",
    "we can choose finite limits: $[-7,7]$ should do just fine:"
   ]
  },
  {
   "cell_type": "code",
   "execution_count": 24,
   "metadata": {},
   "outputs": [
    {
     "data": {
      "text/plain": [
       "array([1.56902809e-20, 5.61476467e-21])"
      ]
     },
     "execution_count": 24,
     "metadata": {},
     "output_type": "execute_result"
    }
   ],
   "source": [
    "x = np.array([-7,7])\n",
    "f(x)*np.exp(-x**2)"
   ]
  },
  {
   "cell_type": "code",
   "execution_count": 25,
   "metadata": {},
   "outputs": [
    {
     "name": "stdout",
     "output_type": "stream",
     "text": [
      "129   12.940412603853432\n"
     ]
    }
   ],
   "source": [
    "ans, neval = rombergIntegration(lambda x: f(x)*np.exp(-x**2), -7, 7, 1e-14)\n",
    "print(f\"{neval}   {ans:17.15f}\")"
   ]
  },
  {
   "cell_type": "code",
   "execution_count": 26,
   "metadata": {},
   "outputs": [
    {
     "data": {
      "application/vnd.jupyter.widget-view+json": {
       "model_id": "d69a5199083c40e0bbcb3f290f3ae02c",
       "version_major": 2,
       "version_minor": 0
      },
      "text/plain": [
       "Canvas(toolbar=Toolbar(toolitems=[('Home', 'Reset original view', 'home', 'home'), ('Back', 'Back to previous …"
      ]
     },
     "metadata": {},
     "output_type": "display_data"
    }
   ],
   "source": [
    "fig, ax = plt.subplots()\n",
    "x = np.linspace(-5,5,1000)\n",
    "y = f(x)*np.exp(-x**2)\n",
    "ax.plot(x,y,label=r\"$x^2 cos^2(x) G(x,\\sigma,\\mu$\")\n",
    "ax.plot(xh,wh*10,'r.',label=r\"$x_i, 10w_i$\")\n",
    "plt.legend();"
   ]
  },
  {
   "cell_type": "markdown",
   "metadata": {},
   "source": [
    "This idea can be extended to multidimensional integrals, though with some difficulty. One interesting example is the *spherical t-design*. This is a set of $n>t$ points on the surface of a sphere such that the average value of a polynomial of degree $t$ over the sphere is the average value of the polynomial at the points. This average value is, of course, the integral of the polynomial over the surface of the sphere."
   ]
  },
  {
   "cell_type": "code",
   "execution_count": null,
   "metadata": {},
   "outputs": [],
   "source": []
  }
 ],
 "metadata": {
  "kernelspec": {
   "display_name": "Python 3",
   "language": "python",
   "name": "python3"
  },
  "language_info": {
   "codemirror_mode": {
    "name": "ipython",
    "version": 3
   },
   "file_extension": ".py",
   "mimetype": "text/x-python",
   "name": "python",
   "nbconvert_exporter": "python",
   "pygments_lexer": "ipython3",
   "version": "3.7.9"
  }
 },
 "nbformat": 4,
 "nbformat_minor": 4
}
