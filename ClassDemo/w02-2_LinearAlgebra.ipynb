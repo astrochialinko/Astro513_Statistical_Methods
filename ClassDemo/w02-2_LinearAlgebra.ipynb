{
 "cells": [
  {
   "cell_type": "markdown",
   "metadata": {},
   "source": [
    "#### Numerical Linear Algebra: A Whirlwind Tour\n",
    "\n"
   ]
  },
  {
   "cell_type": "code",
   "execution_count": 1,
   "metadata": {},
   "outputs": [],
   "source": [
    "%matplotlib widget\n",
    "import matplotlib.pyplot as plt\n",
    "import numpy as np\n",
    "from scipy.linalg import lu, lu_factor, lu_solve, solve, inv, det, svd\n",
    "from scipy.special import comb\n",
    "\n",
    "# make numpy print matrices in a more readable fashion\n",
    "np.set_printoptions(precision=8, suppress=True, formatter={'float': '{: 0.8e}'.format}, linewidth=150)"
   ]
  },
  {
   "cell_type": "markdown",
   "metadata": {},
   "source": [
    "Basic recipe for solving a linear system $Ax=b$ where $A$ is an $N\\times N$ matrix and $x$ and $b$ are $N$-vectors:\n",
    "\n",
    "Compute the *LU decomposition* of $A$:\n",
    "$$ A = L\\cdot U$$\n",
    "where $L$ is a lower-triangular matrix with ones on the diagonal, and $U$ is an upper-triangular matrix.\n",
    "\n",
    "With this decomposition, we can write the linear system as \n",
    "$$ L\\cdot(U\\cdot x) = b $$\n",
    "First solve\n",
    "$$ Ly = b$$\n",
    "which is trivial since $L$ is lower-triangular (forward substitution), and then solve\n",
    "$$ Ux = y$$\n",
    "which is also trivial since $U$ is upper-triangular (back substitution).\n",
    "\n",
    "This is especially useful if we have more than one RHS $b$ to solve with; the decomposition takes most of the time, but can be reused for multiple RHS.\n",
    "\n"
   ]
  },
  {
   "cell_type": "markdown",
   "metadata": {},
   "source": [
    "Create a random (N,N) matrix:"
   ]
  },
  {
   "cell_type": "code",
   "execution_count": 2,
   "metadata": {},
   "outputs": [
    {
     "data": {
      "text/plain": [
       "array([[ 9.80211231e-01,  2.27603135e-01,  2.35291302e-01,  9.78760596e-01,  1.91777527e-01],\n",
       "       [ 7.73573259e-01,  6.98721172e-02,  2.59023226e-01,  4.80220206e-01,  7.46047570e-01],\n",
       "       [ 7.96732117e-01,  3.49676922e-01,  5.30008241e-01,  5.52383999e-01,  9.71622671e-01],\n",
       "       [ 3.60024610e-01,  2.96912835e-02,  2.22795678e-01,  2.74912743e-01,  7.65489579e-01],\n",
       "       [ 3.00373687e-01,  9.34050686e-01,  4.30205637e-01,  5.85936330e-01,  5.10059102e-01]])"
      ]
     },
     "execution_count": 2,
     "metadata": {},
     "output_type": "execute_result"
    }
   ],
   "source": [
    "N = 5\n",
    "A = np.random.random((N,N))\n",
    "A"
   ]
  },
  {
   "cell_type": "markdown",
   "metadata": {},
   "source": [
    "Compute the LU decomposition of A. L,U are the LU decomposition, P is a permutation matrix.  \n",
    "Use this if you need L and U explicitly:"
   ]
  },
  {
   "cell_type": "code",
   "execution_count": 3,
   "metadata": {},
   "outputs": [],
   "source": [
    "P,L,U= lu(A)"
   ]
  },
  {
   "cell_type": "markdown",
   "metadata": {},
   "source": [
    "What is the permutation matrix $P$? \n",
    "\n",
    "Imagine solving the system by hand. Start with writing \n",
    "$$ A \\mathbf{1} = b $$\n",
    "\n",
    "    Divide the zeroth row by $a_{00}$ to make it's diagonal 1. Then subtract the right amount of the zeroth row form each other row to make all of the $a_{i0}$'s zero, applying the same transformation to $\\mathbf{1}$ and to $b$.\n",
    "\n",
    "    Move on to the next row, divide by the new $a_{11}$, and subtract the right amount of row 1 from the other rows to make the entries in column 1 zero.\n",
    "    \n",
    "    Continue until $A$ has become the identity matrix. $\\mathbf{1}$ has been turned into the solution to the system.\n",
    "\n",
    "If the original $A$ has a zero on the diagonal, this method breaks down, but we can exchange rows to put that zero somewhere off the diagonal and bring a non-zero onto this row's diagonal. The process of permuting the order of the rows is called *partial pivoting*. \n",
    "\n",
    "It turns out that, even if no diagonal elements are zero, by choosing the largest element in a column (in absolute value) to be the pivot for the corresponding row, one minimizes the roundoff error in the algorithm. \n",
    "\n",
    "(Choosing the largest remaining element overall and interchanging both rows and columns, *full pivoting*, is even better, but partial pivoting is almost as good and is sufficient to render the algorithm stable.)\n",
    "\n",
    "Without pivoting, the algorithm is unstable to roundoff error. *Always use an algorithm which using pivoting.*\n",
    "\n",
    "The algorithm just described is known as Gauss-Jordan elimination, not LU decomposition, but pivoting is essential to all direct linear solution algorithms.\n",
    "\n",
    "This permutation in rows is the one returned by `lu`."
   ]
  },
  {
   "cell_type": "code",
   "execution_count": 4,
   "metadata": {},
   "outputs": [
    {
     "name": "stdout",
     "output_type": "stream",
     "text": [
      "[[ 1.00000000e+00  0.00000000e+00  0.00000000e+00  0.00000000e+00  0.00000000e+00]\n",
      " [ 3.06437712e-01  1.00000000e+00  0.00000000e+00  0.00000000e+00  0.00000000e+00]\n",
      " [ 8.12816760e-01  1.90531554e-01  1.00000000e+00  0.00000000e+00  0.00000000e+00]\n",
      " [ 7.89190365e-01 -1.26980808e-01  4.39160485e-01  1.00000000e+00  0.00000000e+00]\n",
      " [ 3.67292884e-01 -6.23689086e-02  5.86661996e-01 -8.61921998e-01  1.00000000e+00]] \n",
      "\n",
      " [[ 9.80211231e-01  2.27603135e-01  2.35291302e-01  9.78760596e-01  1.91777527e-01]\n",
      " [ 0.00000000e+00  8.64304502e-01  3.58103509e-01  2.86007172e-01  4.51291236e-01]\n",
      " [ 0.00000000e+00  0.00000000e+00  2.70529509e-01 -2.97662409e-01  7.29757462e-01]\n",
      " [ 0.00000000e+00  0.00000000e+00  0.00000000e+00 -1.25169237e-01  3.31523279e-01]\n",
      " [ 0.00000000e+00  0.00000000e+00  0.00000000e+00  0.00000000e+00  5.80823837e-01]]\n"
     ]
    }
   ],
   "source": [
    "print(L,\"\\n\\n\",U)"
   ]
  },
  {
   "cell_type": "code",
   "execution_count": 5,
   "metadata": {},
   "outputs": [
    {
     "data": {
      "text/plain": [
       "array([[ 1.00000000e+00,  0.00000000e+00,  0.00000000e+00,  0.00000000e+00,  0.00000000e+00],\n",
       "       [ 0.00000000e+00,  0.00000000e+00,  0.00000000e+00,  1.00000000e+00,  0.00000000e+00],\n",
       "       [ 0.00000000e+00,  0.00000000e+00,  1.00000000e+00,  0.00000000e+00,  0.00000000e+00],\n",
       "       [ 0.00000000e+00,  0.00000000e+00,  0.00000000e+00,  0.00000000e+00,  1.00000000e+00],\n",
       "       [ 0.00000000e+00,  1.00000000e+00,  0.00000000e+00,  0.00000000e+00,  0.00000000e+00]])"
      ]
     },
     "execution_count": 5,
     "metadata": {},
     "output_type": "execute_result"
    }
   ],
   "source": [
    "P"
   ]
  },
  {
   "cell_type": "markdown",
   "metadata": {},
   "source": [
    "Verify that the decomposition is correct"
   ]
  },
  {
   "cell_type": "code",
   "execution_count": 6,
   "metadata": {},
   "outputs": [
    {
     "data": {
      "text/plain": [
       "array([[ 0.00000000e+00,  0.00000000e+00,  0.00000000e+00,  0.00000000e+00,  0.00000000e+00],\n",
       "       [ 0.00000000e+00,  1.38777878e-17,  0.00000000e+00, -5.55111512e-17,  1.11022302e-16],\n",
       "       [ 1.11022302e-16,  0.00000000e+00,  0.00000000e+00,  0.00000000e+00,  0.00000000e+00],\n",
       "       [ 5.55111512e-17,  6.93889390e-18, -2.77555756e-17,  0.00000000e+00,  0.00000000e+00],\n",
       "       [ 5.55111512e-17,  0.00000000e+00,  0.00000000e+00,  0.00000000e+00,  0.00000000e+00]])"
      ]
     },
     "execution_count": 6,
     "metadata": {},
     "output_type": "execute_result"
    }
   ],
   "source": [
    "A  - P @ L @ U"
   ]
  },
  {
   "cell_type": "markdown",
   "metadata": {},
   "source": [
    "A permutation matrix is orthogonal: inverse(P) = P.T  \n",
    "We can permute the original matrix to compare with the permuted LU instead:"
   ]
  },
  {
   "cell_type": "code",
   "execution_count": 7,
   "metadata": {},
   "outputs": [
    {
     "data": {
      "text/plain": [
       "array([[ 0.00000000e+00,  0.00000000e+00,  0.00000000e+00,  0.00000000e+00,  0.00000000e+00],\n",
       "       [ 5.55111512e-17,  0.00000000e+00,  0.00000000e+00,  0.00000000e+00,  0.00000000e+00],\n",
       "       [ 1.11022302e-16,  0.00000000e+00,  0.00000000e+00,  0.00000000e+00,  0.00000000e+00],\n",
       "       [ 0.00000000e+00,  1.38777878e-17,  0.00000000e+00, -5.55111512e-17,  1.11022302e-16],\n",
       "       [ 5.55111512e-17,  6.93889390e-18, -2.77555756e-17,  0.00000000e+00,  0.00000000e+00]])"
      ]
     },
     "execution_count": 7,
     "metadata": {},
     "output_type": "execute_result"
    }
   ],
   "source": [
    "P.T @ A  -  L @ U"
   ]
  },
  {
   "cell_type": "markdown",
   "metadata": {},
   "source": [
    "A more compact representation is returned by `lu_factor` which packs a single array with L and U, implicitly storing the unit diagonal of L.  \n",
    "Use this if you want to compute with the LU decomposition but don't need the $L$ and $U$ matrices explicitly:"
   ]
  },
  {
   "cell_type": "code",
   "execution_count": 8,
   "metadata": {},
   "outputs": [
    {
     "data": {
      "text/plain": [
       "array([[ 9.80211231e-01,  2.27603135e-01,  2.35291302e-01,  9.78760596e-01,  1.91777527e-01],\n",
       "       [ 3.06437712e-01,  8.64304502e-01,  3.58103509e-01,  2.86007172e-01,  4.51291236e-01],\n",
       "       [ 8.12816760e-01,  1.90531554e-01,  2.70529509e-01, -2.97662409e-01,  7.29757462e-01],\n",
       "       [ 7.89190365e-01, -1.26980808e-01,  4.39160485e-01, -1.25169237e-01,  3.31523279e-01],\n",
       "       [ 3.67292884e-01, -6.23689086e-02,  5.86661996e-01, -8.61921998e-01,  5.80823837e-01]])"
      ]
     },
     "execution_count": 8,
     "metadata": {},
     "output_type": "execute_result"
    }
   ],
   "source": [
    "LU, piv = lu_factor(A)\n",
    "LU"
   ]
  },
  {
   "cell_type": "code",
   "execution_count": 9,
   "metadata": {},
   "outputs": [
    {
     "data": {
      "text/plain": [
       "array([[ 9.80211231e-01,  2.27603135e-01,  2.35291302e-01,  9.78760596e-01,  1.91777527e-01],\n",
       "       [ 3.06437712e-01,  8.64304502e-01,  3.58103509e-01,  2.86007172e-01,  4.51291236e-01],\n",
       "       [ 8.12816760e-01,  1.90531554e-01,  2.70529509e-01, -2.97662409e-01,  7.29757462e-01],\n",
       "       [ 7.89190365e-01, -1.26980808e-01,  4.39160485e-01, -1.25169237e-01,  3.31523279e-01],\n",
       "       [ 3.67292884e-01, -6.23689086e-02,  5.86661996e-01, -8.61921998e-01,  5.80823837e-01]])"
      ]
     },
     "execution_count": 9,
     "metadata": {},
     "output_type": "execute_result"
    }
   ],
   "source": [
    "LU"
   ]
  },
  {
   "cell_type": "markdown",
   "metadata": {},
   "source": [
    "The object `piv` is a one-dimensional array storing the permutation in the form  \n",
    "swap row 0 with piv[0], then swap row 1 with piv[1], ..."
   ]
  },
  {
   "cell_type": "code",
   "execution_count": 10,
   "metadata": {},
   "outputs": [
    {
     "data": {
      "text/plain": [
       "array([0, 4, 2, 4, 4], dtype=int32)"
      ]
     },
     "execution_count": 10,
     "metadata": {},
     "output_type": "execute_result"
    }
   ],
   "source": [
    "piv"
   ]
  },
  {
   "cell_type": "markdown",
   "metadata": {},
   "source": [
    "We can convert this to a permutation vector by swapping columns of the identity matrix accordingly:"
   ]
  },
  {
   "cell_type": "code",
   "execution_count": 11,
   "metadata": {},
   "outputs": [
    {
     "data": {
      "text/plain": [
       "array([[ 1.00000000e+00,  0.00000000e+00,  0.00000000e+00,  0.00000000e+00,  0.00000000e+00],\n",
       "       [ 0.00000000e+00,  0.00000000e+00,  0.00000000e+00,  1.00000000e+00,  0.00000000e+00],\n",
       "       [ 0.00000000e+00,  0.00000000e+00,  1.00000000e+00,  0.00000000e+00,  0.00000000e+00],\n",
       "       [ 0.00000000e+00,  0.00000000e+00,  0.00000000e+00,  0.00000000e+00,  1.00000000e+00],\n",
       "       [ 0.00000000e+00,  1.00000000e+00,  0.00000000e+00,  0.00000000e+00,  0.00000000e+00]])"
      ]
     },
     "execution_count": 11,
     "metadata": {},
     "output_type": "execute_result"
    }
   ],
   "source": [
    "def pivToPMatrix(piv):\n",
    "    P = np.eye(N)\n",
    "    for i, p in enumerate(piv):\n",
    "        P[:,[i,p]] = P[:,[p,i]]\n",
    "    return P\n",
    "\n",
    "PP = pivToPMatrix(piv)\n",
    "PP"
   ]
  },
  {
   "cell_type": "markdown",
   "metadata": {},
   "source": [
    "and verify that we get the correct result"
   ]
  },
  {
   "cell_type": "code",
   "execution_count": 12,
   "metadata": {},
   "outputs": [
    {
     "data": {
      "text/plain": [
       "True"
      ]
     },
     "execution_count": 12,
     "metadata": {},
     "output_type": "execute_result"
    }
   ],
   "source": [
    "np.all((PP - P == 0))"
   ]
  },
  {
   "cell_type": "markdown",
   "metadata": {},
   "source": [
    "Verify that the L and U are packed in LU as advertised:"
   ]
  },
  {
   "cell_type": "code",
   "execution_count": 13,
   "metadata": {},
   "outputs": [
    {
     "name": "stdout",
     "output_type": "stream",
     "text": [
      "True True\n"
     ]
    }
   ],
   "source": [
    "LL = np.tril(LU, k=-1) + np.eye(N)  # take everything below the diagonal and add unit diagonal\n",
    "UU = np.triu(LU)                    # take the diagonal and above\n",
    "print( np.all((LL-L == 0)), np.all((LL-L == 0)) )"
   ]
  },
  {
   "cell_type": "markdown",
   "metadata": {},
   "source": [
    "We can then use `lu_solve((lu, piv), b)` to solve with RHS `b`:"
   ]
  },
  {
   "cell_type": "code",
   "execution_count": 14,
   "metadata": {},
   "outputs": [
    {
     "data": {
      "text/plain": [
       "array([ 1.66668173e-01,  7.04756410e-02,  6.03795006e-01,  9.68366945e-02,  7.43610748e-01])"
      ]
     },
     "execution_count": 14,
     "metadata": {},
     "output_type": "execute_result"
    }
   ],
   "source": [
    "b = np.random.random(N)\n",
    "b"
   ]
  },
  {
   "cell_type": "code",
   "execution_count": 15,
   "metadata": {},
   "outputs": [
    {
     "data": {
      "text/plain": [
       "array([-2.61072865e-01,  9.71419343e-02,  2.22254547e+00, -5.00182928e-02, -3.83385725e-01])"
      ]
     },
     "execution_count": 15,
     "metadata": {},
     "output_type": "execute_result"
    }
   ],
   "source": [
    "x = lu_solve((LU,piv), b)\n",
    "x"
   ]
  },
  {
   "cell_type": "markdown",
   "metadata": {},
   "source": [
    "and check to see that the solution is correct"
   ]
  },
  {
   "cell_type": "code",
   "execution_count": 16,
   "metadata": {},
   "outputs": [
    {
     "data": {
      "text/plain": [
       "array([-5.55111512e-17,  5.55111512e-17,  2.22044605e-16, -5.55111512e-17,  0.00000000e+00])"
      ]
     },
     "execution_count": 16,
     "metadata": {},
     "output_type": "execute_result"
    }
   ],
   "source": [
    "A @ x - b"
   ]
  },
  {
   "cell_type": "markdown",
   "metadata": {},
   "source": [
    "We can compute the inverse of A by solving a set of N systems with RHS given by the identity matrix:"
   ]
  },
  {
   "cell_type": "code",
   "execution_count": 17,
   "metadata": {},
   "outputs": [
    {
     "name": "stdout",
     "output_type": "stream",
     "text": [
      "[[ 1.00000000e+00  2.34491479e-16  1.00588485e-16 -2.73658390e-17  5.40591966e-18]\n",
      " [ 2.35425557e-16  1.00000000e+00  1.79460742e-16 -2.02493837e-16 -1.18611247e-17]\n",
      " [ 3.71083708e-16  1.37791732e-16  1.00000000e+00 -8.48626475e-16 -7.83018809e-17]\n",
      " [ 4.29454252e-17  1.73463158e-16  6.53637145e-18  1.00000000e+00  3.46029052e-17]\n",
      " [ 4.11559321e-17  4.00291556e-16 -5.96392743e-17 -3.33837804e-16  1.00000000e+00]]\n"
     ]
    },
    {
     "data": {
      "text/plain": [
       "True"
      ]
     },
     "execution_count": 17,
     "metadata": {},
     "output_type": "execute_result"
    }
   ],
   "source": [
    "b = np.eye(N)\n",
    "x = np.zeros_like(A)\n",
    "for i in range(N):\n",
    "    x[:,i] = lu_solve((LU,piv), b[i])\n",
    "    \n",
    "# check that inverse(A) @ A is close to the identity matrix\n",
    "print(A@x)\n",
    "np.allclose(A@x - np.eye(N), 0)"
   ]
  },
  {
   "cell_type": "markdown",
   "metadata": {},
   "source": [
    "Solving for multiple RHS's is automated by `solve`.  \n",
    "The inverse is then"
   ]
  },
  {
   "cell_type": "code",
   "execution_count": 18,
   "metadata": {},
   "outputs": [
    {
     "name": "stdout",
     "output_type": "stream",
     "text": [
      "[[ 1.00000000e+00  1.48983825e-16  1.29713153e-16 -1.37730363e-16  5.70666115e-17]\n",
      " [-2.63953945e-16  1.00000000e+00 -2.45455654e-17 -3.87614313e-16 -2.13277755e-16]\n",
      " [ 8.45676425e-17  1.47923588e-17  1.00000000e+00  4.59424998e-16 -3.78682841e-17]\n",
      " [ 3.66920397e-16 -8.06607627e-17 -1.13327818e-16  1.00000000e+00 -2.70747387e-17]\n",
      " [ 1.27860291e-16 -2.41802750e-17 -1.29339398e-16 -7.97914968e-17  1.00000000e+00]]\n"
     ]
    },
    {
     "data": {
      "text/plain": [
       "True"
      ]
     },
     "execution_count": 18,
     "metadata": {},
     "output_type": "execute_result"
    }
   ],
   "source": [
    "b = np.eye(N)\n",
    "Ainv = solve(A,b)\n",
    "print(Ainv @ A)\n",
    "np.allclose(A@Ainv - np.eye(N), 0)"
   ]
  },
  {
   "cell_type": "markdown",
   "metadata": {},
   "source": [
    "This is automated by `inv`:"
   ]
  },
  {
   "cell_type": "code",
   "execution_count": 19,
   "metadata": {},
   "outputs": [
    {
     "data": {
      "text/plain": [
       "True"
      ]
     },
     "execution_count": 19,
     "metadata": {},
     "output_type": "execute_result"
    }
   ],
   "source": [
    "Ainv = inv(A)\n",
    "np.allclose(A@Ainv - np.eye(N), 0)"
   ]
  },
  {
   "cell_type": "markdown",
   "metadata": {},
   "source": [
    "The determinant of an LU decomposition is just the product of the diagonal elements, but the determinant changes sign every time a row is swapped with another. Thus, we need to find whether the permutation of rows was even or odd. We can determine this from piv by detecting which entries correspond to a swap and counting them:"
   ]
  },
  {
   "cell_type": "code",
   "execution_count": 20,
   "metadata": {},
   "outputs": [
    {
     "data": {
      "text/plain": [
       "array([0, 4, 2, 4, 4], dtype=int32)"
      ]
     },
     "execution_count": 20,
     "metadata": {},
     "output_type": "execute_result"
    }
   ],
   "source": [
    "piv"
   ]
  },
  {
   "cell_type": "code",
   "execution_count": 21,
   "metadata": {},
   "outputs": [],
   "source": [
    "def evenOddPerm(piv):\n",
    "    q = np.sum(piv != np.arange(0,N))\n",
    "    return 1 if q % 2 == 0 else -1"
   ]
  },
  {
   "cell_type": "code",
   "execution_count": 22,
   "metadata": {},
   "outputs": [
    {
     "data": {
      "text/plain": [
       "-0.016662613818674194"
      ]
     },
     "execution_count": 22,
     "metadata": {},
     "output_type": "execute_result"
    }
   ],
   "source": [
    "LU.diagonal().prod() * evenOddPerm(piv)"
   ]
  },
  {
   "cell_type": "markdown",
   "metadata": {},
   "source": [
    "This is automated by det(A):"
   ]
  },
  {
   "cell_type": "code",
   "execution_count": 23,
   "metadata": {},
   "outputs": [
    {
     "data": {
      "text/plain": [
       "-0.016662613818674194"
      ]
     },
     "execution_count": 23,
     "metadata": {},
     "output_type": "execute_result"
    }
   ],
   "source": [
    "det(A)"
   ]
  },
  {
   "cell_type": "markdown",
   "metadata": {},
   "source": [
    "All of this seems to work quite well...  \n",
    "Let's try a more \"difficult\" matrix. The Hilbert matrix $H_{ij} = 1/(i+j-1)$ is such a matrix:\n",
    "$$ H = \\begin{bmatrix}\n",
    "1 & \\frac{1}{2} & \\frac{1}{3} & \\frac{1}{4} & \\dots \\\\\n",
    "\\frac{1}{2} & \\frac{1}{3} & \\frac{1}{4} & \\frac{1}{5} & \\dots \\\\\n",
    "\\frac{1}{3} & \\frac{1}{4} & \\frac{1}{5} & \\frac{1}{6} & \\dots\\\\\n",
    "\\frac{1}{4} & \\frac{1}{5} & \\frac{1}{6} & \\frac{1}{7} &\\dots \\\\\n",
    "\\vdots & \\vdots & \\vdots & \\vdots &\\ddots \\\\\n",
    "\\end{bmatrix} $$"
   ]
  },
  {
   "cell_type": "code",
   "execution_count": 24,
   "metadata": {},
   "outputs": [
    {
     "data": {
      "text/plain": [
       "array([[ 1.00000000e+00,  5.00000000e-01,  3.33333333e-01,  2.50000000e-01,  2.00000000e-01],\n",
       "       [ 5.00000000e-01,  3.33333333e-01,  2.50000000e-01,  2.00000000e-01,  1.66666667e-01],\n",
       "       [ 3.33333333e-01,  2.50000000e-01,  2.00000000e-01,  1.66666667e-01,  1.42857143e-01],\n",
       "       [ 2.50000000e-01,  2.00000000e-01,  1.66666667e-01,  1.42857143e-01,  1.25000000e-01],\n",
       "       [ 2.00000000e-01,  1.66666667e-01,  1.42857143e-01,  1.25000000e-01,  1.11111111e-01]])"
      ]
     },
     "execution_count": 24,
     "metadata": {},
     "output_type": "execute_result"
    }
   ],
   "source": [
    "def hilbert(n):\n",
    "    m = np.arange(1, n + 1) + np.arange(0, n)[:, np.newaxis]\n",
    "    return 1/m\n",
    "\n",
    "N = 5\n",
    "H = hilbert(N)\n",
    "H"
   ]
  },
  {
   "cell_type": "markdown",
   "metadata": {},
   "source": [
    "Now take the inverse, multiply by the original H, and compute the error by subtracting the identity matrix\n",
    "$$ E = H^{-1}H - \\mathbf{I}$$\n",
    "\n",
    "We can summarize the error by taking a matrix norm. The max norm is\n",
    "$$ ||A||_\\infty  = \\max_{i}\\sum_{i=1}^N |A_{ij}|$$\n",
    "and the the 2-norm is\n",
    "$$ ||A||_\\infty  = \\max_{i}\\sum_{i=1}^N A_{ij}^2$$"
   ]
  },
  {
   "cell_type": "code",
   "execution_count": 25,
   "metadata": {},
   "outputs": [],
   "source": [
    "def maxNorm(A):\n",
    "    return np.max(np.sum(np.abs(A), axis=1))"
   ]
  },
  {
   "cell_type": "code",
   "execution_count": 26,
   "metadata": {
    "scrolled": true
   },
   "outputs": [
    {
     "name": "stdout",
     "output_type": "stream",
     "text": [
      "[[ 1.00000000e+00 -2.00395256e-14 -9.35759406e-16 -1.42108547e-14 -1.33596837e-14]\n",
      " [ 4.05808720e-13  1.00000000e+00  6.74381186e-14  4.54747351e-13  2.04034320e-13]\n",
      " [ 6.29496455e-13  6.88079223e-13  1.00000000e+00  0.00000000e+00  1.06504928e-12]\n",
      " [-1.70681247e-12 -1.60930528e-12 -2.67868267e-12  1.00000000e+00 -1.67919999e-12]\n",
      " [ 1.58100200e-12  1.10781754e-12  1.33934134e-12  0.00000000e+00  1.00000000e+00]]\n",
      "max-norm of error: 7.674000412200879e-12\n",
      "  2-norm of error: 4.95295242752307e-12\n"
     ]
    }
   ],
   "source": [
    "Hinv = inv(H)\n",
    "q = Hinv @ H\n",
    "print(q)\n",
    "print(f\"max-norm of error: {maxNorm(q-np.eye(q.shape[0]))}\")\n",
    "print(f\"  2-norm of error: {np.linalg.norm(q-np.eye(q.shape[0]),2)}\")"
   ]
  },
  {
   "cell_type": "markdown",
   "metadata": {},
   "source": [
    "All seems well here...  \n",
    "Let's try increasing the rank of our Hilbert matrix and see what happens"
   ]
  },
  {
   "cell_type": "code",
   "execution_count": 27,
   "metadata": {},
   "outputs": [
    {
     "name": "stdout",
     "output_type": "stream",
     "text": [
      " N     2-norm   max-norm\n",
      " 5   4.95e-12  7.674e-12\n",
      " 6   1.52e-10  2.257e-10\n",
      " 7   5.57e-09  1.153e-08\n",
      " 8   3.02e-07  6.547e-07\n",
      " 9   7.84e-06  1.500e-05\n",
      "10   1.53e-04  3.827e-04\n",
      "11   5.13e-03  1.470e-02\n",
      "12   1.82e-01  4.207e-01\n",
      "13   2.71e+00  7.074e+00\n",
      "14   6.65e+00  1.410e+01\n",
      "15   4.97e+00  9.091e+00\n"
     ]
    }
   ],
   "source": [
    "print(f\" N     2-norm   max-norm\")\n",
    "for i in range(5,16):\n",
    "    H = hilbert(i)\n",
    "    Hinv = inv(H)\n",
    "    q = Hinv @ H\n",
    "    print(f\"{i:2d}  {np.linalg.norm(q-np.eye(q.shape[0]),2): .2e}  {maxNorm(Hinv@H- np.eye(i)):.3e}\")"
   ]
  },
  {
   "cell_type": "markdown",
   "metadata": {},
   "source": [
    "By $N=10$ we only have 3 significant figures left in our result; by $N=12$ we have complete garbage!  \n",
    "What is happening here? Why can't we solve such a simple linear system!\n",
    "\n",
    "The inverse of the Hilbert matrix is\n",
    "$$ (H^{-1})_{ij} = (-1)^{i+j} (i+j-1) \\binom{n+i-1}{n-j} \\binom{n+j-1}{n-i} \\binom{i+j-2}{i-1}^2 $$\n",
    "\n",
    "Python uses arbitrary precision integers and this is an integer result, so the inverse we compute this way must be exact. Let's try multiplying $H$ by this version of $H^{-1}$"
   ]
  },
  {
   "cell_type": "code",
   "execution_count": 38,
   "metadata": {},
   "outputs": [
    {
     "name": "stdout",
     "output_type": "stream",
     "text": [
      " 5  6.2992e-12\n",
      " 6  2.9104e-11\n",
      " 7  5.5533e-09\n",
      " 8  1.7413e-07\n",
      " 9  4.0036e-06\n",
      "10  1.6838e-04\n",
      "11  5.0052e-03\n",
      "12  1.1836e-01\n"
     ]
    }
   ],
   "source": [
    "def hilbertInv(n):\n",
    "    Hinv = np.zeros((n,n))\n",
    "    for ii in range(n):\n",
    "        i = ii + 1\n",
    "        for jj in range(n):\n",
    "            j = jj + 1\n",
    "            Hinv[ii,jj] = (-1)**(i+j) * (i+j-1) * comb(n+i-1, n-j, exact=True) \\\n",
    "                    * comb(n + j -1, n-i, exact=True) * comb(i+j-2,i-1, exact=True)**2\n",
    "    return Hinv\n",
    "\n",
    "for i in range(5,13):\n",
    "    H = hilbert(i)\n",
    "    Hinv = hilbertInv(i)\n",
    "    print(f\"{i:2d}  {np.linalg.norm(H@Hinv-np.eye(i)):.4e}\")\n"
   ]
  },
  {
   "cell_type": "markdown",
   "metadata": {},
   "source": [
    "The result is just about as bad! What is going on?  \n",
    "Here I take the product of row 2 of $H$ and row 7 of $H^{-1}$, showing the\n",
    "terms. You can see that there is a wide spread in matrix element absolute value\n",
    "as well as significant cancellation:"
   ]
  },
  {
   "cell_type": "code",
   "execution_count": 54,
   "metadata": {},
   "outputs": [
    {
     "name": "stdout",
     "output_type": "stream",
     "text": [
      " 5.0000000000000e-01 *  5.2378326000000e+09 =  2.6189163000000e+09\n",
      " 3.3333333333333e-01 * -1.0266151896000e+12 = -3.4220506320000e+11\n",
      " 2.5000000000000e-01 *  5.0418212644800e+13 =  1.2604553161200e+13\n",
      " 2.0000000000000e-01 * -1.0890333931277e+15 = -2.1780667862554e+14\n",
      " 1.6666666666667e-01 *  1.2932271543391e+16 =  2.1553785905652e+15\n",
      " 1.4285714285714e-01 * -9.4836657984869e+16 = -1.3548093997838e+16\n",
      " 1.2500000000000e-01 *  4.5959303484975e+17 =  5.7449129356219e+16\n",
      " 1.1111111111111e-01 * -1.5328700637554e+18 = -1.7031889597283e+17\n",
      " 1.0000000000000e-01 *  3.5990511705258e+18 =  3.5990511705258e+17\n",
      " 9.0909090909091e-02 * -5.9984186175430e+18 = -5.4531078341300e+17\n",
      " 8.3333333333333e-02 *  7.0569630794623e+18 =  5.8808025662186e+17\n",
      " 7.6923076923077e-02 * -5.7285173207022e+18 = -4.4065517851555e+17\n",
      " 7.1428571428571e-02 *  3.0526967301110e+18 =  2.1804976643650e+17\n",
      " 6.6666666666667e-02 * -9.6096725468584e+17 = -6.4064483645723e+16\n",
      " 6.2500000000000e-02 *  1.3541326718119e+17 =  8.4633291988245e+15\n",
      "-1.9600000000000e+02\n"
     ]
    }
   ],
   "source": [
    "def HinvElement(n,i,j):\n",
    "    return (-1)**(i+j) * (i+j-1) * comb(n+i-1, n-j, exact=True) * comb(n + j -1, n-i, exact=True) * comb(i+j-2,i-1, exact=True)**2\n",
    "\n",
    "def HElement(n,i,j):\n",
    "    return 1/(i+j-1)\n",
    "\n",
    "N = 15\n",
    "c = 0\n",
    "for i in range(1,N+1):\n",
    "    a = HElement(N,2,i)\n",
    "    b = HinvElement(N,i,7)\n",
    "    print(f\"{a: .13e} * {b: .13e} = {a*b: .13e}\")\n",
    "    c += a*b\n",
    "print(f\"{c:.13e}\")"
   ]
  },
  {
   "cell_type": "markdown",
   "metadata": {},
   "source": [
    "We can take a smaller example to get further insight. Consider the $2\\times2$ system\n",
    "$$ \\begin{bmatrix} 1 & 1\\\\ 1 & 1.0001\\end{bmatrix} x = \\begin{bmatrix} 2\\\\ 2\\end{bmatrix} $$\n",
    "The solution is"
   ]
  },
  {
   "cell_type": "code",
   "execution_count": 30,
   "metadata": {},
   "outputs": [
    {
     "name": "stdout",
     "output_type": "stream",
     "text": [
      "A = \n",
      "[[ 1.00000000e+00  1.00000000e+00]\n",
      " [ 1.00000000e+00  1.00010000e+00]]\n",
      "\n",
      "b =  [2 2]\n",
      "x =  [ 2.00000000e+00  0.00000000e+00]\n"
     ]
    }
   ],
   "source": [
    "A = np.array([[1, 1], [1, 1.0001]])\n",
    "b = np.array([2, 2])\n",
    "x = solve(A, b)\n",
    "print(\"A = \")\n",
    "print(A)\n",
    "print()\n",
    "print(f\"b = \", b)\n",
    "print(f\"x = \", x)"
   ]
  },
  {
   "cell_type": "markdown",
   "metadata": {},
   "source": [
    "If we now perturb $b_1$ by only 0.0001, the solution changes radically"
   ]
  },
  {
   "cell_type": "code",
   "execution_count": 31,
   "metadata": {},
   "outputs": [
    {
     "name": "stdout",
     "output_type": "stream",
     "text": [
      "b =  [ 2.00000000e+00  2.00010000e+00]\n",
      "x =  [ 1.00000000e+00  1.00000000e+00]\n"
     ]
    }
   ],
   "source": [
    "b = np.array([2, 2.0001])\n",
    "x = solve(A, b)\n",
    "print(\"b = \", b)\n",
    "print(\"x = \", x)"
   ]
  },
  {
   "cell_type": "markdown",
   "metadata": {},
   "source": [
    "The second row vector of the $A$ is very nearly parallel to the first row vector. If it were precisely parallel, the matrix would be singular and there would be no solution to our system. If the rows are sufficiently close to parallel, the system becomes very sensitive to small changes in parameters, and thus very sensitive to round-off errors.\n",
    "\n",
    "This $2\\times2$ system can be quite easily computed in Python's double precision, but as we increase \n",
    "$N$ the number of floating point operations increases as $N^2$ as the numerical situation becomes increasingly problematic.\n",
    "\n",
    "We can explore this phenomenon further by examining another matrix decomposition, the *singular value decomposition* or SVD. We can write *any* matrix as\n",
    "$$ A = U\\cdot S\\cdot V^T $$\n",
    "where $S$ is a diagonal matrix containing the *singular values*, and $U$ and $V$ are orthogonal matrices.\n",
    "\n",
    "If we think of multiplication by the $N\\times M$ matrix $A$ as a map $A: \\mathbb{R}^N\\rightarrow \\mathbb{R}^M$, multiplying a vector $x$ by $V^T$ rotates $x$, multiplying by $S$ stretches along the cardinal axes, and then multiplying by $U$ is another rotation.\n",
    "\n",
    "The map $A$ acting on a vector in $\\mathbb{R}^N$ may only be able to reach a lesser-dimensional subspace of $\\mathbb{M}$ known as the range of $A$. The dimension of the range of $A$ is known as the *rank* of $A$. The rank of $A$ is the number of linearly independent columns and rows of $A$. The rank of $A$ is at least 1 and at most $\\min(M,N)$.\n",
    "\n",
    "Non-zero vectors in $\\mathbb{N}$ which are mapped to zero by $A$ live in the *nullspace* of $A$ whose dimension is the *nullity* of $A$. The rank-nullity theorem says that the rank plus nullity of $A$ equals $N$.\n",
    "\n",
    "For $A$ a square $N\\times N$ matrix, if $A$'s rank is $N$, then $A$ is invertable and $Ax=b$ has a solution for any $b$, and only $x=0$ is mapped to $b=0$. If $A$ has rank less than $N$, then most vectors $b$ yeild no solution, but some have multiple solutions.\n",
    "\n",
    "In the SVD, the columns of $U$ which correspond to non-zero elements of $S$ are an orthonormal basis for the range of $A$, and the columns of $V$ which correspond to zero elements of $S$ form an orthonormal basis for the null space of $A$.\n",
    "\n",
    "We'll have more to say about SVD later on, but consider now square matrices. Because $U$ and $V$ are orthogonal, their inverse is their transpose, and thus the inverse of $A$ can be written\n",
    "$$ A^{-1} = V \\cdot \\left[\\textrm{diag}(1/s_i)\\right]\\cdot U^T $$\n",
    "If one of the $s_i$ is zero, then $A$ is singular. If the range in values spanned by the set of $s_i$ spans more than the $10^{15}$ or so representable by a double-precision mantissa, then the matrix is *numerically singular*. Even if the range is smaller, it gives some idea of the loss of precision from roundoff error.\n",
    "The ratio of the largest to the smallest singular value is known as the *condition number* \n",
    "$$ \\textrm{condition number}(A) = \\frac{\\max_i{s_i}}{\\min_i{s_i}} $$\n",
    "As the condition number of $A$ grows, it becomes increasingly difficult to retain precision in solving a linear system (effectively inverting $A$). "
   ]
  },
  {
   "cell_type": "markdown",
   "metadata": {},
   "source": [
    "Let's examine the condition number of our $2\\times 2$ system"
   ]
  },
  {
   "cell_type": "code",
   "execution_count": 32,
   "metadata": {},
   "outputs": [
    {
     "name": "stdout",
     "output_type": "stream",
     "text": [
      "S =  [ 2.00005000e+00  4.99987500e-05]\n",
      "condition number = 40002.00007491522\n"
     ]
    }
   ],
   "source": [
    "U,S,V = svd(A)\n",
    "print(\"S = \", S)\n",
    "print(f\"condition number = {np.max(S)/np.min(S)}\")"
   ]
  },
  {
   "cell_type": "markdown",
   "metadata": {},
   "source": [
    "Now look at the condition number of the $N\\times N$ Hilbert matrix"
   ]
  },
  {
   "cell_type": "code",
   "execution_count": 33,
   "metadata": {},
   "outputs": [
    {
     "name": "stdout",
     "output_type": "stream",
     "text": [
      " 2  condition number = 1.93e+01\n",
      " 3  condition number = 5.24e+02\n",
      " 4  condition number = 1.55e+04\n",
      " 5  condition number = 4.77e+05\n",
      " 6  condition number = 1.50e+07\n",
      " 7  condition number = 4.75e+08\n",
      " 8  condition number = 1.53e+10\n",
      " 9  condition number = 4.93e+11\n",
      "10  condition number = 1.60e+13\n",
      "11  condition number = 5.22e+14\n"
     ]
    }
   ],
   "source": [
    "for i in range(2,12):\n",
    "    U,S,V = svd(hilbert(i))\n",
    "    print(f\"{i:2d}  condition number = {np.max(S)/np.min(S):.2e}\")"
   ]
  },
  {
   "cell_type": "markdown",
   "metadata": {},
   "source": [
    "Now go back and look at our results for inverting bits of the Hilbert matrix. The condition number\n",
    "is important enough for numpy to give it its own function, `np.linalg.cond`"
   ]
  },
  {
   "cell_type": "code",
   "execution_count": 34,
   "metadata": {},
   "outputs": [
    {
     "name": "stdout",
     "output_type": "stream",
     "text": [
      " N     2-norm  cond. num.\n",
      " 5   4.95e-12  4.77e+05\n",
      " 6   1.52e-10  1.50e+07\n",
      " 7   5.57e-09  4.75e+08\n",
      " 8   3.02e-07  1.53e+10\n",
      " 9   7.84e-06  4.93e+11\n",
      "10   1.53e-04  1.60e+13\n",
      "11   5.13e-03  5.22e+14\n",
      "12   1.82e-01  1.62e+16\n",
      "13   2.71e+00  4.79e+17\n",
      "14   6.65e+00  2.55e+17\n",
      "15   4.97e+00  2.50e+17\n"
     ]
    }
   ],
   "source": [
    "print(f\" N     2-norm  cond. num.\")\n",
    "for i in range(5,16):\n",
    "    H = hilbert(i)\n",
    "    Hinv = inv(H)\n",
    "    q = Hinv @ H\n",
    "    c = np.linalg.cond(H)\n",
    "    print(f\"{i:2d}  {np.linalg.norm(q-np.eye(q.shape[0]),2): .2e}  {c:.2e}\")"
   ]
  },
  {
   "cell_type": "markdown",
   "metadata": {},
   "source": [
    "Qeustions:   \n",
    "\n",
    "    How does the time to solve a linear system grow with $N$?\n",
    "    How does the time to take an inverse grow with $N$?"
   ]
  },
  {
   "cell_type": "markdown",
   "metadata": {},
   "source": [
    "\"In-place\" inverses can be useful for large matrices\n",
    "\n",
    "Tuesday we'll consider iterative methods and eigenvalue problems"
   ]
  },
  {
   "cell_type": "code",
   "execution_count": null,
   "metadata": {},
   "outputs": [],
   "source": []
  }
 ],
 "metadata": {
  "kernelspec": {
   "display_name": "Python 3",
   "language": "python",
   "name": "python3"
  },
  "language_info": {
   "codemirror_mode": {
    "name": "ipython",
    "version": 3
   },
   "file_extension": ".py",
   "mimetype": "text/x-python",
   "name": "python",
   "nbconvert_exporter": "python",
   "pygments_lexer": "ipython3",
   "version": "3.7.9"
  }
 },
 "nbformat": 4,
 "nbformat_minor": 4
}
