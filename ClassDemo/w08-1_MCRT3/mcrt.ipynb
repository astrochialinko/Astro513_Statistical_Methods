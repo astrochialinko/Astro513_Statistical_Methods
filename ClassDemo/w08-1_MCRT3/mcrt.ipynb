{
 "cells": [
  {
   "cell_type": "code",
   "execution_count": 1,
   "id": "0885438a",
   "metadata": {},
   "outputs": [],
   "source": [
    "%matplotlib widget\n",
    "\n",
    "import numpy as np\n",
    "import matplotlib.pyplot as plt\n",
    "from mcrt import RT\n",
    "\n",
    "clight = 2.99792458e8\n",
    "plt.rcParams['figure.dpi'] = 150"
   ]
  },
  {
   "cell_type": "code",
   "execution_count": 2,
   "id": "332e1a8f",
   "metadata": {},
   "outputs": [
    {
     "name": "stdout",
     "output_type": "stream",
     "text": [
      "total optical depth at E: 1.0000  : 2.3568e+02\n",
      "total optical depth at E: 0.8000  : 1.0000e+01\n",
      "\n",
      "     60 K histories\n",
      "\n",
      "total time following histories: 2.159563e+00 seconds\n",
      "rate: 3.034688e+04 packets/second\n",
      "\n",
      "Deposit: 0.000000e+00 0.000000e+00  Escape: 1.000232e+00  PdV: -2.424134e-04   Emit: 9.999969e-01\n",
      "1-sum: 7.502688e-06\n"
     ]
    }
   ],
   "source": [
    "nz = 11\n",
    "rmin, rmax = 0, 10\n",
    "vmin, vmax = 0, 0#.001*clight\n",
    "rhomin, rhomax = 1,1\n",
    "r = np.linspace(rmin, rmax, nz)\n",
    "v = np.linspace(vmin, vmax, nz)\n",
    "rho = np.linspace(rhomin, rhomin, nz)\n",
    "\n",
    "ne = 101\n",
    "eMin, eMax = 0.8, 1.2\n",
    "    \n",
    "seed = 2873642343;\n",
    "N0 = 2**16\n",
    "\n",
    "sim = RT(r, v, rho)\n",
    "sim.setSpectrumGrid(eMin, eMax, ne)\n",
    "sim.doSimulation(N0,seed)\n",
    "\n",
    "egrid, spec, sig = sim.getSpectrum()\n",
    "egrid = egrid[:-1]\n",
    "spec = spec[:-1]\n",
    "sig = sig[:-1]\n",
    "\n",
    "ex, emit, esig = sim.getEmitSpec()\n",
    "ex = ex[:-1]\n",
    "emit = emit[:-1]\n",
    "esig = esig[:-1]"
   ]
  },
  {
   "cell_type": "code",
   "execution_count": 3,
   "id": "80bbae18",
   "metadata": {},
   "outputs": [
    {
     "data": {
      "application/vnd.jupyter.widget-view+json": {
       "model_id": "bc839fe28bda4653a6d1b4e2c85ff6ce",
       "version_major": 2,
       "version_minor": 0
      },
      "text/plain": [
       "Canvas(toolbar=Toolbar(toolitems=[('Home', 'Reset original view', 'home', 'home'), ('Back', 'Back to previous …"
      ]
     },
     "metadata": {},
     "output_type": "display_data"
    },
    {
     "data": {
      "text/plain": [
       "[<matplotlib.lines.Line2D at 0x7ff7d9658820>]"
      ]
     },
     "execution_count": 3,
     "metadata": {},
     "output_type": "execute_result"
    }
   ],
   "source": [
    "spec1 = spec\n",
    "sig1 = sig\n",
    "fig, ax = plt.subplots()\n",
    "offset = (egrid[1]-egrid[0])/2\n",
    "ax.step(egrid+offset, spec1, 'b')\n"
   ]
  },
  {
   "cell_type": "markdown",
   "id": "14a87667",
   "metadata": {},
   "source": []
  },
  {
   "cell_type": "code",
   "execution_count": 4,
   "id": "a8503f44",
   "metadata": {},
   "outputs": [
    {
     "data": {
      "application/vnd.jupyter.widget-view+json": {
       "model_id": "469a318ea67147feb0d9898cce2d92bd",
       "version_major": 2,
       "version_minor": 0
      },
      "text/plain": [
       "Canvas(toolbar=Toolbar(toolitems=[('Home', 'Reset original view', 'home', 'home'), ('Back', 'Back to previous …"
      ]
     },
     "metadata": {},
     "output_type": "display_data"
    },
    {
     "data": {
      "text/plain": [
       "[<matplotlib.lines.Line2D at 0x7ff7d4667b50>]"
      ]
     },
     "execution_count": 4,
     "metadata": {},
     "output_type": "execute_result"
    }
   ],
   "source": [
    "fig, ax = plt.subplots()\n",
    "offset = (ex[1]-ex[0])/2\n",
    "ax.step(ex+offset, emit, 'b')\n"
   ]
  },
  {
   "cell_type": "code",
   "execution_count": null,
   "id": "5f6b6d42",
   "metadata": {},
   "outputs": [],
   "source": []
  }
 ],
 "metadata": {
  "kernelspec": {
   "display_name": "Python 3",
   "language": "python",
   "name": "python3"
  },
  "language_info": {
   "codemirror_mode": {
    "name": "ipython",
    "version": 3
   },
   "file_extension": ".py",
   "mimetype": "text/x-python",
   "name": "python",
   "nbconvert_exporter": "python",
   "pygments_lexer": "ipython3",
   "version": "3.8.8"
  }
 },
 "nbformat": 4,
 "nbformat_minor": 5
}
