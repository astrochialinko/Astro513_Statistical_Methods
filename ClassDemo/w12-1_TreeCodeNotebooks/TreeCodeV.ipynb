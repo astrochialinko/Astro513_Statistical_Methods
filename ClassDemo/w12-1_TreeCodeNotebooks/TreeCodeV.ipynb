{
 "cells": [
  {
   "cell_type": "markdown",
   "id": "923bce0a",
   "metadata": {},
   "source": [
    "### Building a Tree Code IV: Trying Out the Tree Walk\n",
    "\n",
    "In this series of notebooks we will build a tree code for determining the acceleration from a set of \"particles\" (point masses) in $O(N\\log N)$ time.\n",
    "\n",
    "In this part we will try it out on a Plummer model."
   ]
  },
  {
   "cell_type": "code",
   "execution_count": null,
   "id": "b91f88de",
   "metadata": {},
   "outputs": [],
   "source": [
    "%matplotlib inline\n",
    "\n",
    "from dataclasses import dataclass\n",
    "\n",
    "import matplotlib.pyplot as plt\n",
    "from matplotlib.patches import Rectangle\n",
    "import numpy as np\n",
    "import time\n",
    "\n",
    "import numpy.random as rng\n",
    "rng.seed(24238929)\n",
    "\n",
    "from Nbody import ParticleSet, Morton, TreeNode, Octree, BHtree\n",
    "\n",
    "from plummer import PlummerModel\n",
    "\n",
    "# make notebook as wide as browser window\n",
    "from IPython.core.display import display, HTML\n",
    "display(HTML(\"<style>.container { width:100% !important; }</style>\"))\n",
    "plt.rcParams['figure.dpi'] = 150"
   ]
  },
  {
   "cell_type": "markdown",
   "id": "d88773cf",
   "metadata": {},
   "source": [
    "A commonly-used test problem is the Plummer sphere, and equilibrium distribtion with a density\n",
    "$$ \\rho(r) = \\frac{3M}{4\\pi a^3}\\left[1 + \\frac{r^2}{a^2}\\right]^{-5/2} $$\n",
    "so that the potential is\n",
    "$$ \\Phi(r) = -\\frac{GM}{(r^2 + a^2)^{1/2}} $$\n",
    "and the acceleration is\n",
    "$$ |\\mathbf{a}(r)| = -GM \\frac{r}{(r^2 + a^2)^{3/2}} $$\n",
    "\n",
    "We can Monte Carlo sample from a Plummer sphere. Each sample is a \"star\". Because the density reaches zero only at $r\\rightarrow\\infty$,\n",
    "we need to impose a cut-off in radius. The acceptance-rejection method commonly used was first describd in an appendix to Aarseth, S. J., Henon, M., & Wielen, R. *A Comparison of Numerical Methods for the Study of Star Cluster Dynamics*,\n",
    "A&A 37, p.183 (1974)."
   ]
  },
  {
   "cell_type": "markdown",
   "id": "a3cc653a",
   "metadata": {},
   "source": [
    "Let's try it out on a Plummer sphere of 16K points. I haven't quite figured out the normalization for\n",
    "the Python Plummer sphere method I grabbed off github... I'll compare it with my C++ version soon..."
   ]
  },
  {
   "cell_type": "code",
   "execution_count": null,
   "id": "e84e8b19",
   "metadata": {},
   "outputs": [],
   "source": [
    "N = 2**14\n",
    "p = ParticleSet(N)\n",
    "p.pos[:,:], p.vel[:,:], p.mass[:] = PlummerModel(N)\n",
    "p.pos /= 4*np.pi**2\n",
    "p.boundingCube()\n",
    "print(p.boxMin, p.boxMax)\n",
    "fig, ax = plt.subplots()\n",
    "ax.plot(p.pos[:,0], p.pos[0:,1], ',')\n",
    "ax.set_aspect('equal')"
   ]
  },
  {
   "cell_type": "markdown",
   "id": "a39292a2",
   "metadata": {},
   "source": [
    "We'll use a common expression for the optimal smoothing length for a Plummer sphere:"
   ]
  },
  {
   "cell_type": "code",
   "execution_count": null,
   "id": "93080cdf",
   "metadata": {},
   "outputs": [],
   "source": [
    "maxLeafSize = 32\n",
    "epsSmoothing = 0.98*p.N**(-0.26)\n",
    "B = BHtree(p, maxLeafSize, epsSmoothing)"
   ]
  },
  {
   "cell_type": "code",
   "execution_count": null,
   "id": "368162c1",
   "metadata": {},
   "outputs": [],
   "source": [
    "tic = time.perf_counter()\n",
    "B.accAll(0.75)\n",
    "toc = time.perf_counter()\n",
    "print(f\"elapsed time: {toc-tic} seconds\")"
   ]
  },
  {
   "cell_type": "code",
   "execution_count": null,
   "id": "d3f6ef72",
   "metadata": {},
   "outputs": [],
   "source": [
    "rr = np.logspace(-3, 0, 400)\n",
    "\n",
    "fig, ax = plt.subplots(1,2)\n",
    "r = np.linalg.norm(p.pos,axis=1)\n",
    "a = np.linalg.norm(p.acc,axis=1)\n",
    "ax[0].loglog(r, a, '.')\n",
    "ax[0].loglog(rr, rr/((rr**2 + epsSmoothing**2)**(1.5)), 'r')\n",
    "\n",
    "ax[1].loglog(r, -p.pot, '.')\n",
    "ax[1].plot(rr, 1.0/((rr**2 + epsSmoothing**2)**(0.5)), 'r')"
   ]
  },
  {
   "cell_type": "markdown",
   "id": "3370146c",
   "metadata": {},
   "source": [
    "Sadly, this implementation in Python is far too slow for practical work. The 16K particle run which produced these plots took more than a minute!\n",
    "\n",
    "A C++ implementation (with a Python interface) which can achieve a rate of more than $10^6$ particles/second for a Plummer sphere of $N=10^6$ is on D2L. Examples of its use are in the notebooks PlummerExample and GalaxyCollide."
   ]
  }
 ],
 "metadata": {
  "kernelspec": {
   "display_name": "Python 3",
   "language": "python",
   "name": "python3"
  },
  "language_info": {
   "codemirror_mode": {
    "name": "ipython",
    "version": 3
   },
   "file_extension": ".py",
   "mimetype": "text/x-python",
   "name": "python",
   "nbconvert_exporter": "python",
   "pygments_lexer": "ipython3",
   "version": "3.8.8"
  }
 },
 "nbformat": 4,
 "nbformat_minor": 5
}
