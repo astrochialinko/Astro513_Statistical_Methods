{
 "cells": [
  {
   "cell_type": "markdown",
   "id": "d594251b",
   "metadata": {},
   "source": [
    "### Building a Tree Code II: Sorting in Three Dimensions\n",
    "\n",
    "In this series of notebooks we will build a tree code for determining the acceleration from a set of \"particles\" (point masses) in $O(N\\log N)$ time.\n",
    "\n",
    "This is the first part, creating a set of particles, forming Morton keys, and sorting the particles into tree order."
   ]
  },
  {
   "cell_type": "code",
   "execution_count": null,
   "id": "62c61726",
   "metadata": {},
   "outputs": [],
   "source": [
    "%matplotlib inline\n",
    "\n",
    "# make notebook as wide as browser window\n",
    "from IPython.core.display import display, HTML\n",
    "display(HTML(\"<style>.container { width:100% !important; }</style>\"))\n",
    "\n",
    "import matplotlib.pyplot as plt\n",
    "from matplotlib.patches import Rectangle\n",
    "import numpy as np\n",
    "\n",
    "from numba import jit, njit, uint32, uint64, float64\n",
    "from numba.experimental import jitclass\n",
    "import numba\n",
    "\n",
    "import numpy.random as rng\n",
    "rng.seed(24238929)"
   ]
  },
  {
   "cell_type": "markdown",
   "id": "4c061cf6",
   "metadata": {},
   "source": [
    "First we need a way of organizing our particle data. For each of our $N$ particles, at a minimum we will want to store the particles' positions, velocities, and masses. In practice, it is also useful to store the accelerations, the potential at each particle, and a particle \"ID\" we can use for various purposes.\n",
    " \n",
    "We have two principal ways to organize and store this data. We could create a structure (class in Python) to hold one particle's data (the @dataclass decorator is described below)\n",
    "```\n",
    "@dataclass\n",
    "class Particle:\n",
    "    pos: np.ndarray  # array of (3)\n",
    "    vel: np.ndarray  # array of (3)\n",
    "    acc: np.ndarray  # array of (3)\n",
    "    pot: float       # scalar\n",
    "    mass: float      # scalar\n",
    "    id: int          # scalar\n",
    "```\n",
    "and then create an array of length $N$ of these particle structures. This is known as an *array-of-structures*,\n",
    "and would be accessed *e.g.* as ```particle[n].vel``` \n",
    "\n",
    "We could also create a single structure (class) which stores various arrays of particle data:\n",
    "```\n",
    "@dataclass\n",
    "class Particle:\n",
    "    pos: np.ndarray  # array of (N,3)\n",
    "    vel: np.ndarray  # array of (N,3)\n",
    "    acc: np.ndarray  # array of (N,3)\n",
    "    pot: np.ndarray  # array of (N)\n",
    "    mass: np.ndarray # array of (N)\n",
    "    id: np.ndarray   # array of (N)\n",
    "```\n",
    "Here we have one class, and quantities are addressed as ```particles.vel[n]```. This format is known as the *structure-of-arrays*."
   ]
  },
  {
   "cell_type": "markdown",
   "id": "71067795",
   "metadata": {},
   "source": [
    "We've just used the decorator @dataclass, which automatically builds a function\n",
    "```\n",
    "class Foo:\n",
    "    def __init__(self, center, halfWidth, ...):\n",
    "        self.center = center\n",
    "        self.halfWidth = halfWidth\n",
    "        ...\n",
    "```    \n",
    "from\n",
    "```\n",
    "@dataclass\n",
    "class Foo:\n",
    "    center: np.ndarray\n",
    "    halfwidth: float\n",
    "    ...\n",
    "```\n",
    "Thus, a @dataclass is a class whose ```__init__``` function simply copies all of its arguments into class variables\n",
    "(```self.```) with the given names."
   ]
  },
  {
   "cell_type": "markdown",
   "id": "ffee9b5e",
   "metadata": {},
   "source": [
    "We will have occasion to loop over the particle positions in a group when computing the acceleration. Because numpy arrays are so much faster for this sort of thing, we will choose the latter, though in the C++ example we'll see a more sophisticated approach.\n",
    "\n",
    "We will include in our ParticleSet class some utility functions for working with the particle data, and try to make things work a bit faster by using the Numba just-in-time (JIT) compiler:"
   ]
  },
  {
   "cell_type": "code",
   "execution_count": null,
   "id": "60d0809a",
   "metadata": {},
   "outputs": [],
   "source": [
    "pset_spec = [\n",
    "    ('N', uint32),\n",
    "    ('pos', float64[:,:]),\n",
    "    ('vel', float64[:,:]),\n",
    "    ('acc', float64[:,:]),\n",
    "    ('pot', float64[:]),\n",
    "    ('mass', float64[:]),\n",
    "    ('id', uint32[:]),\n",
    "    ('boxMin', float64[:]),\n",
    "    ('boxMax', float64[:]),\n",
    "    ('center', float64[:]),\n",
    "    ('halfWidth', float64)\n",
    "]\n",
    "\n",
    "@jitclass(pset_spec)\n",
    "class ParticleSet(object):\n",
    "    def __init__(self, N):\n",
    "        self.N = N\n",
    "        self.pos  = np.zeros((N,3), dtype=np.float64)\n",
    "        self.vel  = np.zeros((N,3), dtype=np.float64)\n",
    "        self.acc  = np.zeros((N,3), dtype=np.float64)\n",
    "        self.pot  = np.zeros(N,     dtype=np.float64)\n",
    "        self.mass = np.zeros(N,     dtype=np.float64)\n",
    "        self.id   = np.zeros(N,     dtype=np.uint32)\n",
    "\n",
    "    # permute the paticle set according to a permutation array\n",
    "    # (used for sorting the particles)\n",
    "    def permute(self, index):\n",
    "        self.pos[:,:]  = self.pos[index,:]\n",
    "        self.vel[:,:]  = self.vel[index,:]\n",
    "        self.acc[:,:]  = self.acc[index,:]\n",
    "        self.pot[:]  = self.pot[index]\n",
    "        self.mass[:] = self.mass[index]\n",
    "        self.id[:]  = self.id[index]\n",
    "\n",
    "    # find the bounding box for the particles stored in this set\n",
    "    def boundingCube(self):\n",
    "        self.boxMin = np.min(self.pos) * np.ones(3) * (1-2.2e-10)  # keep bounding box larger than particles' range\n",
    "        self.boxMax = np.max(self.pos) * np.ones(3) * (1+2.2e-10)\n",
    "        self.center = 0.5*(self.boxMax + self.boxMin)\n",
    "        self.halfWidth = 0.5*(self.boxMax[0]-self.boxMin[0])"
   ]
  },
  {
   "cell_type": "markdown",
   "id": "626818ff",
   "metadata": {},
   "source": [
    "Next, create a particle set to play with. All we will need for now are some positions, most easily generated in a uniform distribution:"
   ]
  },
  {
   "cell_type": "code",
   "execution_count": null,
   "id": "1eb87eeb",
   "metadata": {},
   "outputs": [],
   "source": [
    "N = 100000\n",
    "p = ParticleSet(N)\n",
    "p.pos[:,:] = rng.rand(N,3)\n",
    "p.boundingCube()\n",
    "print(f\"{p.boxMin} : {p.boxMax}\")\n",
    "print(f\"{p.center}  {p.halfWidth}\")"
   ]
  },
  {
   "cell_type": "markdown",
   "id": "c6843f5b",
   "metadata": {},
   "source": [
    "<hr style=\"background-color: rgb(0,0,0);height: 2.0px;\"/>"
   ]
  },
  {
   "cell_type": "markdown",
   "id": "8d9622e0",
   "metadata": {},
   "source": [
    "Now we get to group-finding. The most efficient way to search an ordered list in 1D is *binary search*. At each stage in a binary search we divide the search space into two halves, decide which half has our point, and repeat\n",
    "until we have narrowed down the search space to our target. For a list of length $N$, we will have to repeat this process $O(\\log_2 N)$ times. This is just the way someone naturally looks up a word in a dictionary.\n",
    "\n",
    "Barnes and Hut used a natural extension of binary search to N dimensions (three in our case). If we start by determining the *bounding box* for our particles (the cube which just encloses all of the particles), we can subdivide this box in two *in each dimension*. Thus, in 3D we divide the bounding box into eight octants, and then recurse down dividing each octant into eight octants, and so on.\n",
    "\n",
    "We can represent this organization of octants as a graph, known as an *octree* (here presented for a *quadtree* in 2D):"
   ]
  },
  {
   "attachments": {
    "octree.png": {
     "image/png": "[encoded data removed]"
    }
   },
   "cell_type": "markdown",
   "id": "5d1e2e56",
   "metadata": {},
   "source": [
    "\n",
    "<div>\n",
    "<img src=\"attachment:octree.png\" width=\"500\"/>\n",
    "</div>"
   ]
  },
  {
   "cell_type": "markdown",
   "id": "47429035",
   "metadata": {},
   "source": [
    "The top of the graph, corresponding to the bounding box of our problem, is known as the *root* of the tree. Each of the *children* of the root, and their children, etc. are *nodes* in the tree. The bottom-most nodes, those which contain one particle, are the *leaf nodes*. As we shall see, it usually doesn't pay to build a tree all the way down to one-particles leaves; we usually define a parameter maxLeafSize to tell the algorthm to stop subdividing nodes when their *population* is fewer than maxLeafSize. (You will not be the first to note that, in computer science, tree have their roots on top and their leaves on the bottom!)\n",
    "\n",
    "By storing information about our hierarchically-subdivided cells as the graph of a tree, we can easily *travese* the tree by following the *edges* of the graph connecting the nodes. More on this shortly..."
   ]
  },
  {
   "cell_type": "markdown",
   "id": "e4417220",
   "metadata": {},
   "source": [
    "First, remember that binary search only works on an *ordered* list, so we will need a multidimensional version of ordering. One version is *Morton* (or Lesbesgue) ordering. An ordering is a way to assign an integer to objects so that they may be sorted into order. Morton ordering works as follows:\n",
    "\n",
    "Make an integer representation of the x-, y-, and z-coordinates of our particles. Say the particles have a bounding box $[0,1)^3$ (we can always rescale their coordinates to make this so). We can then multiply these scaled coodinates by, say $2^32$, so that their integer representation will fit into a 4-byte integer. The lower half of the x-coordinates will have a 0 as their most-significant bit, and the upper half of the x-coordinates will have a 1. The same will be true in the y- and z-directions. Thus, if we make a 3-bit (octal) number from the first bits of\n",
    "x, y, and z, we will have a number between 0 and 7. In Morton ordering, this number tells us in which octant of the bounding box the particle lies. \n",
    "\n",
    "We then move on to using the second bits of the three coordinate directions. This gives us in which of the child octants the particle lies, and so on. Thus, by interleaving the bits $x_1y_1z_1x_2y_2z_2x_3y_3z_3\\dots$ we have the \"address\" of the lowest-level octant in our tree where the particle can be found. Taking three bits at a time, we know which octant to go to in the next level of the tree in three dimensions.\n",
    "\n",
    "If we then sort the particles w/r to their Morton keys, all of the particles in a given node of the tree will be adjacent in the list, *at all levels in the tree*. This is Morton ordering.\n",
    "\n"
   ]
  },
  {
   "cell_type": "markdown",
   "id": "3fada4c2",
   "metadata": {},
   "source": [
    "<hr style=\"background-color: rgb(0,0,0);height: 2.0px;\"/>\n",
    "\n",
    "Morton keys are constructed by interleaving the bits of integer representations of the coordinates after shifing and scaling them onto $[0,1)^3$.\n",
    "\n",
    "Create a scaled set of coordinates on the interval $[0,1)^3$"
   ]
  },
  {
   "cell_type": "code",
   "execution_count": null,
   "id": "58c9535d",
   "metadata": {},
   "outputs": [],
   "source": [
    "rp = (p.pos-p.boxMin)/(p.boxMax-p.boxMin)\n",
    "np.min(rp, axis=0), np.max(rp, axis=0)"
   ]
  },
  {
   "cell_type": "markdown",
   "id": "a21ae9e6",
   "metadata": {},
   "source": [
    "We can now write a function to compute the Morton key of one of these scaled coordinates. If we assume 42 bits per dimension, the 3D Morton key will be 126 bits long, and this fits nicely in a 128-bit integer.\n",
    "\n",
    "This corresponds to a tree of maximum depth 42, where the linear size of the smallest cell is $2^{-42} \\approx 2.3\\times10^{-13}$ in scaled coordinates, sufficient dynamic range for most purposes (though not all!).\n",
    "\n",
    "To start, let our key be an array of 42 bytes, one byte for each level in the tree. At each level, we compute the coordinate of the midpoint of the cell containing a particle's position, call it $\\mathbf{c}$, and at each level, ask if the coordinate is greater or less than the cell center. Represent this by 3 bits for 3 dimensions. \n",
    "\n",
    "In the following, the operator in the expression ```a<<b``` is \"shift left\" -- move all bits of $a$ to the left by $b$.\n",
    "\n",
    "The operator $|$ is bitwise-or, so that ```0100 | 0010``` results in $0110$\n",
    "\n",
    "Thus"
   ]
  },
  {
   "cell_type": "code",
   "execution_count": null,
   "id": "805c6106",
   "metadata": {},
   "outputs": [],
   "source": [
    "print(f\" 1<<4 = {(1<<4):06b}\")\n",
    "print(f\" 0101 << 3 = {0b0101 << 3:08b}\")\n",
    "print(f\" 0100 | 0010 = {0b0100 | 0b0010:04b}\")"
   ]
  },
  {
   "cell_type": "markdown",
   "id": "c413f253",
   "metadata": {},
   "source": [
    "Our Morton key function is then"
   ]
  },
  {
   "cell_type": "code",
   "execution_count": null,
   "id": "f23c7996",
   "metadata": {},
   "outputs": [],
   "source": [
    "def makeKeyArray(pos):\n",
    "    \n",
    "    c = 0.5*np.ones(3)  # center of the root; the whole box\n",
    "    r = 0.25            # radius of cells at the first level (octants)\n",
    "    \n",
    "    key = np.zeros(42, dtype='u8')  # unsigned 8-bit integers\n",
    "    for level in range(42):\n",
    "        oct = 0\n",
    "        for d in range(3):\n",
    "            if pos[d] >= c[d]:\n",
    "                oct |= (1<<d)  # set bit d of o to one\n",
    "                c[d] += r\n",
    "            else:\n",
    "                c[d] -= r    # set bit d of o to zero (by ignoring it!)\n",
    "        key[level] = oct\n",
    "        r *= 0.5\n",
    "    return key\n",
    "\n",
    "def printKeyArrayBinary(key):\n",
    "    for level in range(42): print(f\"{key[level]:>03b} \", end=\"\")"
   ]
  },
  {
   "cell_type": "markdown",
   "id": "b143b445",
   "metadata": {},
   "source": [
    "Let's look at the key for the first point in our set; we'll print them out by *octs* so that the addressing function of the Morton\n",
    "key is more obvious"
   ]
  },
  {
   "cell_type": "code",
   "execution_count": null,
   "id": "66c61fb0",
   "metadata": {},
   "outputs": [],
   "source": [
    "key = makeKeyArray(rp[0])\n",
    "printKeyArrayBinary(key)"
   ]
  },
  {
   "cell_type": "markdown",
   "id": "b536f8f3",
   "metadata": {},
   "source": [
    "Binary keys are a bit cumbersome to look at; let's print the key as octal (base-8) digits. Each octal digit is the key at one level:"
   ]
  },
  {
   "cell_type": "code",
   "execution_count": null,
   "id": "4072afb8",
   "metadata": {},
   "outputs": [],
   "source": [
    "def printKeyArray(key):\n",
    "    for level in range(42): print(f\"{key[level]:>3o} \", end=\"\")\n",
    "printKeyArray(key); print()\n",
    "printKeyArrayBinary(key)"
   ]
  },
  {
   "cell_type": "markdown",
   "id": "44d8de53",
   "metadata": {},
   "source": [
    "Draw the boxes for the first 5 levels for a few points"
   ]
  },
  {
   "cell_type": "code",
   "execution_count": null,
   "id": "ebaf36f1",
   "metadata": {},
   "outputs": [],
   "source": [
    "def drawKeyCell(key, pos, ax):\n",
    "    c = 0.5*np.ones(3)\n",
    "    r = 0.5\n",
    "        \n",
    "    for level in range(5):\n",
    "        ax.add_artist(Rectangle(c-r, width=2*r, height=2*r, fill=False))\n",
    "\n",
    "        r *= 0.5\n",
    "        for d in range(3):\n",
    "            k = int(key[level])\n",
    "            if int(key[level])&(1<<d):\n",
    "                c[d] += r\n",
    "            else:\n",
    "                c[d] -= r\n",
    "\n",
    "\n",
    "fig, ax = plt.subplots()\n",
    "ax.set_xlim(-0.2, 1.2)\n",
    "ax.set_ylim(-0.2, 1.2)\n",
    "for i in range(4):\n",
    "    pos = rp[i]\n",
    "    key = makeKeyArray(rp[i])\n",
    "    ax.plot(pos[0], pos[1], '.')\n",
    "    drawKeyCell(key, pos, ax)\n",
    "ax.set_axis_off()"
   ]
  },
  {
   "cell_type": "markdown",
   "id": "846b9a2c",
   "metadata": {},
   "source": [
    "Our key in the previous example is $42\\times8=336$ bits long, but it really only needs to be 126 bits long. We can\n",
    "improve things by storing the key as bits. All it will take is some *bit-twiddling* (a technical term!):"
   ]
  },
  {
   "cell_type": "code",
   "execution_count": null,
   "id": "a3916886",
   "metadata": {},
   "outputs": [],
   "source": [
    "def makeKeyBinary(pos: np.ndarray) -> int:\n",
    "    c = 0.5*np.ones(3)\n",
    "    r = 0.25\n",
    "    \n",
    "    offset = 3*(42-1) # how much to shift left the most-significant bit\n",
    "    key = 0\n",
    "    for level in range(42):\n",
    "        oct = 0\n",
    "        for d in range(3):\n",
    "            if pos[d] >= c[d]:\n",
    "                oct |= (1<<d)\n",
    "                c[d] += r\n",
    "            else:\n",
    "                c[d] -= r\n",
    "        key |= oct<<(offset-3*level)\n",
    "        r *= 0.5\n",
    "        \n",
    "    return key"
   ]
  },
  {
   "cell_type": "code",
   "execution_count": null,
   "id": "44a071a6",
   "metadata": {},
   "outputs": [],
   "source": [
    "def printKeyArray(key):\n",
    "    for level in range(42): print(f\"{key[level]:>1o}\", end=\"\")\n",
    "\n",
    "keyArray = makeKeyArray(rp[0,:])\n",
    "printKeyArray(keyArray); print()\n",
    "\n",
    "keyBinary = makeKeyBinary(rp[0])\n",
    "print(f\"{keyBinary:042o}\")"
   ]
  },
  {
   "cell_type": "markdown",
   "id": "1382c19d",
   "metadata": {},
   "source": [
    "This is better, but it is still not very fast. Since we want to be able to run millions of particles and need to do this every time step, there is a permium on speed.\n",
    "\n",
    "Here is a method which uses only one loop, over dimension:"
   ]
  },
  {
   "cell_type": "code",
   "execution_count": null,
   "id": "d8d48b22",
   "metadata": {},
   "outputs": [],
   "source": [
    "# some constants\n",
    "m1  = 0x3ffffffffff\n",
    "c64 = 0x3ff0000000000000000ffffffff\n",
    "c32 = 0x3ff00000000ffff00000000ffff\n",
    "c16 = 0x30000ff0000ff0000ff0000ff0000ff\n",
    "c8  = 0x300f00f00f00f00f00f00f00f00f00f\n",
    "c4  = 0x30c30c30c30c30c30c30c30c30c30c3\n",
    "c2  = 0x9249249249249249249249249249249\n",
    "\n",
    "def makeKey(pos):\n",
    "    \"\"\"\n",
    "    Make a morton key as a binary number using bit-twiddling tricks\n",
    "    \"\"\"\n",
    "    # assume that pos is on [0,1)\n",
    "    p = (pos*((1<<42)))\n",
    "    key = 0\n",
    "    for d in range(3):\n",
    "        r = int(p[d])\n",
    "        r &= m1;\n",
    "        r = (r | (r << 64)) & c64\n",
    "        r = (r | (r << 32)) & c32\n",
    "        r = (r | (r << 16)) & c16\n",
    "        r = (r | (r << 8))  & c8\n",
    "        r = (r | (r << 4))  & c4\n",
    "        r = (r | (r << 2))  & c2\n",
    "        key |= (r<<d)\n",
    "    return key"
   ]
  },
  {
   "cell_type": "markdown",
   "id": "5400bac5",
   "metadata": {},
   "source": [
    "Let's make sure all these methods give the same answer!"
   ]
  },
  {
   "cell_type": "code",
   "execution_count": null,
   "id": "c1934914",
   "metadata": {},
   "outputs": [],
   "source": [
    "print(f\"position: {rp[0]}\")\n",
    "\n",
    "keya = makeKeyArray(rp[0]) \n",
    "keyb = makeKeyBinary(rp[0])\n",
    "keyc = makeKey(rp[0])  \n",
    "\n",
    "print(\" array: 0o\",end=\"\")\n",
    "for i in range(42): print(\"{:o}\".format(keya[i]), end=\"\")\n",
    "print()\n",
    "print(\"binary: {:#034o}\".format(keyb))\n",
    "print(\"  fast: {:#034o}\".format(keyc))\n",
    "assert( keyc == keyb )\n",
    "\n",
    "print(\"\\n\")"
   ]
  },
  {
   "cell_type": "markdown",
   "id": "4ddab546",
   "metadata": {},
   "source": [
    "Time the three versions:"
   ]
  },
  {
   "cell_type": "code",
   "execution_count": null,
   "id": "884a189e",
   "metadata": {},
   "outputs": [],
   "source": [
    "%timeit makeKeyArray(rp[0])\n",
    "%timeit makeKeyBinary(rp[0])\n",
    "%timeit makeKey(rp[0])"
   ]
  },
  {
   "cell_type": "markdown",
   "id": "c234ad86",
   "metadata": {},
   "source": [
    "```makeKey``` is clearly the fastest without numba, but it would be better to be able to compile this function.\n",
    "\n",
    "Sadly, we cannot use numba.njit because neither numba nor numpy has support for 128-bit integers. Perhaps cython\n",
    "can be tricked into using 128 integers, but I haven't tried this yet...\n",
    "\n",
    "Numba successfully compiles makeKeyBinary, but it gives the wrong answer!\n",
    "\n",
    "So, we will make the bit-twiddling version into a Morton class for use later. We'll put the scaling onto $[0,1)^3$ into the Morton\n",
    "class itself, and provide a function ```getOct(key,level)``` which returns the oct at level in the key."
   ]
  },
  {
   "cell_type": "code",
   "execution_count": null,
   "id": "9bcbd4a7",
   "metadata": {},
   "outputs": [],
   "source": [
    "class Morton():\n",
    "    \"\"\"\n",
    "    Morton key class for sorting particles according to Z-order\n",
    "    \"\"\"\n",
    "    def __init__(self, boxMin, boxMax):\n",
    "        self.boxMin = boxMin\n",
    "        self.scale = 1/(boxMax - boxMin)\n",
    "        # some constants\n",
    "        self.m1  = 0x3ffffffffff\n",
    "        self.c64 = 0x3ff0000000000000000ffffffff\n",
    "        self.c32 = 0x3ff00000000ffff00000000ffff\n",
    "        self.c16 = 0x30000ff0000ff0000ff0000ff0000ff\n",
    "        self.c8  = 0x300f00f00f00f00f00f00f00f00f00f\n",
    "        self.c4  = 0x30c30c30c30c30c30c30c30c30c30c3\n",
    "        self.c2  = 0x9249249249249249249249249249249\n",
    "\n",
    "        # x-coordinate in Morton key changes most rapidly\n",
    "        self.mask = np.array([ [-1,-1,-1],\n",
    "                               [ 1,-1,-1],\n",
    "                               [-1, 1,-1],\n",
    "                               [ 1, 1,-1],\n",
    "                               [-1,-1, 1],\n",
    "                               [ 1,-1, 1],\n",
    "                               [-1, 1, 1],\n",
    "                               [ 1, 1, 1] ])\n",
    "    def makeKey(self, pos):\n",
    "        \"\"\"\n",
    "        Make a morton key as a binary number using bit-twiddling tricks\n",
    "        \"\"\"\n",
    "        pscaled = (pos-self.boxMin) * self.scale\n",
    "        # assume that pos is on [0,1)\n",
    "        p = (pscaled*((1<<42)))\n",
    "        key = 0\n",
    "        for d in range(3):\n",
    "            r = int(p[d])\n",
    "            r &= self.m1\n",
    "            r = (r | (r << 64)) & self.c64\n",
    "            r = (r | (r << 32)) & self.c32\n",
    "            r = (r | (r << 16)) & self.c16\n",
    "            r = (r | (r << 8))  & self.c8\n",
    "            r = (r | (r << 4))  & self.c4\n",
    "            r = (r | (r << 2))  & self.c2\n",
    "            key |= (r<<d)\n",
    "        return key\n",
    "\n",
    "    # get the octal value for level from key\n",
    "    def getOct(self, key, level):\n",
    "        shr = 123-3*(level)\n",
    "        return (key>>shr)&7\n"
   ]
  },
  {
   "cell_type": "code",
   "execution_count": null,
   "id": "6b1f5e8c",
   "metadata": {},
   "outputs": [],
   "source": [
    "morton = Morton(p.boxMin, p.boxMax)\n",
    "\n",
    "keya = makeKeyArray(rp[0])       # these functions need the scaled coordinates\n",
    "keyb = makeKeyBinary(rp[0])\n",
    "keyc = morton.makeKey(p.pos[0])  # The class does the scaling for us\n",
    "\n",
    "print(\" array: 0o\",end=\"\")\n",
    "for i in range(42): print(\"{:o}\".format(keya[i]), end=\"\")\n",
    "print()\n",
    "print(\"binary: {:#034o}\".format(keyb))\n",
    "print(\"  fast: {:#034o}\".format(keyc))\n",
    "assert( keyc == keyb )\n",
    "\n",
    "print(\"exercise getOct:\")\n",
    "print(\"   rec: 0o\",end=\"\")\n",
    "for i in range(42):\n",
    "    o = morton.getOct(keyc, i)\n",
    "    print(\"{:o}\".format(o),end=\"\")\n",
    "print()"
   ]
  },
  {
   "cell_type": "markdown",
   "id": "3d607b9f",
   "metadata": {},
   "source": [
    "Armed with the ability to make Morton keys, we can create the keys and then use them to sort the particles into Morton order.\n",
    "First make the keys for all particles in our ParticleSet:"
   ]
  },
  {
   "cell_type": "raw",
   "id": "463704e7",
   "metadata": {},
   "source": [
    "morton = Morton(p.boxMin, p.boxMax)\n",
    "\n",
    "keys = np.ones( p.N, dtype=object)\n",
    "for i in range(p.N):\n",
    "    keys[i] = morton.makeKey(p.pos[i])\n",
    "print(f\" {keys[0]:042o}\")"
   ]
  },
  {
   "cell_type": "markdown",
   "id": "f56aa638",
   "metadata": {},
   "source": [
    "To sort on the keys, we will use Numpy's function ```np.argsort```, which returns a permutation vector such that\n",
    "```\n",
    "index = np.argsort(stuff)\n",
    "sortedstuff = stuff[index]\n",
    "```\n",
    "is in sorted order, without changing the order of stuff.\n",
    "\n",
    "If we get the permutation vector from sorting the keys, we can then use it to sort all of the arrays in our particle set.\n",
    "\n",
    "While we are at it, lets compute the reverse permutation which brings everything back to the original order:"
   ]
  },
  {
   "cell_type": "code",
   "execution_count": null,
   "id": "47e47ddc",
   "metadata": {},
   "outputs": [],
   "source": [
    "stuff = rng.rand(10)\n",
    "print(f\"stuff:\\n{stuff}\")\n",
    "index = np.argsort(stuff)\n",
    "print(f\"index:\\n{index}\")\n",
    "sortedstuff = stuff[index]\n",
    "print(f\"sortedstuff:\\n{sortedstuff}\")\n",
    "rindex = np.zeros(10, dtype=np.int32)\n",
    "rindex[index] = np.arange(10)\n",
    "print(f\"rindex:\\n{rindex}\")\n",
    "back = sortedstuff[rindex]\n",
    "print(f\"back:\\n{back}\")\n",
    "np.allclose(stuff, back)"
   ]
  },
  {
   "cell_type": "markdown",
   "id": "807922d1",
   "metadata": {},
   "source": [
    "Doing this for our particle set p, we need to make sure we permute the keys to keep them\n",
    "in the same order as the particles."
   ]
  },
  {
   "cell_type": "code",
   "execution_count": null,
   "id": "79dad776",
   "metadata": {},
   "outputs": [],
   "source": [
    "# sort the keys, finding the permutation\n",
    "index = np.argsort(keys)\n",
    "# get the inverse permutation to put them back\n",
    "rindex = np.empty(N, dtype=np.uint32)\n",
    "rindex[index] = np.arange(N, dtype=np.uint32)\n",
    "\n",
    "# permute the particles and their keys into Morton order\n",
    "p.permute(index)\n",
    "keys[:] = keys[index]\n",
    "\n",
    "# check that the keys are sorted and that the positions are in ascending Morton order\n",
    "for i in range(p.N-1):\n",
    "    assert keys[i+1]>keys[i]\n",
    "    assert morton.makeKey(p.pos[i+1]) > morton.makeKey(p.pos[i]) \n",
    "print(\"OK\")"
   ]
  },
  {
   "cell_type": "markdown",
   "id": "38bddc5e",
   "metadata": {},
   "source": [
    "In the next notebook we will build the tree from these sorted Morton keys."
   ]
  }
 ],
 "metadata": {
  "kernelspec": {
   "display_name": "Python 3",
   "language": "python",
   "name": "python3"
  },
  "language_info": {
   "codemirror_mode": {
    "name": "ipython",
    "version": 3
   },
   "file_extension": ".py",
   "mimetype": "text/x-python",
   "name": "python",
   "nbconvert_exporter": "python",
   "pygments_lexer": "ipython3",
   "version": "3.8.8"
  }
 },
 "nbformat": 4,
 "nbformat_minor": 5
}
