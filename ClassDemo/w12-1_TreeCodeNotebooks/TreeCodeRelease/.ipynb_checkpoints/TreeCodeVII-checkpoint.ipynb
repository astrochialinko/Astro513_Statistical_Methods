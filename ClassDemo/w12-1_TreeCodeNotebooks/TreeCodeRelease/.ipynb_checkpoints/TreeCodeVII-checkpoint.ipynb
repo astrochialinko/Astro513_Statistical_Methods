{
 "cells": [
  {
   "cell_type": "markdown",
   "id": "58737ad0",
   "metadata": {},
   "source": [
    "### Building a Tree Code VII: Colliding Galaxies"
   ]
  },
  {
   "cell_type": "code",
   "execution_count": null,
   "id": "8f55beb7",
   "metadata": {},
   "outputs": [],
   "source": [
    "%matplotlib qt\n",
    "\n",
    "import matplotlib.pyplot as plt\n",
    "from mpl_toolkits import mplot3d\n",
    "import numpy as np\n",
    "from treeclasses import ParticleSet, BHTree, Hamiltonian, State, KDK, Conservation\n",
    "from timerclass import Timer\n",
    "\n",
    "from IPython.core.display import display, HTML\n",
    "display(HTML(\"<style>.container { width:100% !important; }</style>\"))\n",
    "plt.rcParams['figure.dpi'] = 150"
   ]
  },
  {
   "cell_type": "markdown",
   "id": "a51dc337",
   "metadata": {},
   "source": [
    "As an illustrative problem, we'll reproduce a galaxy collision from Dubinski, Mihos, and Hernquist \"Using Tidal Tails to Probe Dark Matter Halos\", 1996 ApJ 462 p. 567. This is their model B. The data containing the initial conditions is in the text file ```dubinski.tab```. \n",
    "\n",
    "This was originally run in 1995 on 16 processors of a Cray T3D supercomputer. The particular machine used had 32 processors, a 150 MHz clock, & 8 GB of RAM. My laptop in 20201 has a clock of 2.3 Ghz, 32 GB of ram, and 16 processors!"
   ]
  },
  {
   "cell_type": "code",
   "execution_count": null,
   "id": "cbb90f6d",
   "metadata": {},
   "outputs": [],
   "source": [
    "with open(\"dubinski.tab\") as f:\n",
    "    data = np.loadtxt(f)\n",
    "print(data.shape)"
   ]
  },
  {
   "cell_type": "code",
   "execution_count": null,
   "id": "61373894",
   "metadata": {},
   "outputs": [],
   "source": [
    "# create a particle set\n",
    "PS = ParticleSet()\n",
    "\n",
    "# allocate storage\n",
    "N = data.shape[0]\n",
    "PS.reserve(N)\n",
    "\n",
    "# copy in the data\n",
    "PS.mass[:] = data[:,0]\n",
    "PS.r[:,:]  = data[:,1:4]\n",
    "PS.v[:,:]  = data[:,4:]\n",
    "\n",
    "# the data consists of sets of particles for the disks, bulges, and halos in each galaxy\n",
    "Ndisk = 16384\n",
    "Nbulge = 8192\n",
    "Nhalo = 16384\n",
    "Ngal = Ndisk+Nbulge+Nhalo\n",
    "assert( Ngal*2 == N )"
   ]
  },
  {
   "cell_type": "markdown",
   "id": "a948c405",
   "metadata": {},
   "source": [
    "Create numpy ranges to use for plotting the two galaxies in different colors. We'll plot only the bulges and disks and leave out the halo particles from the plot. Since the halo particles are really intended to represent the dark matter halo, this gives us an animation which shows the stars (as well as matplotlib can do so!)."
   ]
  },
  {
   "cell_type": "code",
   "execution_count": null,
   "id": "078f2419",
   "metadata": {},
   "outputs": [],
   "source": [
    "disk1 = np.s_[:Ndisk+Nbulge]\n",
    "disk2 = np.s_[Ngal:Ngal+Ndisk+Nbulge]"
   ]
  },
  {
   "cell_type": "markdown",
   "id": "2079bea6",
   "metadata": {},
   "source": [
    "Create a 3D plot to animate using matplotlib:"
   ]
  },
  {
   "cell_type": "code",
   "execution_count": null,
   "id": "7d23701d",
   "metadata": {},
   "outputs": [],
   "source": [
    "PS.computeBoundingBox()\n",
    "centre, halfWidth = PS.getBoundingBox()\n",
    "\n",
    "fig = plt.figure()\n",
    "ax = plt.axes(projection='3d')\n",
    "c, hw = PS.getBoundingBox()\n",
    "ax.set_xlim(c[0]-hw,c[0]+hw)\n",
    "ax.set_ylim(c[0]-hw,c[0]+hw)\n",
    "ax.set_zlim(c[0]-hw,c[0]+hw)\n",
    "ax.set_xlabel('x')\n",
    "ax.set_ylabel('y')\n",
    "ax.set_zlabel('z')\n",
    "\n",
    "plot1, = ax.plot3D(PS.r[disk1,0], PS.r[disk1,1], PS.r[disk1,2], 'b.', alpha=0.05, markersize=0.5)\n",
    "plot2, = ax.plot3D(PS.r[disk2,0], PS.r[disk2,1], PS.r[disk2,2], 'r.', alpha=0.05, markersize=0.5)\n",
    "\n",
    "steptxt = ax.text2D(0.2,1.0, f\"step:    0   time: {0.0:8.2e}\\nerror: E: {0:.2e}  P: {0:.2e}\", transform=ax.transAxes)"
   ]
  },
  {
   "cell_type": "markdown",
   "id": "4a02ded7",
   "metadata": {},
   "source": [
    "and a function to update the animation:"
   ]
  },
  {
   "cell_type": "code",
   "execution_count": null,
   "id": "2cdd7a29",
   "metadata": {},
   "outputs": [],
   "source": [
    "C = Conservation(PS)\n",
    "\n",
    "def updatePlot(S, C, timer):\n",
    "    ps = S.ps\n",
    "    plot1.set_data(ps.r[disk1,0], ps.r[disk1,1]);  plot1.set_3d_properties(ps.r[disk1,2])\n",
    "    plot2.set_data(ps.r[disk2,0], ps.r[disk2,1]);  plot2.set_3d_properties(ps.r[disk2,2])\n",
    "    \n",
    "    K, P, E = C.getEnergy()\n",
    "    # relative error in energy\n",
    "    DErel = (K+P-C.E0)/C.E0\n",
    "    \n",
    "    line = f\"step: {S.step:4d}   time: {S.time:8.2e}   $\\Delta E$: {DErel:.2e}\\n\"\n",
    "    line += f\"rate: {ps.N/timer.elapsed():.2e}\"\n",
    "    steptxt.set_text(line)\n",
    "    \n",
    "    # this updates the animation w/o stealing the window focus\n",
    "    plt.gcf().canvas.draw_idle(); plt.gcf().canvas.start_event_loop(0.001)"
   ]
  },
  {
   "cell_type": "markdown",
   "id": "321f2a49",
   "metadata": {},
   "source": [
    "Set up the system parameters:\n",
    "\n",
    "```\n",
    "maxLeafSize: tree parameter\n",
    "  maxSrcLen: space to reserve for interaction lists\n",
    "      theta: Barnes-Hut accuracy parameter\n",
    "  epsSmooth: Smoothing (softening) parameter for gravity\n",
    "         dt: timestep\n",
    "     nsteps: number of timesteps\n",
    "       skip: number of steps to skip between animation frames\n",
    "```\n",
    "\n",
    "Instantiate the Hamiltonian and State classes, and take an initial zero-timestep step so\n",
    "that the potential of the initial conditions is calculated:"
   ]
  },
  {
   "cell_type": "code",
   "execution_count": null,
   "id": "8d7c6ffe",
   "metadata": {},
   "outputs": [],
   "source": [
    "maxLeafSize = 16\n",
    "maxSrcLen = PS.N\n",
    "theta = 0.7\n",
    "epsSmooth = 0.025\n",
    "dt = 0.1\n",
    "skip = 1\n",
    "\n",
    "H = Hamiltonian(theta, epsSmooth, maxLeafSize, maxSrcLen)\n",
    "S = State(PS, H)\n",
    "\n",
    "S = KDK(0.0, H, S) # take a step w/ dt=0 just to get initial potential\n",
    "C = Conservation(PS)"
   ]
  },
  {
   "cell_type": "markdown",
   "id": "cedb6273",
   "metadata": {},
   "source": [
    "Finally, we can run our simulation!"
   ]
  },
  {
   "cell_type": "code",
   "execution_count": null,
   "id": "7c12b6cc",
   "metadata": {},
   "outputs": [],
   "source": [
    "def runit(S):\n",
    "\n",
    "    timer = Timer()\n",
    "\n",
    "    while(S.time<100.0):\n",
    "\n",
    "        timer.cstart()\n",
    "        S = KDK(dt, H, S)\n",
    "        timer.stop()\n",
    "    \n",
    "        if S.step%skip==0:\n",
    "            updatePlot(S, C, timer)      \n",
    "\n",
    "    updatePlot(S, C, timer)"
   ]
  },
  {
   "cell_type": "code",
   "execution_count": null,
   "id": "a21d2a65",
   "metadata": {},
   "outputs": [],
   "source": [
    "runit(S)"
   ]
  },
  {
   "cell_type": "code",
   "execution_count": null,
   "id": "7780e739",
   "metadata": {},
   "outputs": [],
   "source": []
  },
  {
   "cell_type": "code",
   "execution_count": null,
   "id": "cee9768f",
   "metadata": {},
   "outputs": [],
   "source": []
  }
 ],
 "metadata": {
  "kernelspec": {
   "display_name": "Python 3",
   "language": "python",
   "name": "python3"
  },
  "language_info": {
   "codemirror_mode": {
    "name": "ipython",
    "version": 3
   },
   "file_extension": ".py",
   "mimetype": "text/x-python",
   "name": "python",
   "nbconvert_exporter": "python",
   "pygments_lexer": "ipython3",
   "version": "3.8.8"
  }
 },
 "nbformat": 4,
 "nbformat_minor": 5
}
