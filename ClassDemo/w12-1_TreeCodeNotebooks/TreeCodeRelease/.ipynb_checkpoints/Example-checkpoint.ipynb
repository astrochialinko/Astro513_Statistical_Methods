{
 "cells": [
  {
   "cell_type": "code",
   "execution_count": null,
   "id": "8f55beb7",
   "metadata": {},
   "outputs": [],
   "source": [
    "%matplotlib qt\n",
    "\n",
    "import matplotlib.pyplot as plt\n",
    "import numpy as np\n",
    "from plummer import PlummerModel\n",
    "import numpy.random as rng\n",
    "from treeclasses import ParticleSet, BHTree\n",
    "from timerclass import Timer\n",
    "\n",
    "rng.seed(32410)\n",
    "\n",
    "from IPython.core.display import display, HTML\n",
    "display(HTML(\"<style>.container { width:100% !important; }</style>\"))\n",
    "plt.rcParams['figure.dpi'] = 150"
   ]
  },
  {
   "cell_type": "markdown",
   "id": "f175e648",
   "metadata": {},
   "source": [
    "Test of n-body machinery using a Plummer sphere. The density is given by\n",
    "$$ \\rho(r) = \\frac{3GM}{4\\pi b^3} (r^2+b^2)^{-5/2} $$\n",
    "The dynamical time (the crossing time for an orbit) is\n",
    "$$ t_d = \\sqrt{\\frac{3\\pi}{16G\\rho_0}}$$\n",
    "\n",
    "The timescale for two-body effects to become important if we use a softening length of $\\epsilon$ is\n",
    "$$ t_r = \\frac{N}{8\\ln(R/\\epsilon)} t_c $$"
   ]
  },
  {
   "cell_type": "code",
   "execution_count": null,
   "id": "da83d304",
   "metadata": {},
   "outputs": [],
   "source": [
    "def rho(r, GM, b):\n",
    "    return 3*GM/(4*np.pi*eps) * (r**2 + b**2)**(-2.5)\n",
    "\n",
    "def tDynamical(Grho0):\n",
    "    return np.sqrt( 3*np.pi/(16*Grho0) )\n",
    "\n",
    "def tRelax(rho0, R, eps, N):\n",
    "    tc = tDynamical(rho0)\n",
    "    return N/(8*np.log(R/eps))*tc\n",
    "\n",
    "M = 1\n",
    "b = 1\n",
    "\n",
    "N = 2**16\n",
    "eps = 1e-2\n",
    "R = 1\n",
    "\n",
    "rho0 = rho(0, M, b)\n",
    "print(f\"rho0 = {rho0}\")\n",
    "print(f\"t_d = {tDynamical(rho0)}\")\n",
    "print(f\"t_r = {tRelax(rho0, R, eps, N)}\")"
   ]
  },
  {
   "cell_type": "markdown",
   "id": "644599a3",
   "metadata": {},
   "source": [
    "For these parameters, we would not expect two-body effects to have much effect if we run for less than,\n",
    "say, a dimensionless time $t\\lesssim100$. We won't get much beyond $t=1$ in this exercise."
   ]
  },
  {
   "cell_type": "markdown",
   "id": "0b79c239",
   "metadata": {},
   "source": [
    "We'll use the leapfrog timestepping code from the PIC example:"
   ]
  },
  {
   "cell_type": "code",
   "execution_count": null,
   "id": "ced3647b",
   "metadata": {},
   "outputs": [],
   "source": [
    "class Hamiltonian:\n",
    "    def __init__(self, theta: float, epsSmooth:float, maxLeafSize:int, maxSrcLen:int):\n",
    "        self.theta = theta\n",
    "        self.epsSmooth = epsSmooth\n",
    "        self.maxLeafSize = maxLeafSize\n",
    "        self.maxSrcLen = maxSrcLen\n",
    "        \n",
    "        self.verbose = False\n",
    "        self.check = False\n",
    "        self.getStats = False\n",
    "        \n",
    "    def getAcceleration(self, ps: ParticleSet):\n",
    "        \n",
    "        ps.computeBoundingBox()\n",
    "        \n",
    "        BH = BHTree(ps, maxLeafSize, epsSmooth, maxSources)\n",
    "        BH.makeTree(self.verbose, self.check, self.getStats)\n",
    "        BH.BHsubsets(theta, ps.N)\n",
    "        BH.free() # important to free memory on the C side...\n",
    "        \n",
    "    def positionEquation(self, ps: ParticleSet, newvel: bool) -> np.ndarray :\n",
    "        return ps.v\n",
    "    \n",
    "    def momentumEquation(self, ps: ParticleSet, newacc: bool) -> np.ndarray :\n",
    "        if newacc: self.getAcceleration(ps)\n",
    "        return ps.a\n",
    "    "
   ]
  },
  {
   "cell_type": "code",
   "execution_count": null,
   "id": "5690c1d5",
   "metadata": {},
   "outputs": [],
   "source": [
    "class State:\n",
    "    def __init__(self, time: float, ps: ParticleSet, hamilton: Hamiltonian ):\n",
    "        self.time = time\n",
    "        self.step = 0\n",
    "        self.ps = ps\n",
    "\n",
    "    def kick(self, h, hamilton, recalculate):\n",
    "        # Update velocity \n",
    "        self.ps.v += h * hamilton.momentumEquation(self.ps, recalculate)\n",
    "        return self\n",
    "    \n",
    "    def drift(self, h, hamilton, recalculate):\n",
    "        # Update positions\n",
    "        self.ps.r += h * hamilton.positionEquation(self.ps, recalculate)\n",
    "        return self"
   ]
  },
  {
   "cell_type": "code",
   "execution_count": null,
   "id": "ddc844b0",
   "metadata": {},
   "outputs": [],
   "source": [
    "def KDK(dt: float, hamilton: Hamiltonian, s: State):\n",
    "    s = s.kick(dt/2, hamilton, False).drift(dt, hamilton, False).kick(dt/2, hamilton, True)\n",
    "    s.time += dt\n",
    "    s.step += 1\n",
    "    return s"
   ]
  },
  {
   "cell_type": "markdown",
   "id": "284595e4",
   "metadata": {},
   "source": [
    "Create a function which computes the potential and kinetic energies of the system so we can monitor\n",
    "energy conservation. The factor of 1/2 in the potential energy accounts for the fact that the sum includes the potential of i due to j as well as the potential of j due to i:"
   ]
  },
  {
   "cell_type": "code",
   "execution_count": null,
   "id": "5526dcf6",
   "metadata": {},
   "outputs": [],
   "source": [
    "def getEnergy(ps: ParticleSet):\n",
    "    K = 0.5*np.sum(ps.mass * np.sum(ps.v*ps.v, axis=1))\n",
    "    P = 0.5*np.sum(ps.mass * ps.pot)\n",
    "    return K, P"
   ]
  },
  {
   "cell_type": "markdown",
   "id": "91f41676",
   "metadata": {},
   "source": [
    "We'll create a ParticleSet and fill it with a Plummer model"
   ]
  },
  {
   "cell_type": "code",
   "execution_count": null,
   "id": "545bd16e",
   "metadata": {},
   "outputs": [],
   "source": [
    "N = 2**18\n",
    "PS = ParticleSet()\n",
    "PS.reserve(N)\n",
    "\n",
    "r, v, m = PlummerModel(N)\n",
    "PS.r[:,:] = r\n",
    "PS.v[:,:] = v\n",
    "PS.mass[:] = m"
   ]
  },
  {
   "cell_type": "markdown",
   "id": "86213909",
   "metadata": {},
   "source": [
    "We next set up the problem, using a softening length which is near optimal for this system:"
   ]
  },
  {
   "cell_type": "code",
   "execution_count": null,
   "id": "8d7c6ffe",
   "metadata": {},
   "outputs": [],
   "source": [
    "PS.computeBoundingBox()\n",
    "centre, halfWidth = PS.getBoundingBox()\n",
    "maxLeafSize = 32\n",
    "epsSmooth = 0.98*N**(-0.26) \n",
    "maxSources = N\n",
    "theta = 0.75\n",
    "\n",
    "H = Hamiltonian(theta, epsSmooth, maxLeafSize, maxSources)\n",
    "S = State(0.0, PS, H)\n",
    "\n",
    "# take a step of zero dt just to get the initial potential energy of the system\n",
    "S = KDK(0.0, H, S)\n",
    "K0, P0 = getEnergy(PS)\n",
    "E0 = K0+P0\n",
    "print(K0, E0, P0)\n",
    "\n",
    "# Every sample-th point is to be plotted\n",
    "sample = 10"
   ]
  },
  {
   "cell_type": "markdown",
   "id": "5566fc46",
   "metadata": {},
   "source": [
    "Set up a plot to be animated:"
   ]
  },
  {
   "cell_type": "code",
   "execution_count": null,
   "id": "d09c0842",
   "metadata": {},
   "outputs": [],
   "source": [
    "fig, ax = plt.subplots()\n",
    "axp = ax.twinx()\n",
    "ax.loglog(np.linalg.norm(S.ps.r[::sample,:], axis=1), np.linalg.norm(S.ps.a[::sample,:], axis=1),'r,')\n",
    "axp.loglog(np.linalg.norm(S.ps.r[::sample,:], axis=1), -S.ps.pot[::sample],'r,')\n",
    "\n",
    "accplot, = ax.semilogy([],[],',')\n",
    "potplot, = axp.semilogy([],[],'g,')\n",
    "steptxt = ax.text(0.2,1.1,f\"step: {0:4d}   time: {0:8.2e}\", transform=ax.transAxes)\n",
    "fig.tight_layout()"
   ]
  },
  {
   "cell_type": "markdown",
   "id": "5d6785eb",
   "metadata": {},
   "source": [
    "and a function to update the plot"
   ]
  },
  {
   "cell_type": "code",
   "execution_count": null,
   "id": "1ed4e73f",
   "metadata": {},
   "outputs": [],
   "source": [
    "def updatePlot(S):\n",
    "    K, P = getEnergy(PS)\n",
    "    print(f\"{S.step:4d} {S.time:.4e}  {K:.4e} {P:.4e} {K+P:.4e} {(K+P-E0)/E0:.2e}\")\n",
    "    accplot.set_data(np.linalg.norm(S.ps.r[::sample,:], axis=1), np.linalg.norm(S.ps.a[::sample,:], axis=1))\n",
    "    potplot.set_data(np.linalg.norm(S.ps.r[::sample,:], axis=1), -S.ps.pot[::sample])\n",
    "\n",
    "    steptxt.set_text(f\"step: {S.step:4d}   time: {S.time:8.2e}   E cons: {K+P-E0:.2e}  {(K+P-E0)/E0:.2e}\")\n",
    "    plt.gcf().canvas.draw_idle()\n",
    "    plt.gcf().canvas.start_event_loop(0.001)"
   ]
  },
  {
   "cell_type": "markdown",
   "id": "1600ebe4",
   "metadata": {},
   "source": [
    "Run the simulation! Note that the system appears to be in equilibrium as it satisfied the Virial theorem for stationary distributions: $2T=V$"
   ]
  },
  {
   "cell_type": "code",
   "execution_count": null,
   "id": "02a34cae",
   "metadata": {},
   "outputs": [],
   "source": [
    "dt = 0.01\n",
    "while(S.time<100):\n",
    "    \n",
    "    S = KDK(dt, H, S) # take a KDK step\n",
    "\n",
    "    if S.step%10==0:\n",
    "        updatePlot(S)\n",
    "        \n",
    "K, P = getEnergy(PS)\n",
    "updatePlot(S)"
   ]
  },
  {
   "cell_type": "code",
   "execution_count": null,
   "id": "fb024655",
   "metadata": {},
   "outputs": [],
   "source": []
  },
  {
   "cell_type": "code",
   "execution_count": null,
   "id": "ee252a2e",
   "metadata": {},
   "outputs": [],
   "source": []
  }
 ],
 "metadata": {
  "kernelspec": {
   "display_name": "Python 3",
   "language": "python",
   "name": "python3"
  },
  "language_info": {
   "codemirror_mode": {
    "name": "ipython",
    "version": 3
   },
   "file_extension": ".py",
   "mimetype": "text/x-python",
   "name": "python",
   "nbconvert_exporter": "python",
   "pygments_lexer": "ipython3",
   "version": "3.8.8"
  }
 },
 "nbformat": 4,
 "nbformat_minor": 5
}
