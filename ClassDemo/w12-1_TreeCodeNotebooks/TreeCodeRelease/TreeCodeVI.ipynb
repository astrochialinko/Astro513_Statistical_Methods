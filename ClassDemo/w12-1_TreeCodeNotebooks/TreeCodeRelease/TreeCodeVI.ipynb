{
 "cells": [
  {
   "cell_type": "markdown",
   "id": "5fa2dc58",
   "metadata": {},
   "source": [
    "### Building a Tree Code VI: A Plummer Model"
   ]
  },
  {
   "cell_type": "code",
   "execution_count": null,
   "id": "8f55beb7",
   "metadata": {},
   "outputs": [],
   "source": [
    "%matplotlib qt\n",
    "\n",
    "import matplotlib.pyplot as plt\n",
    "import numpy as np\n",
    "from timerclass import Timer\n",
    "\n",
    "from plummer import PlummerModel\n",
    "from treeclasses import ParticleSet, BHTree\n",
    "\n",
    "#import numpy.random as rng\n",
    "#rng.seed(32410)\n",
    "\n",
    "from IPython.core.display import display, HTML\n",
    "display(HTML(\"<style>.container { width:100% !important; }</style>\"))\n",
    "plt.rcParams['figure.dpi'] = 150"
   ]
  },
  {
   "cell_type": "markdown",
   "id": "f175e648",
   "metadata": {},
   "source": [
    "Test of n-body machinery using a Plummer sphere. The density is given by\n",
    "$$ \\rho(r) = \\frac{3GM}{4\\pi b^3} (r^2+b^2)^{-5/2} $$\n",
    "The dynamical time (the crossing time for an orbit) is\n",
    "$$ t_d = \\sqrt{\\frac{3\\pi}{16G\\rho_0}}$$\n",
    "\n",
    "The timescale for two-body effects to become important if we use a softening length of $\\epsilon$ is\n",
    "$$ t_r = \\frac{N}{8\\ln(R/\\epsilon)} t_c $$"
   ]
  },
  {
   "cell_type": "code",
   "execution_count": null,
   "id": "da83d304",
   "metadata": {},
   "outputs": [],
   "source": [
    "def rho(r, GM, b):\n",
    "    return 3*GM/(4*np.pi*eps) * (r**2 + b**2)**(-2.5)\n",
    "\n",
    "def tDynamical(Grho0):\n",
    "    return np.sqrt( 3*np.pi/(16*Grho0) )\n",
    "\n",
    "def tRelax(rho0, R, eps, N):\n",
    "    tc = tDynamical(rho0)\n",
    "    return N/(8*np.log(R/eps))*tc\n",
    "\n",
    "M = 1\n",
    "b = 1\n",
    "\n",
    "N = 2**16\n",
    "eps = 1e-2\n",
    "R = 1\n",
    "\n",
    "rho0 = rho(0, M, b)\n",
    "print(f\"rho0 = {rho0}\")\n",
    "print(f\"t_d = {tDynamical(rho0)}\")\n",
    "print(f\"t_r = {tRelax(rho0, R, eps, N)}\")"
   ]
  },
  {
   "cell_type": "markdown",
   "id": "644599a3",
   "metadata": {},
   "source": [
    "For these parameters, we would not expect two-body effects to have much effect if we run for less than,\n",
    "say, a dimensionless time $t\\lesssim100$. We won't get much beyond $t=1$ in this exercise."
   ]
  },
  {
   "cell_type": "markdown",
   "id": "0b79c239",
   "metadata": {},
   "source": [
    "To run an NBody calculation, we need a time-integration framework. We will start with a container for the state of the system, the time, position, velocities, *etc.* It seemed logical to include routines here for the kick and drift operators, using another class (referenced here as hamilton) to solve for the right-hand sides, just as we did in our previous ODE solvers.\n",
    "\n",
    "The particles will be in a ParticleSet, here given as the argument ps:"
   ]
  },
  {
   "cell_type": "code",
   "execution_count": null,
   "id": "39b4649d",
   "metadata": {},
   "outputs": [],
   "source": [
    "class State:\n",
    "    def __init__(self, ps, hamilton ):\n",
    "        self.time = 0.0\n",
    "        self.step = 0\n",
    "        self.ps = ps\n",
    "        \n",
    "    def kick(self, h, hamilton, recalculate):\n",
    "        # Update velocity \n",
    "        self.ps.v += h * hamilton.momentumEquation(self.ps, recalculate)\n",
    "        return self\n",
    "    \n",
    "    def drift(self, h, hamilton, recalculate):\n",
    "        # Update positions\n",
    "        self.ps.r += h * hamilton.positionEquation(self.ps, recalculate)\n",
    "        return self"
   ]
  },
  {
   "cell_type": "markdown",
   "id": "14a3012b",
   "metadata": {},
   "source": [
    "The Hamiltonian then solves for the acceleration given the state, implementing the functions used by State to implement kick and drift. Solving for the acceleration is done using the Barnes-Hut tree walk from treeclasses.py, the wrapper of the C++ inplementation of Barnes-Hut. (If you get an error about opening a shared object file when executing below, you will need to type \"make lib\" in the directory where treeclasses.py is located.)\n",
    "\n",
    "One can set the ```verbose``` flag to true to get information on the tree build, ```check``` to true to check that the tree build was correct, and  ```getStats``` to print information on the interaction lists."
   ]
  },
  {
   "cell_type": "code",
   "execution_count": null,
   "id": "1081ebd1",
   "metadata": {},
   "outputs": [],
   "source": [
    "class Hamiltonian:\n",
    "    def __init__(self, theta, epsSmooth, maxLeafSize, maxSrcLen):\n",
    "        self.theta = theta\n",
    "        self.epsSmooth = epsSmooth\n",
    "        self.maxLeafSize = maxLeafSize\n",
    "        self.maxSrcLen = maxSrcLen\n",
    "        \n",
    "        self.verbose = False\n",
    "        self.check = False\n",
    "        self.getStats = False\n",
    "        \n",
    "    def getAcceleration(self, ps):\n",
    "        \n",
    "        ps.computeBoundingBox()\n",
    "        center, halfWidth = ps.getBoundingBox()\n",
    "        \n",
    "        BH = BHTree(ps, self.maxLeafSize, self.epsSmooth, self.maxSrcLen)\n",
    "\n",
    "        BH.makeTree(self.verbose, self.check, self.getStats)\n",
    "\n",
    "        BH.BHsubsets(theta, ps.N)     # use leaves as sink sets\n",
    "        #BH.accAll(theta)             # use single particles as sinks\n",
    "        \n",
    "        BH.putParticlesInOriginalOrder()  # so we know which particles are which galaxy\n",
    "        \n",
    "        BH.free()                         # important to free memory on the C side...\n",
    "        \n",
    "    def positionEquation(self, ps, newvel):\n",
    "        return ps.v\n",
    "    \n",
    "    def momentumEquation(self, ps, newacc):\n",
    "        if newacc: self.getAcceleration(ps)\n",
    "        return ps.a"
   ]
  },
  {
   "cell_type": "markdown",
   "id": "a71372ad",
   "metadata": {},
   "source": [
    "With these two classes, it is simple to implement leapfrog as the product of kick and drift operators:"
   ]
  },
  {
   "cell_type": "code",
   "execution_count": null,
   "id": "bee334d2",
   "metadata": {},
   "outputs": [],
   "source": [
    "def KDK(dt, hamilton, s):\n",
    "    s = s.kick(dt/2, hamilton, False).drift(dt, hamilton, False).kick(dt/2, hamilton, True)\n",
    "    s.time += dt\n",
    "    s.step += 1\n",
    "    return s"
   ]
  },
  {
   "cell_type": "markdown",
   "id": "d396f7a1",
   "metadata": {},
   "source": [
    "Here is a class to compute the total kinetic and potential energies. We'll use this to keep track of conservation of energy as the simulation proceeds."
   ]
  },
  {
   "cell_type": "code",
   "execution_count": null,
   "id": "8434d0f5",
   "metadata": {},
   "outputs": [],
   "source": [
    "class Conservation:\n",
    "    def __init__(self, ps):\n",
    "        self.ps = ps\n",
    "        self.K0, self.P0, self.E0 = self.getEnergy()\n",
    "\n",
    "    def getEnergy(self):\n",
    "        K = 0.5*np.sum(self.ps.mass * np.sum(self.ps.v**2, axis=1))\n",
    "        P = 0.5*np.sum(self.ps.mass * self.ps.pot)\n",
    "        return K, P, K+P"
   ]
  },
  {
   "cell_type": "markdown",
   "id": "91f41676",
   "metadata": {},
   "source": [
    "With these, we are now ready to create a ParticleSet and fill it with a Plummer model. We'll choose 256K particles to begin\n",
    "with:"
   ]
  },
  {
   "cell_type": "code",
   "execution_count": null,
   "id": "545bd16e",
   "metadata": {},
   "outputs": [],
   "source": [
    "N = 2**18\n",
    "PS = ParticleSet()\n",
    "PS.reserve(N)\n",
    "\n",
    "r, v, m = PlummerModel(N)\n",
    "PS.r[:,:] = r\n",
    "PS.v[:,:] = v\n",
    "PS.mass[:] = m"
   ]
  },
  {
   "cell_type": "markdown",
   "id": "86213909",
   "metadata": {},
   "source": [
    "We next set up the problem, using a softening length which is near optimal for this system:"
   ]
  },
  {
   "cell_type": "code",
   "execution_count": null,
   "id": "8d7c6ffe",
   "metadata": {},
   "outputs": [],
   "source": [
    "PS.computeBoundingBox()\n",
    "centre, halfWidth = PS.getBoundingBox()\n",
    "maxLeafSize = 32\n",
    "epsSmooth = 0.98*PS.N**(-0.26) \n",
    "maxSources = N\n",
    "theta = 0.75\n",
    "\n",
    "H = Hamiltonian(theta, epsSmooth, maxLeafSize, maxSources)\n",
    "S = State(PS, H)\n",
    "\n",
    "# take a step of zero time just to get the initial potential energy of the system\n",
    "S = KDK(0.0, H, S)\n",
    "C = Conservation(PS)\n",
    "print(f\"kinetic energy: {C.K0:.4e}, potential energy: {C.P0:.4e}, total energy: {C.E0:.4e}\")"
   ]
  },
  {
   "cell_type": "markdown",
   "id": "5566fc46",
   "metadata": {},
   "source": [
    "Note that he virial theorem is nearly satisfied by our Monte Carlo realization of a Plummer model.\n",
    "\n",
    "Set up a plot to be animated. The particle accelerations and potentials for the initial conditions are\n",
    "plotted in red, while those computed at the current timestep will be plotted in blue.\n",
    "\n",
    "To make the plotting faster, we plot only every ```sample```-th point:"
   ]
  },
  {
   "cell_type": "code",
   "execution_count": null,
   "id": "d09c0842",
   "metadata": {},
   "outputs": [],
   "source": [
    "sample = 10\n",
    "\n",
    "fig, ax = plt.subplots()\n",
    "axp = ax.twinx()\n",
    "ax.loglog(np.linalg.norm(S.ps.r[::sample,:], axis=1), np.linalg.norm(S.ps.a[::sample,:], axis=1),'r,')\n",
    "axp.loglog(np.linalg.norm(S.ps.r[::sample,:], axis=1), -S.ps.pot[::sample],'r,')\n",
    "\n",
    "accplot, = ax.semilogy([],[],',')\n",
    "potplot, = axp.semilogy([],[],'g,')\n",
    "steptxt = ax.text(0.2,1.1,f\"step: {0:4d}   time: {0:8.2e}\", transform=ax.transAxes)\n",
    "fig.tight_layout()"
   ]
  },
  {
   "cell_type": "markdown",
   "id": "5d6785eb",
   "metadata": {},
   "source": [
    "Here is a function to update the plot after each timestep"
   ]
  },
  {
   "cell_type": "code",
   "execution_count": null,
   "id": "1ed4e73f",
   "metadata": {},
   "outputs": [],
   "source": [
    "def updatePlot(S):\n",
    "    K, P, E = C.getEnergy()\n",
    "    print(f\"{S.step:4d} {S.time:.4e}  {K:.4e} {P:.4e} {E:.4e} {(E-C.E0)/C.E0:.2e}\")\n",
    "    accplot.set_data(np.linalg.norm(S.ps.r[::sample,:], axis=1), np.linalg.norm(S.ps.a[::sample,:], axis=1))\n",
    "    potplot.set_data(np.linalg.norm(S.ps.r[::sample,:], axis=1), -S.ps.pot[::sample])\n",
    "\n",
    "    steptxt.set_text(f\"step: {S.step:4d}   time: {S.time:8.2e}   E cons: {E-C.E0:.2e}  {(E-C.E0)/C.E0:.2e}\")\n",
    "    plt.gcf().canvas.draw_idle()\n",
    "    plt.gcf().canvas.start_event_loop(0.001)"
   ]
  },
  {
   "cell_type": "markdown",
   "id": "1600ebe4",
   "metadata": {},
   "source": [
    "Run the simulation! We expect this system to be nearly in equilibrium, so we don't expect much evolution."
   ]
  },
  {
   "cell_type": "code",
   "execution_count": null,
   "id": "02a34cae",
   "metadata": {},
   "outputs": [],
   "source": [
    "print(\"step    time        K           P           E           dE\")\n",
    "\n",
    "dt = 0.01\n",
    "while(S.time<100):\n",
    "    \n",
    "    S = KDK(dt, H, S) # take a KDK step\n",
    "\n",
    "    if S.step%10==0:\n",
    "        updatePlot(S)\n",
    "        \n",
    "K, P, E = C.getEnergy(PS)\n",
    "updatePlot(S)"
   ]
  }
 ],
 "metadata": {
  "kernelspec": {
   "display_name": "Python 3",
   "language": "python",
   "name": "python3"
  },
  "language_info": {
   "codemirror_mode": {
    "name": "ipython",
    "version": 3
   },
   "file_extension": ".py",
   "mimetype": "text/x-python",
   "name": "python",
   "nbconvert_exporter": "python",
   "pygments_lexer": "ipython3",
   "version": "3.8.8"
  }
 },
 "nbformat": 4,
 "nbformat_minor": 5
}
